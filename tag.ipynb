{
 "cells": [
  {
   "cell_type": "code",
   "execution_count": 1,
   "metadata": {},
   "outputs": [],
   "source": [
    "from cadcad.spaces import space\n",
    "from cadcad.dynamics import block\n",
    "from cadcad.spaces import Bit, Real, Integer, EmptySpace\n",
    "from cadcad.points import Point\n",
    "from cadcad.systems import Experiment\n",
    "from copy import deepcopy\n",
    "import numpy as np\n",
    "import pandas as pd\n",
    "import matplotlib.pyplot as plt"
   ]
  },
  {
   "cell_type": "code",
   "execution_count": 2,
   "metadata": {},
   "outputs": [
    {
     "name": "stdout",
     "output_type": "stream",
     "text": [
      "Space Bit has dimensions {'bit': 'bool'}\n"
     ]
    }
   ],
   "source": [
    "print(Bit)"
   ]
  },
  {
   "cell_type": "markdown",
   "metadata": {},
   "source": [
    "In this notebook i will make a discrete time variant of a homocidal chaufeur"
   ]
  },
  {
   "cell_type": "code",
   "execution_count": 3,
   "metadata": {},
   "outputs": [
    {
     "name": "stdout",
     "output_type": "stream",
     "text": [
      "Space Particle has dimensions {'pos': 'CartesianPlane', 'vel': 'CartesianPlane', 'maxspeed': 'float'}\n"
     ]
    },
    {
     "data": {
      "text/plain": [
       "{'pos': {'x': 'float', 'y': 'float'},\n",
       " 'vel': {'dx': 'float', 'dy': 'float'},\n",
       " 'maxspeed': 'float'}"
      ]
     },
     "execution_count": 3,
     "metadata": {},
     "output_type": "execute_result"
    }
   ],
   "source": [
    "\n",
    "@space\n",
    "class CartesianPlane:\n",
    "    x:float\n",
    "    y:float\n",
    "\n",
    "CartesianPlaneDot = CartesianPlane.rename_dims({'x':'dx', 'y':'dy'})\n",
    "\n",
    "@space\n",
    "class Particle:\n",
    "    pos:CartesianPlane\n",
    "    vel:CartesianPlaneDot\n",
    "    # used to encode a constraint\n",
    "    #but this is exactly the kind of thing\n",
    "    #i would like to push into the model params\n",
    "    maxspeed : float\n",
    "\n",
    "#this block serves as a kind of constraint checker for Particle\n",
    "#i would like to be able to assign this block to the Space Paricle\n",
    "#as a builtin constraint\n",
    "@block\n",
    "def isValidParticle(domain:Point[Particle])-> Point[Bit]:\n",
    "    input = deepcopy(domain)\n",
    "    dx= input['vel']['dx']\n",
    "    dy= input['vel']['dy']\n",
    "\n",
    "    vmax = input['maxspeed']\n",
    "\n",
    "    output = {'bit':bool(dx**2+dy**2<=vmax**2)}\n",
    "\n",
    "    return Point(Bit, output)\n",
    "\n",
    "@block\n",
    "def projectValidParticle(domain:Point[Particle])-> Point[Particle]:\n",
    "    input = deepcopy(domain)\n",
    "\n",
    "    bit = isValidParticle(input)\n",
    "    output = input\n",
    "    if not(bit['bit']):\n",
    "        dx= input['vel']['dx']\n",
    "        dy= input['vel']['dy']\n",
    "        magnitude = np.sqrt(dx**2+dy**2)\n",
    "        output['vel']['dx'] = input['maxspeed']*dx/magnitude\n",
    "        output['vel']['dy'] = input['maxspeed']*dy/magnitude\n",
    "      \n",
    "    return output\n",
    "\n",
    "\n",
    "print(Particle)\n",
    "Particle.unroll_schema()"
   ]
  },
  {
   "cell_type": "code",
   "execution_count": 4,
   "metadata": {},
   "outputs": [
    {
     "data": {
      "text/plain": [
       "{'pos': 'CartesianPlane', 'vel': 'CartesianPlane', 'maxspeed': 'float'}"
      ]
     },
     "execution_count": 4,
     "metadata": {},
     "output_type": "execute_result"
    }
   ],
   "source": [
    "Particle.dimensions()"
   ]
  },
  {
   "cell_type": "code",
   "execution_count": 5,
   "metadata": {},
   "outputs": [
    {
     "data": {
      "text/plain": [
       "{'dx': 'float', 'dy': 'float'}"
      ]
     },
     "execution_count": 5,
     "metadata": {},
     "output_type": "execute_result"
    }
   ],
   "source": [
    "CartesianPlaneDot.unroll_schema()"
   ]
  },
  {
   "cell_type": "code",
   "execution_count": 6,
   "metadata": {},
   "outputs": [],
   "source": [
    "initAlice = Point(Particle, {'pos': {'x': 1.0, 'y': 1.0},\n",
    " 'vel': {'dx': -.2, 'dy': .2}, 'maxspeed':.2})"
   ]
  },
  {
   "cell_type": "code",
   "execution_count": 7,
   "metadata": {},
   "outputs": [
    {
     "name": "stdout",
     "output_type": "stream",
     "text": [
      "Point in space Particle has data\n",
      "{\n",
      "    \"pos\": {\n",
      "        \"x\": 1.0,\n",
      "        \"y\": 1.0\n",
      "    },\n",
      "    \"vel\": {\n",
      "        \"dx\": -0.2,\n",
      "        \"dy\": 0.2\n",
      "    },\n",
      "    \"maxspeed\": 0.2\n",
      "}\n",
      "\n"
     ]
    }
   ],
   "source": [
    "print(initAlice)"
   ]
  },
  {
   "cell_type": "code",
   "execution_count": 8,
   "metadata": {},
   "outputs": [
    {
     "data": {
      "text/plain": [
       "0.9999999999999999"
      ]
     },
     "execution_count": 8,
     "metadata": {},
     "output_type": "execute_result"
    }
   ],
   "source": [
    "np.sqrt(.7071067811865475**2+.7071067811865475**2)\n"
   ]
  },
  {
   "cell_type": "code",
   "execution_count": 9,
   "metadata": {},
   "outputs": [
    {
     "name": "stdout",
     "output_type": "stream",
     "text": [
      "Point in space Bit has data\n",
      "{\n",
      "    \"bit\": false\n",
      "}\n",
      "\n"
     ]
    }
   ],
   "source": [
    "print(isValidParticle(initAlice))"
   ]
  },
  {
   "cell_type": "code",
   "execution_count": 10,
   "metadata": {},
   "outputs": [
    {
     "name": "stdout",
     "output_type": "stream",
     "text": [
      "Point in space Particle has data\n",
      "{\n",
      "    \"pos\": {\n",
      "        \"x\": 1.0,\n",
      "        \"y\": 1.0\n",
      "    },\n",
      "    \"vel\": {\n",
      "        \"dx\": -0.1414213562373095,\n",
      "        \"dy\": 0.1414213562373095\n",
      "    },\n",
      "    \"maxspeed\": 0.2\n",
      "}\n",
      "\n"
     ]
    }
   ],
   "source": [
    "print(projectValidParticle(initAlice))"
   ]
  },
  {
   "cell_type": "code",
   "execution_count": 11,
   "metadata": {},
   "outputs": [
    {
     "name": "stdout",
     "output_type": "stream",
     "text": [
      "Point in space Particle has data\n",
      "{\n",
      "    \"pos\": {\n",
      "        \"x\": 1.0,\n",
      "        \"y\": 1.0\n",
      "    },\n",
      "    \"vel\": {\n",
      "        \"dx\": -0.1414213562373095,\n",
      "        \"dy\": 0.1414213562373095\n",
      "    },\n",
      "    \"maxspeed\": 0.2\n",
      "}\n",
      "\n"
     ]
    }
   ],
   "source": [
    "validInitAlice = deepcopy(projectValidParticle(initAlice))\n",
    "#desirable UX\n",
    "# validInitAlice = initAlice.apply(projectValidParticle)\n",
    "print(validInitAlice)"
   ]
  },
  {
   "cell_type": "code",
   "execution_count": 12,
   "metadata": {},
   "outputs": [
    {
     "name": "stdout",
     "output_type": "stream",
     "text": [
      "Point in space Particle has data\n",
      "{\n",
      "    \"pos\": {\n",
      "        \"x\": 1.0,\n",
      "        \"y\": 1.0\n",
      "    },\n",
      "    \"vel\": {\n",
      "        \"dx\": -0.2,\n",
      "        \"dy\": 0.2\n",
      "    },\n",
      "    \"maxspeed\": 0.2\n",
      "}\n",
      "\n"
     ]
    }
   ],
   "source": [
    "print(initAlice)"
   ]
  },
  {
   "cell_type": "code",
   "execution_count": 13,
   "metadata": {},
   "outputs": [
    {
     "data": {
      "text/plain": [
       "{'ddx': 'float', 'ddy': 'float'}"
      ]
     },
     "execution_count": 13,
     "metadata": {},
     "output_type": "execute_result"
    }
   ],
   "source": [
    "Acc = CartesianPlane.rename_dims({'x':'ddx', 'y':'ddy'})\n",
    "Acc.unroll_schema()"
   ]
  },
  {
   "cell_type": "code",
   "execution_count": 14,
   "metadata": {},
   "outputs": [
    {
     "data": {
      "text/plain": [
       "{'particle': {'pos': {'x': 'float', 'y': 'float'},\n",
       "  'vel': {'dx': 'float', 'dy': 'float'},\n",
       "  'maxspeed': 'float'},\n",
       " 'acc': {'ddx': 'float', 'ddy': 'float'}}"
      ]
     },
     "execution_count": 14,
     "metadata": {},
     "output_type": "execute_result"
    }
   ],
   "source": [
    "AliceUpdateDomain = (Particle * Acc).rename_dims({'cartesianplane':\"acc\"})\n",
    "AliceUpdateDomain.unroll_schema()"
   ]
  },
  {
   "cell_type": "code",
   "execution_count": 15,
   "metadata": {},
   "outputs": [],
   "source": [
    "@block\n",
    "def particleSubspace(domain: Point[AliceUpdateDomain])-> Point[Particle]:\n",
    "    input = deepcopy(domain)\n",
    "    return Point(Particle, input.data['particle'])"
   ]
  },
  {
   "cell_type": "code",
   "execution_count": 16,
   "metadata": {},
   "outputs": [],
   "source": [
    "\n",
    "@block\n",
    "def aliceUpdate(domain:Point[AliceUpdateDomain])-> Point[Particle]:\n",
    "    input = deepcopy(domain)\n",
    "    output = particleSubspace(input)\n",
    "\n",
    "    output['pos']['x']  += input['particle']['vel']['dx']\n",
    "    output['pos']['y']  += input['particle']['vel']['dy']\n",
    "\n",
    "    output['vel']['dx']  += input['acc']['ddx']\n",
    "    output['vel']['dy']  += input['acc']['ddy']\n",
    "\n",
    "    output = projectValidParticle(output)\n",
    "\n",
    "    return output\n",
    "    "
   ]
  },
  {
   "cell_type": "code",
   "execution_count": 17,
   "metadata": {},
   "outputs": [],
   "source": [
    "import json\n",
    "def printPretty(nestedDict,sort_keys=True, indent=4):\n",
    "    print(json.dumps(nestedDict,sort_keys=sort_keys, indent=indent))"
   ]
  },
  {
   "cell_type": "code",
   "execution_count": 18,
   "metadata": {},
   "outputs": [
    {
     "name": "stdout",
     "output_type": "stream",
     "text": [
      "{\n",
      "    \"acc\": {\n",
      "        \"ddx\": \"float\",\n",
      "        \"ddy\": \"float\"\n",
      "    },\n",
      "    \"particle\": {\n",
      "        \"maxspeed\": \"float\",\n",
      "        \"pos\": {\n",
      "            \"x\": \"float\",\n",
      "            \"y\": \"float\"\n",
      "        },\n",
      "        \"vel\": {\n",
      "            \"dx\": \"float\",\n",
      "            \"dy\": \"float\"\n",
      "        }\n",
      "    }\n",
      "}\n"
     ]
    }
   ],
   "source": [
    "alice_acc_data = {'acc':{'ddx':-.5, 'ddy':-.1 }}\n",
    "alice_acc_data['particle'] = deepcopy(validInitAlice.data)\n",
    "printPretty(AliceUpdateDomain.unroll_schema())"
   ]
  },
  {
   "cell_type": "code",
   "execution_count": 19,
   "metadata": {},
   "outputs": [
    {
     "name": "stdout",
     "output_type": "stream",
     "text": [
      "{\n",
      "    \"acc\": {\n",
      "        \"ddx\": -0.5,\n",
      "        \"ddy\": -0.1\n",
      "    },\n",
      "    \"particle\": {\n",
      "        \"maxspeed\": 0.2,\n",
      "        \"pos\": {\n",
      "            \"x\": 1.0,\n",
      "            \"y\": 1.0\n",
      "        },\n",
      "        \"vel\": {\n",
      "            \"dx\": -0.1414213562373095,\n",
      "            \"dy\": 0.1414213562373095\n",
      "        }\n",
      "    }\n",
      "}\n"
     ]
    }
   ],
   "source": [
    "printPretty(alice_acc_data)"
   ]
  },
  {
   "cell_type": "code",
   "execution_count": 20,
   "metadata": {},
   "outputs": [],
   "source": [
    "alice_update_input = Point(AliceUpdateDomain, alice_acc_data)"
   ]
  },
  {
   "cell_type": "code",
   "execution_count": 21,
   "metadata": {},
   "outputs": [
    {
     "name": "stdout",
     "output_type": "stream",
     "text": [
      "Point in space Particle*CartesianPlane has data\n",
      "{\n",
      "    \"acc\": {\n",
      "        \"ddx\": -0.5,\n",
      "        \"ddy\": -0.1\n",
      "    },\n",
      "    \"particle\": {\n",
      "        \"pos\": {\n",
      "            \"x\": 1.0,\n",
      "            \"y\": 1.0\n",
      "        },\n",
      "        \"vel\": {\n",
      "            \"dx\": -0.1414213562373095,\n",
      "            \"dy\": 0.1414213562373095\n",
      "        },\n",
      "        \"maxspeed\": 0.2\n",
      "    }\n",
      "}\n",
      "\n"
     ]
    }
   ],
   "source": [
    "print(alice_update_input)"
   ]
  },
  {
   "cell_type": "code",
   "execution_count": 22,
   "metadata": {},
   "outputs": [
    {
     "name": "stdout",
     "output_type": "stream",
     "text": [
      "Point in space Particle has data\n",
      "{\n",
      "    \"pos\": {\n",
      "        \"x\": 1.0,\n",
      "        \"y\": 1.0\n",
      "    },\n",
      "    \"vel\": {\n",
      "        \"dx\": -0.2,\n",
      "        \"dy\": 0.2\n",
      "    },\n",
      "    \"maxspeed\": 0.2\n",
      "}\n",
      "\n"
     ]
    }
   ],
   "source": [
    "alice_new = deepcopy(aliceUpdate(alice_update_input))\n",
    "print(initAlice)"
   ]
  },
  {
   "cell_type": "code",
   "execution_count": 23,
   "metadata": {},
   "outputs": [
    {
     "name": "stdout",
     "output_type": "stream",
     "text": [
      "Point in space Particle has data\n",
      "{\n",
      "    \"pos\": {\n",
      "        \"x\": 1.0,\n",
      "        \"y\": 1.0\n",
      "    },\n",
      "    \"vel\": {\n",
      "        \"dx\": -0.1414213562373095,\n",
      "        \"dy\": 0.1414213562373095\n",
      "    },\n",
      "    \"maxspeed\": 0.2\n",
      "}\n",
      "\n"
     ]
    }
   ],
   "source": [
    "print(validInitAlice)"
   ]
  },
  {
   "cell_type": "code",
   "execution_count": 24,
   "metadata": {},
   "outputs": [
    {
     "name": "stdout",
     "output_type": "stream",
     "text": [
      "Point in space Particle has data\n",
      "{\n",
      "    \"pos\": {\n",
      "        \"x\": 0.8585786437626906,\n",
      "        \"y\": 1.1414213562373094\n",
      "    },\n",
      "    \"vel\": {\n",
      "        \"dx\": -0.1995842750873474,\n",
      "        \"dy\": 0.012888643755571487\n",
      "    },\n",
      "    \"maxspeed\": 0.2\n",
      "}\n",
      "\n"
     ]
    }
   ],
   "source": [
    "print(alice_new)"
   ]
  },
  {
   "cell_type": "code",
   "execution_count": 25,
   "metadata": {},
   "outputs": [
    {
     "data": {
      "text/plain": [
       "{'ddx': 'float', 'ddy': 'float'}"
      ]
     },
     "execution_count": 25,
     "metadata": {},
     "output_type": "execute_result"
    }
   ],
   "source": [
    "Acc.unroll_schema()"
   ]
  },
  {
   "cell_type": "code",
   "execution_count": 26,
   "metadata": {},
   "outputs": [],
   "source": [
    "@block\n",
    "def randomWalk(domain:Point[EmptySpace])-> Point[Acc]:\n",
    "    data = {}\n",
    "    data['ddx'] = .005+np.random.randn()/5.0\n",
    "    data['ddy'] = .005+np.random.randn()/5.0\n",
    "\n",
    "    return Point(Acc, data)"
   ]
  },
  {
   "cell_type": "code",
   "execution_count": 27,
   "metadata": {},
   "outputs": [],
   "source": [
    "emptyPoint = Point(EmptySpace,{})"
   ]
  },
  {
   "cell_type": "code",
   "execution_count": 28,
   "metadata": {},
   "outputs": [],
   "source": [
    "sample_acc = randomWalk(emptyPoint)"
   ]
  },
  {
   "cell_type": "code",
   "execution_count": 29,
   "metadata": {},
   "outputs": [
    {
     "name": "stdout",
     "output_type": "stream",
     "text": [
      "Point in space CartesianPlane has data\n",
      "{\n",
      "    \"ddx\": -0.24103795785392063,\n",
      "    \"ddy\": -0.28763108900799916\n",
      "}\n",
      "\n"
     ]
    }
   ],
   "source": [
    "print(sample_acc)"
   ]
  },
  {
   "cell_type": "code",
   "execution_count": 30,
   "metadata": {},
   "outputs": [
    {
     "data": {
      "text/plain": [
       "{'pos': {'x': 1.0, 'y': 1.0}, 'vel': {'dx': -0.2, 'dy': 0.2}, 'maxspeed': 0.2}"
      ]
     },
     "execution_count": 30,
     "metadata": {},
     "output_type": "execute_result"
    }
   ],
   "source": [
    "initAlice.data"
   ]
  },
  {
   "cell_type": "code",
   "execution_count": 31,
   "metadata": {},
   "outputs": [],
   "source": [
    "@block\n",
    "def aliceDynamics(domain:Point[Particle])->Point[Particle]:\n",
    "    alice = deepcopy(domain)\n",
    "    acc = randomWalk(emptyPoint)\n",
    "    \n",
    "    arg_data = {}\n",
    "    arg_data['particle'] = alice.data\n",
    "    arg_data['acc'] = acc.data\n",
    "\n",
    "    args = Point(AliceUpdateDomain, arg_data)\n",
    "\n",
    "    output = aliceUpdate(args)\n",
    "\n",
    "    return output"
   ]
  },
  {
   "cell_type": "code",
   "execution_count": 32,
   "metadata": {},
   "outputs": [
    {
     "name": "stdout",
     "output_type": "stream",
     "text": [
      "Point in space Particle has data\n",
      "{\n",
      "    \"pos\": {\n",
      "        \"x\": 0.8585786437626906,\n",
      "        \"y\": 1.1414213562373094\n",
      "    },\n",
      "    \"vel\": {\n",
      "        \"dx\": -0.17460120950641203,\n",
      "        \"dy\": -0.06954713169910895\n",
      "    },\n",
      "    \"maxspeed\": 0.2\n",
      "}\n",
      "\n"
     ]
    }
   ],
   "source": [
    "print(aliceDynamics(validInitAlice))"
   ]
  },
  {
   "cell_type": "code",
   "execution_count": 33,
   "metadata": {},
   "outputs": [],
   "source": [
    "experiment_params = {\"iteration_n\": 1, \"steps\": 25}"
   ]
  },
  {
   "cell_type": "code",
   "execution_count": 34,
   "metadata": {},
   "outputs": [],
   "source": [
    "my_experiment = Experiment(validInitAlice, experiment_params, (aliceDynamics,))\n",
    "\n",
    "results = my_experiment.run()"
   ]
  },
  {
   "cell_type": "code",
   "execution_count": 35,
   "metadata": {},
   "outputs": [
    {
     "name": "stdout",
     "output_type": "stream",
     "text": [
      "[<cadcad.points.Point object at 0x7fad9054f970>, <cadcad.points.Point object at 0x7fad9054ceb0>, <cadcad.points.Point object at 0x7fad9054e170>, <cadcad.points.Point object at 0x7fad9054d750>, <cadcad.points.Point object at 0x7fad9054f8e0>, <cadcad.points.Point object at 0x7fad9054f4f0>, <cadcad.points.Point object at 0x7fad9054fe20>, <cadcad.points.Point object at 0x7fad9054d450>, <cadcad.points.Point object at 0x7fad9054e5f0>, <cadcad.points.Point object at 0x7fad9054e6b0>, <cadcad.points.Point object at 0x7fad9054cd90>, <cadcad.points.Point object at 0x7fad9054f460>, <cadcad.points.Point object at 0x7fad9054f0d0>, <cadcad.points.Point object at 0x7fad9054e2f0>, <cadcad.points.Point object at 0x7fad9054e0b0>, <cadcad.points.Point object at 0x7fad9054d3f0>, <cadcad.points.Point object at 0x7fad9054f4c0>, <cadcad.points.Point object at 0x7fad80154670>, <cadcad.points.Point object at 0x7fad80154c10>, <cadcad.points.Point object at 0x7fad80154700>, <cadcad.points.Point object at 0x7fad80154820>, <cadcad.points.Point object at 0x7fad80154d60>, <cadcad.points.Point object at 0x7fad801548e0>, <cadcad.points.Point object at 0x7fad801544f0>, <cadcad.points.Point object at 0x7fad80154610>]\n"
     ]
    }
   ],
   "source": [
    "d = results[0].data\n",
    "n = len(d)\n",
    "r = np.zeros((n,4))\n",
    "print(d)"
   ]
  },
  {
   "cell_type": "code",
   "execution_count": 36,
   "metadata": {},
   "outputs": [
    {
     "name": "stdout",
     "output_type": "stream",
     "text": [
      "Point in space Particle has data\n",
      "{\n",
      "    \"pos\": {\n",
      "        \"x\": 0.8585786437626906,\n",
      "        \"y\": 1.1414213562373094\n",
      "    },\n",
      "    \"vel\": {\n",
      "        \"dx\": 0.024616698469234533,\n",
      "        \"dy\": 0.1374655966446737\n",
      "    },\n",
      "    \"maxspeed\": 0.2\n",
      "}\n",
      "\n",
      "Point in space Particle has data\n",
      "{\n",
      "    \"pos\": {\n",
      "        \"x\": 0.8831953422319251,\n",
      "        \"y\": 1.278886952881983\n",
      "    },\n",
      "    \"vel\": {\n",
      "        \"dx\": 0.048579656538017865,\n",
      "        \"dy\": 0.1152205157025548\n",
      "    },\n",
      "    \"maxspeed\": 0.2\n",
      "}\n",
      "\n",
      "Point in space Particle has data\n",
      "{\n",
      "    \"pos\": {\n",
      "        \"x\": 0.931774998769943,\n",
      "        \"y\": 1.3941074685845378\n",
      "    },\n",
      "    \"vel\": {\n",
      "        \"dx\": 0.1980897836816475,\n",
      "        \"dy\": -0.027576033089588847\n",
      "    },\n",
      "    \"maxspeed\": 0.2\n",
      "}\n",
      "\n",
      "Point in space Particle has data\n",
      "{\n",
      "    \"pos\": {\n",
      "        \"x\": 1.1298647824515904,\n",
      "        \"y\": 1.366531435494949\n",
      "    },\n",
      "    \"vel\": {\n",
      "        \"dx\": 0.05598468535738016,\n",
      "        \"dy\": 0.005709685556344882\n",
      "    },\n",
      "    \"maxspeed\": 0.2\n",
      "}\n",
      "\n",
      "Point in space Particle has data\n",
      "{\n",
      "    \"pos\": {\n",
      "        \"x\": 1.1858494678089706,\n",
      "        \"y\": 1.372241121051294\n",
      "    },\n",
      "    \"vel\": {\n",
      "        \"dx\": 0.13429580355362783,\n",
      "        \"dy\": -0.14042227728073503\n",
      "    },\n",
      "    \"maxspeed\": 0.2\n",
      "}\n",
      "\n",
      "Point in space Particle has data\n",
      "{\n",
      "    \"pos\": {\n",
      "        \"x\": 1.3201452713625985,\n",
      "        \"y\": 1.2318188437705588\n",
      "    },\n",
      "    \"vel\": {\n",
      "        \"dx\": 0.18792831568078916,\n",
      "        \"dy\": -0.0684320697142915\n",
      "    },\n",
      "    \"maxspeed\": 0.2\n",
      "}\n",
      "\n",
      "Point in space Particle has data\n",
      "{\n",
      "    \"pos\": {\n",
      "        \"x\": 1.5080735870433877,\n",
      "        \"y\": 1.1633867740562673\n",
      "    },\n",
      "    \"vel\": {\n",
      "        \"dx\": 0.11786629436388962,\n",
      "        \"dy\": -0.161578267885644\n",
      "    },\n",
      "    \"maxspeed\": 0.2\n",
      "}\n",
      "\n",
      "Point in space Particle has data\n",
      "{\n",
      "    \"pos\": {\n",
      "        \"x\": 1.6259398814072772,\n",
      "        \"y\": 1.0018085061706232\n",
      "    },\n",
      "    \"vel\": {\n",
      "        \"dx\": 0.10782945576704894,\n",
      "        \"dy\": 0.16844230011782088\n",
      "    },\n",
      "    \"maxspeed\": 0.2\n",
      "}\n",
      "\n",
      "Point in space Particle has data\n",
      "{\n",
      "    \"pos\": {\n",
      "        \"x\": 1.7337693371743261,\n",
      "        \"y\": 1.170250806288444\n",
      "    },\n",
      "    \"vel\": {\n",
      "        \"dx\": 0.07165970008381467,\n",
      "        \"dy\": 0.18672141651106267\n",
      "    },\n",
      "    \"maxspeed\": 0.2\n",
      "}\n",
      "\n",
      "Point in space Particle has data\n",
      "{\n",
      "    \"pos\": {\n",
      "        \"x\": 1.8054290372581407,\n",
      "        \"y\": 1.3569722227995067\n",
      "    },\n",
      "    \"vel\": {\n",
      "        \"dx\": 0.1358818463450367,\n",
      "        \"dy\": 0.14675191253903247\n",
      "    },\n",
      "    \"maxspeed\": 0.2\n",
      "}\n",
      "\n",
      "Point in space Particle has data\n",
      "{\n",
      "    \"pos\": {\n",
      "        \"x\": 1.9413108836031774,\n",
      "        \"y\": 1.503724135338539\n",
      "    },\n",
      "    \"vel\": {\n",
      "        \"dx\": 0.0610217381992437,\n",
      "        \"dy\": 0.09680576101508145\n",
      "    },\n",
      "    \"maxspeed\": 0.2\n",
      "}\n",
      "\n",
      "Point in space Particle has data\n",
      "{\n",
      "    \"pos\": {\n",
      "        \"x\": 2.002332621802421,\n",
      "        \"y\": 1.6005298963536205\n",
      "    },\n",
      "    \"vel\": {\n",
      "        \"dx\": 0.11505210742821721,\n",
      "        \"dy\": -0.1469250527549613\n",
      "    },\n",
      "    \"maxspeed\": 0.2\n",
      "}\n",
      "\n",
      "Point in space Particle has data\n",
      "{\n",
      "    \"pos\": {\n",
      "        \"x\": 2.1173847292306385,\n",
      "        \"y\": 1.4536048435986593\n",
      "    },\n",
      "    \"vel\": {\n",
      "        \"dx\": 0.19738963207106722,\n",
      "        \"dy\": 0.03220765671154472\n",
      "    },\n",
      "    \"maxspeed\": 0.2\n",
      "}\n",
      "\n",
      "Point in space Particle has data\n",
      "{\n",
      "    \"pos\": {\n",
      "        \"x\": 2.3147743613017058,\n",
      "        \"y\": 1.485812500310204\n",
      "    },\n",
      "    \"vel\": {\n",
      "        \"dx\": 0.19632105431357552,\n",
      "        \"dy\": -0.03818433753787183\n",
      "    },\n",
      "    \"maxspeed\": 0.2\n",
      "}\n",
      "\n",
      "Point in space Particle has data\n",
      "{\n",
      "    \"pos\": {\n",
      "        \"x\": 2.5110954156152814,\n",
      "        \"y\": 1.4476281627723322\n",
      "    },\n",
      "    \"vel\": {\n",
      "        \"dx\": 0.1994160780772903,\n",
      "        \"dy\": -0.01527179767650317\n",
      "    },\n",
      "    \"maxspeed\": 0.2\n",
      "}\n",
      "\n",
      "Point in space Particle has data\n",
      "{\n",
      "    \"pos\": {\n",
      "        \"x\": 2.7105114936925716,\n",
      "        \"y\": 1.432356365095829\n",
      "    },\n",
      "    \"vel\": {\n",
      "        \"dx\": 0.19723391348164454,\n",
      "        \"dy\": 0.033147901482826266\n",
      "    },\n",
      "    \"maxspeed\": 0.2\n",
      "}\n",
      "\n",
      "Point in space Particle has data\n",
      "{\n",
      "    \"pos\": {\n",
      "        \"x\": 2.9077454071742164,\n",
      "        \"y\": 1.4655042665786553\n",
      "    },\n",
      "    \"vel\": {\n",
      "        \"dx\": 0.1985004350700616,\n",
      "        \"dy\": 0.02444539377871142\n",
      "    },\n",
      "    \"maxspeed\": 0.2\n",
      "}\n",
      "\n",
      "Point in space Particle has data\n",
      "{\n",
      "    \"pos\": {\n",
      "        \"x\": 3.106245842244278,\n",
      "        \"y\": 1.4899496603573668\n",
      "    },\n",
      "    \"vel\": {\n",
      "        \"dx\": -0.15484973084059278,\n",
      "        \"dy\": 0.08368419810592702\n",
      "    },\n",
      "    \"maxspeed\": 0.2\n",
      "}\n",
      "\n",
      "Point in space Particle has data\n",
      "{\n",
      "    \"pos\": {\n",
      "        \"x\": 2.951396111403685,\n",
      "        \"y\": 1.5736338584632938\n",
      "    },\n",
      "    \"vel\": {\n",
      "        \"dx\": -0.08390340739753162,\n",
      "        \"dy\": 0.18154949250021007\n",
      "    },\n",
      "    \"maxspeed\": 0.2\n",
      "}\n",
      "\n",
      "Point in space Particle has data\n",
      "{\n",
      "    \"pos\": {\n",
      "        \"x\": 2.8674927040061533,\n",
      "        \"y\": 1.755183350963504\n",
      "    },\n",
      "    \"vel\": {\n",
      "        \"dx\": -0.036381427960831894,\n",
      "        \"dy\": 0.19666314270734822\n",
      "    },\n",
      "    \"maxspeed\": 0.2\n",
      "}\n",
      "\n",
      "Point in space Particle has data\n",
      "{\n",
      "    \"pos\": {\n",
      "        \"x\": 2.831111276045321,\n",
      "        \"y\": 1.9518464936708522\n",
      "    },\n",
      "    \"vel\": {\n",
      "        \"dx\": -0.027563730686829307,\n",
      "        \"dy\": 0.1980914959068762\n",
      "    },\n",
      "    \"maxspeed\": 0.2\n",
      "}\n",
      "\n",
      "Point in space Particle has data\n",
      "{\n",
      "    \"pos\": {\n",
      "        \"x\": 2.8035475453584917,\n",
      "        \"y\": 2.149937989577728\n",
      "    },\n",
      "    \"vel\": {\n",
      "        \"dx\": -0.09115382070085368,\n",
      "        \"dy\": 0.1261514489269617\n",
      "    },\n",
      "    \"maxspeed\": 0.2\n",
      "}\n",
      "\n",
      "Point in space Particle has data\n",
      "{\n",
      "    \"pos\": {\n",
      "        \"x\": 2.712393724657638,\n",
      "        \"y\": 2.2760894385046897\n",
      "    },\n",
      "    \"vel\": {\n",
      "        \"dx\": -0.14286412806752927,\n",
      "        \"dy\": 0.13996371283838036\n",
      "    },\n",
      "    \"maxspeed\": 0.2\n",
      "}\n",
      "\n",
      "Point in space Particle has data\n",
      "{\n",
      "    \"pos\": {\n",
      "        \"x\": 2.5695295965901086,\n",
      "        \"y\": 2.41605315134307\n",
      "    },\n",
      "    \"vel\": {\n",
      "        \"dx\": 0.047245614298032396,\n",
      "        \"dy\": 0.12019856827317357\n",
      "    },\n",
      "    \"maxspeed\": 0.2\n",
      "}\n",
      "\n",
      "Point in space Particle has data\n",
      "{\n",
      "    \"pos\": {\n",
      "        \"x\": 2.616775210888141,\n",
      "        \"y\": 2.5362517196162435\n",
      "    },\n",
      "    \"vel\": {\n",
      "        \"dx\": 0.07087146866786408,\n",
      "        \"dy\": 0.17607794841025454\n",
      "    },\n",
      "    \"maxspeed\": 0.2\n",
      "}\n",
      "\n"
     ]
    }
   ],
   "source": [
    "for i in range(n):\n",
    "    print(d[i])\n",
    "    r[i,:]= [d[i]['pos']['x'], d[i]['pos']['y'],d[i]['vel']['dx'], d[i]['vel']['dy']]\n",
    "\n",
    "df = pd.DataFrame(r, columns=['x','y','dx','dy'])"
   ]
  },
  {
   "cell_type": "code",
   "execution_count": 37,
   "metadata": {},
   "outputs": [
    {
     "data": {
      "text/html": [
       "<div>\n",
       "<style scoped>\n",
       "    .dataframe tbody tr th:only-of-type {\n",
       "        vertical-align: middle;\n",
       "    }\n",
       "\n",
       "    .dataframe tbody tr th {\n",
       "        vertical-align: top;\n",
       "    }\n",
       "\n",
       "    .dataframe thead th {\n",
       "        text-align: right;\n",
       "    }\n",
       "</style>\n",
       "<table border=\"1\" class=\"dataframe\">\n",
       "  <thead>\n",
       "    <tr style=\"text-align: right;\">\n",
       "      <th></th>\n",
       "      <th>x</th>\n",
       "      <th>y</th>\n",
       "      <th>dx</th>\n",
       "      <th>dy</th>\n",
       "    </tr>\n",
       "  </thead>\n",
       "  <tbody>\n",
       "    <tr>\n",
       "      <th>0</th>\n",
       "      <td>0.858579</td>\n",
       "      <td>1.141421</td>\n",
       "      <td>0.024617</td>\n",
       "      <td>0.137466</td>\n",
       "    </tr>\n",
       "    <tr>\n",
       "      <th>1</th>\n",
       "      <td>0.883195</td>\n",
       "      <td>1.278887</td>\n",
       "      <td>0.048580</td>\n",
       "      <td>0.115221</td>\n",
       "    </tr>\n",
       "    <tr>\n",
       "      <th>2</th>\n",
       "      <td>0.931775</td>\n",
       "      <td>1.394107</td>\n",
       "      <td>0.198090</td>\n",
       "      <td>-0.027576</td>\n",
       "    </tr>\n",
       "    <tr>\n",
       "      <th>3</th>\n",
       "      <td>1.129865</td>\n",
       "      <td>1.366531</td>\n",
       "      <td>0.055985</td>\n",
       "      <td>0.005710</td>\n",
       "    </tr>\n",
       "    <tr>\n",
       "      <th>4</th>\n",
       "      <td>1.185849</td>\n",
       "      <td>1.372241</td>\n",
       "      <td>0.134296</td>\n",
       "      <td>-0.140422</td>\n",
       "    </tr>\n",
       "  </tbody>\n",
       "</table>\n",
       "</div>"
      ],
      "text/plain": [
       "          x         y        dx        dy\n",
       "0  0.858579  1.141421  0.024617  0.137466\n",
       "1  0.883195  1.278887  0.048580  0.115221\n",
       "2  0.931775  1.394107  0.198090 -0.027576\n",
       "3  1.129865  1.366531  0.055985  0.005710\n",
       "4  1.185849  1.372241  0.134296 -0.140422"
      ]
     },
     "execution_count": 37,
     "metadata": {},
     "output_type": "execute_result"
    }
   ],
   "source": [
    "df.head()"
   ]
  },
  {
   "cell_type": "code",
   "execution_count": 38,
   "metadata": {},
   "outputs": [
    {
     "data": {
      "text/plain": [
       "<AxesSubplot:>"
      ]
     },
     "execution_count": 38,
     "metadata": {},
     "output_type": "execute_result"
    },
    {
     "data": {
      "image/png": "[encoded data removed]",
      "text/plain": [
       "<Figure size 432x288 with 1 Axes>"
      ]
     },
     "metadata": {
      "needs_background": "light"
     },
     "output_type": "display_data"
    }
   ],
   "source": [
    "df.plot()"
   ]
  },
  {
   "cell_type": "code",
   "execution_count": 39,
   "metadata": {},
   "outputs": [
    {
     "data": {
      "image/png": "[encoded data removed]",
      "text/plain": [
       "<Figure size 432x288 with 1 Axes>"
      ]
     },
     "metadata": {
      "needs_background": "light"
     },
     "output_type": "display_data"
    }
   ],
   "source": [
    "df.plot(x=\"x\", y='y',kind=\"scatter\")\n",
    "for i in range(n):\n",
    "    plt.arrow(*r[i], width = 0.01, color=\"green\", length_includes_head=True)"
   ]
  },
  {
   "cell_type": "code",
   "execution_count": 40,
   "metadata": {},
   "outputs": [],
   "source": [
    "@block\n",
    "def getSpeed(domain:Point[Particle])->Point[Real]:\n",
    "    input = deepcopy(domain).data\n",
    "    output = np.sqrt(input['vel']['dx']**2+input['vel']['dy']**2)\n",
    "    print(output)\n",
    "    return Point(Real, {'real':output})"
   ]
  },
  {
   "cell_type": "code",
   "execution_count": 41,
   "metadata": {},
   "outputs": [
    {
     "name": "stdout",
     "output_type": "stream",
     "text": [
      "0.13965232581092712\n",
      "0.12504299367863222\n",
      "0.2\n",
      "0.056275087771741325\n",
      "0.1943033165152418\n",
      "0.19999999999999998\n",
      "0.20000000000000004\n",
      "0.2\n",
      "0.20000000000000004\n",
      "0.19999999999999998\n",
      "0.11443342124819175\n",
      "0.1866117856694003\n",
      "0.2\n",
      "0.19999999999999998\n",
      "0.19999999999999998\n",
      "0.2\n",
      "0.2\n",
      "0.1760155792935275\n",
      "0.2\n",
      "0.20000000000000004\n",
      "0.2\n",
      "0.15563806441463865\n",
      "0.2\n",
      "0.12915046993843735\n",
      "0.18980571379045547\n"
     ]
    }
   ],
   "source": [
    "speeds = [getSpeed(pt) for pt in d]"
   ]
  },
  {
   "cell_type": "markdown",
   "metadata": {},
   "source": [
    "---\n",
    "Breakpoint for Alice sim. Barlin is working on a Bob peice"
   ]
  },
  {
   "cell_type": "code",
   "execution_count": 42,
   "metadata": {},
   "outputs": [
    {
     "name": "stdout",
     "output_type": "stream",
     "text": [
      "Space Unicycle has dimensions {'pos': 'PolarPlane', 'vel': 'PolarPlane'}\n"
     ]
    },
    {
     "data": {
      "text/plain": [
       "{'pos': {'r': 'float', 'theta': 'float'},\n",
       " 'vel': {'dr': 'float', 'dtheta': 'float'}}"
      ]
     },
     "execution_count": 42,
     "metadata": {},
     "output_type": "execute_result"
    }
   ],
   "source": [
    "@space\n",
    "class PolarPlane:\n",
    "    r:float\n",
    "    theta:float\n",
    "\n",
    "PolarPlaneDot = PolarPlane.rename_dims({'r':'dr', 'theta':'dtheta'})\n",
    "\n",
    "@space\n",
    "class Unicycle:\n",
    "    pos: PolarPlane\n",
    "    vel: PolarPlaneDot\n",
    "\n",
    "print(Unicycle)\n",
    "Unicycle.unroll_schema()"
   ]
  },
  {
   "cell_type": "code",
   "execution_count": 43,
   "metadata": {},
   "outputs": [
    {
     "data": {
      "text/plain": [
       "{'dr': 'float', 'dtheta': 'float'}"
      ]
     },
     "execution_count": 43,
     "metadata": {},
     "output_type": "execute_result"
    }
   ],
   "source": [
    "PolarPlaneDot.unroll_schema()"
   ]
  },
  {
   "cell_type": "code",
   "execution_count": 44,
   "metadata": {},
   "outputs": [
    {
     "name": "stdout",
     "output_type": "stream",
     "text": [
      "Space GameState has dimensions {'alice': 'Particle', 'bob': 'Unicycle'}\n"
     ]
    },
    {
     "data": {
      "text/plain": [
       "{'alice': {'pos': {'x': 'float', 'y': 'float'},\n",
       "  'vel': {'dx': 'float', 'dy': 'float'},\n",
       "  'maxspeed': 'float'},\n",
       " 'bob': {'pos': {'r': 'float', 'theta': 'float'},\n",
       "  'vel': {'dr': 'float', 'dtheta': 'float'}}}"
      ]
     },
     "execution_count": 44,
     "metadata": {},
     "output_type": "execute_result"
    }
   ],
   "source": [
    "@space\n",
    "class GameState:\n",
    "    alice: Particle\n",
    "    bob: Unicycle\n",
    "\n",
    "@space\n",
    "class NormalizedGameState:\n",
    "    alice: Particle\n",
    "    bob: Particle\n",
    "\n",
    "print(GameState)\n",
    "GameState.unroll_schema()"
   ]
  },
  {
   "cell_type": "code",
   "execution_count": 45,
   "metadata": {},
   "outputs": [],
   "source": [
    "\n",
    "\n",
    "initBob = Point(Unicycle, {'pos': {'r': 1.0, 'theta': np.pi/4},\n",
    " 'vel': {'dr': 1.0, 'dtheta': np.pi/8}})\n",
    "\n",
    "init = Point(GameState, {'alice':initAlice.data, 'bob':initBob.data})"
   ]
  },
  {
   "cell_type": "code",
   "execution_count": 46,
   "metadata": {},
   "outputs": [
    {
     "name": "stdout",
     "output_type": "stream",
     "text": [
      "Point in space GameState has data\n",
      "{\n",
      "    \"alice\": {\n",
      "        \"pos\": {\n",
      "            \"x\": 1.0,\n",
      "            \"y\": 1.0\n",
      "        },\n",
      "        \"vel\": {\n",
      "            \"dx\": -0.2,\n",
      "            \"dy\": 0.2\n",
      "        },\n",
      "        \"maxspeed\": 0.2\n",
      "    },\n",
      "    \"bob\": {\n",
      "        \"pos\": {\n",
      "            \"r\": 1.0,\n",
      "            \"theta\": 0.7853981633974483\n",
      "        },\n",
      "        \"vel\": {\n",
      "            \"dr\": 1.0,\n",
      "            \"dtheta\": 0.39269908169872414\n",
      "        }\n",
      "    }\n",
      "}\n",
      "\n"
     ]
    }
   ],
   "source": [
    "print(init)"
   ]
  },
  {
   "cell_type": "markdown",
   "metadata": {},
   "source": [
    "Alice is a Particle Trying to Evade the Unicycle Bob so she will attempt to maximize her distance from Bob in the Next timesteo"
   ]
  },
  {
   "cell_type": "code",
   "execution_count": 47,
   "metadata": {},
   "outputs": [
    {
     "data": {
      "text/plain": [
       "{'dr': 'float', 'dtheta': 'float'}"
      ]
     },
     "execution_count": 47,
     "metadata": {},
     "output_type": "execute_result"
    }
   ],
   "source": [
    "PolarPlaneDot.unroll_schema()"
   ]
  },
  {
   "cell_type": "code",
   "execution_count": 48,
   "metadata": {},
   "outputs": [
    {
     "data": {
      "text/plain": [
       "{'r': 'float', 'theta': 'float'}"
      ]
     },
     "execution_count": 48,
     "metadata": {},
     "output_type": "execute_result"
    }
   ],
   "source": [
    "PolarPlane.unroll_schema()"
   ]
  },
  {
   "cell_type": "code",
   "execution_count": 49,
   "metadata": {},
   "outputs": [],
   "source": [
    "@block\n",
    "def awkwardConverter1(domain:Point[PolarPlaneDot])->Point[PolarPlane]:\n",
    "    \"\"\"\"\"\"\n",
    "    input = domain\n",
    "    output = {}\n",
    "    output['r'] = input['dr']\n",
    "    output['theta'] = input['dtheta']\n",
    "\n",
    "    return Point(PolarPlane, output)\n",
    "    \n",
    "@block\n",
    "def awkwardConverter2(domain:Point[CartesianPlane])->Point[CartesianPlaneDot]:\n",
    "    \"\"\"needs \"\"\"\n",
    "    input = domain\n",
    "    output = {}\n",
    "    output['dx'] = input['x']\n",
    "    output['dy'] = input['y']\n",
    "\n",
    "    return Point(CartesianPlaneDot, output)"
   ]
  },
  {
   "cell_type": "code",
   "execution_count": 50,
   "metadata": {},
   "outputs": [],
   "source": [
    "@block\n",
    "def polar2cartesian(domain: Point[PolarPlane]) -> Point[CartesianPlane]:\n",
    "    \n",
    "    r = domain[\"r\"]\n",
    "    theta = domain[\"theta\"]\n",
    "\n",
    "    x = r*np.cos(theta)\n",
    "    y = r*np.sin(theta)\n",
    "\n",
    "    output = {\"x\":x, \"y\":y}\n",
    "\n",
    "    return Point(CartesianPlane, output)\n",
    "\n",
    "@block\n",
    "def cartesian2polar(domain: Point[CartesianPlane]) -> Point[PolarPlane]:\n",
    "    \n",
    "    x = domain[\"x\"]\n",
    "    y = domain[\"y\"]\n",
    "\n",
    "    r = np.sqrt(x**2+y**2)\n",
    "    if x==0:\n",
    "        theta = np.sign(y)*np.pi/2\n",
    "    else:\n",
    "        theta = np.arctan(y/x)\n",
    "\n",
    "    output = {\"r\":r, \"theta\":theta}\n",
    "\n",
    "    return Point(PolarPlane, output)\n",
    "\n",
    "@block\n",
    "def normalize(domain:Point[GameState])->Point[NormalizedGameState]:\n",
    "    #this is a piped block by hand\n",
    "    #desired UX is to just write piping logic\n",
    "    input=domain\n",
    "    aliceData = input['alice']\n",
    "\n",
    "    bobPosPolarPt = Point(PolarPlane, input['bob']['pos'])\n",
    "    bobVelPolarDotPt = Point(PolarPlaneDot, input['bob']['vel'])\n",
    "    print(bobVelPolarDotPt)\n",
    "    bobVelPolarPt = awkwardConverter1(bobVelPolarDotPt)\n",
    "    print(bobPosPolarPt)\n",
    "\n",
    "    bobPosCartesian = polar2cartesian(bobPosPolarPt)\n",
    "\n",
    "    bobVelCartesianTemp = polar2cartesian(bobVelPolarPt)\n",
    "    print(bobVelCartesianTemp)\n",
    "\n",
    "    bobVelCartesian=awkwardConverter2(bobVelCartesianTemp)\n",
    "    print(bobVelCartesian)\n",
    "\n",
    "    bobData = {'pos': bobPosCartesian.data, 'vel': bobVelCartesian.data}\n",
    "\n",
    "    output = Point(NormalizedGameState, {'alice':aliceData, 'bob':bobData})\n",
    "\n",
    "    return output\n",
    "\n"
   ]
  },
  {
   "cell_type": "code",
   "execution_count": 51,
   "metadata": {},
   "outputs": [
    {
     "name": "stdout",
     "output_type": "stream",
     "text": [
      "Point in space PolarPlane has data\n",
      "{\n",
      "    \"dr\": 1.0,\n",
      "    \"dtheta\": 0.39269908169872414\n",
      "}\n",
      "\n",
      "Point in space PolarPlane has data\n",
      "{\n",
      "    \"r\": 1.0,\n",
      "    \"theta\": 0.7853981633974483\n",
      "}\n",
      "\n",
      "Point in space CartesianPlane has data\n",
      "{\n",
      "    \"x\": 0.9238795325112867,\n",
      "    \"y\": 0.3826834323650898\n",
      "}\n",
      "\n",
      "Point in space CartesianPlane has data\n",
      "{\n",
      "    \"dx\": 0.9238795325112867,\n",
      "    \"dy\": 0.3826834323650898\n",
      "}\n",
      "\n"
     ]
    },
    {
     "ename": "ValueError",
     "evalue": "zip() argument 2 is shorter than argument 1",
     "output_type": "error",
     "traceback": [
      "\u001b[0;31m---------------------------------------------------------------------------\u001b[0m",
      "\u001b[0;31mValueError\u001b[0m                                Traceback (most recent call last)",
      "\u001b[1;32m/Users/zargham/Documents/GitHub/cadcad-ri/tag.ipynb Cell 53\u001b[0m in \u001b[0;36m<cell line: 1>\u001b[0;34m()\u001b[0m\n\u001b[0;32m----> <a href='vscode-notebook-cell:/Users/zargham/Documents/GitHub/cadcad-ri/tag.ipynb#X60sZmlsZQ%3D%3D?line=0'>1</a>\u001b[0m normalizedInit \u001b[39m=\u001b[39m normalize(init)\n",
      "File \u001b[0;32m~/Documents/GitHub/cadcad-ri/cadcad/dynamics.py:158\u001b[0m, in \u001b[0;36mBlock.__call__\u001b[0;34m(self, *args, **kwargs)\u001b[0m\n\u001b[1;32m    157\u001b[0m \u001b[39mdef\u001b[39;00m \u001b[39m__call__\u001b[39m(\u001b[39mself\u001b[39m, \u001b[39m*\u001b[39margs: Any, \u001b[39m*\u001b[39m\u001b[39m*\u001b[39mkwargs: Any) \u001b[39m-\u001b[39m\u001b[39m>\u001b[39m Any:\n\u001b[0;32m--> 158\u001b[0m     \u001b[39mreturn\u001b[39;00m \u001b[39mself\u001b[39;49m\u001b[39m.\u001b[39;49m__function(\u001b[39m*\u001b[39;49margs, \u001b[39m*\u001b[39;49m\u001b[39m*\u001b[39;49mkwargs)\n",
      "\u001b[1;32m/Users/zargham/Documents/GitHub/cadcad-ri/tag.ipynb Cell 53\u001b[0m in \u001b[0;36mnormalize\u001b[0;34m(domain)\u001b[0m\n\u001b[1;32m     <a href='vscode-notebook-cell:/Users/zargham/Documents/GitHub/cadcad-ri/tag.ipynb#X60sZmlsZQ%3D%3D?line=48'>49</a>\u001b[0m \u001b[39mprint\u001b[39m(bobVelCartesian)\n\u001b[1;32m     <a href='vscode-notebook-cell:/Users/zargham/Documents/GitHub/cadcad-ri/tag.ipynb#X60sZmlsZQ%3D%3D?line=50'>51</a>\u001b[0m bobData \u001b[39m=\u001b[39m {\u001b[39m'\u001b[39m\u001b[39mpos\u001b[39m\u001b[39m'\u001b[39m: bobPosCartesian\u001b[39m.\u001b[39mdata, \u001b[39m'\u001b[39m\u001b[39mvel\u001b[39m\u001b[39m'\u001b[39m: bobVelCartesian\u001b[39m.\u001b[39mdata}\n\u001b[0;32m---> <a href='vscode-notebook-cell:/Users/zargham/Documents/GitHub/cadcad-ri/tag.ipynb#X60sZmlsZQ%3D%3D?line=52'>53</a>\u001b[0m output \u001b[39m=\u001b[39m Point(NormalizedGameState, {\u001b[39m'\u001b[39;49m\u001b[39malice\u001b[39;49m\u001b[39m'\u001b[39;49m:aliceData, \u001b[39m'\u001b[39;49m\u001b[39mbob\u001b[39;49m\u001b[39m'\u001b[39;49m:bobData})\n\u001b[1;32m     <a href='vscode-notebook-cell:/Users/zargham/Documents/GitHub/cadcad-ri/tag.ipynb#X60sZmlsZQ%3D%3D?line=54'>55</a>\u001b[0m \u001b[39mreturn\u001b[39;00m output\n",
      "File \u001b[0;32m~/Documents/GitHub/cadcad-ri/cadcad/points.py:46\u001b[0m, in \u001b[0;36mPoint.__init__\u001b[0;34m(self, space, data, check_types)\u001b[0m\n\u001b[1;32m     43\u001b[0m     \u001b[39mraise\u001b[39;00m \u001b[39mTypeError\u001b[39;00m(\u001b[39m\"\u001b[39m\u001b[39mPoint\u001b[39m\u001b[39m'\u001b[39m\u001b[39ms data must be a dictionary\u001b[39m\u001b[39m\"\u001b[39m)\n\u001b[1;32m     45\u001b[0m \u001b[39mif\u001b[39;00m check_types:\n\u001b[0;32m---> 46\u001b[0m     \u001b[39mif\u001b[39;00m check_schema(dims, data):\n\u001b[1;32m     47\u001b[0m         \u001b[39mself\u001b[39m\u001b[39m.\u001b[39m__data: Dict[\u001b[39mstr\u001b[39m, Any] \u001b[39m=\u001b[39m data\n\u001b[1;32m     48\u001b[0m     \u001b[39melse\u001b[39;00m:\n",
      "File \u001b[0;32m~/Documents/GitHub/cadcad-ri/cadcad/points.py:108\u001b[0m, in \u001b[0;36mcheck_schema\u001b[0;34m(dim_dict, data_dict)\u001b[0m\n\u001b[1;32m    106\u001b[0m \u001b[39mif\u001b[39;00m \u001b[39misinstance\u001b[39m(dim_type, Space) \u001b[39mand\u001b[39;00m dim_name \u001b[39m==\u001b[39m data_name:\n\u001b[1;32m    107\u001b[0m     inner_dims \u001b[39m=\u001b[39m dim_type\u001b[39m.\u001b[39mdimensions(as_types\u001b[39m=\u001b[39m\u001b[39mTrue\u001b[39;00m)  \u001b[39m# type: ignore\u001b[39;00m\n\u001b[0;32m--> 108\u001b[0m     \u001b[39mif\u001b[39;00m check_schema(inner_dims, data_value):\n\u001b[1;32m    109\u001b[0m         confirmations \u001b[39m+\u001b[39m\u001b[39m=\u001b[39m \u001b[39m1\u001b[39m\n\u001b[1;32m    110\u001b[0m \u001b[39melif\u001b[39;00m (\n\u001b[1;32m    111\u001b[0m     dim_name \u001b[39m==\u001b[39m data_name\n\u001b[1;32m    112\u001b[0m     \u001b[39mand\u001b[39;00m specialized_type\n\u001b[1;32m    113\u001b[0m     \u001b[39mand\u001b[39;00m \u001b[39missubclass\u001b[39m(dim_mro[\u001b[39m0\u001b[39m], Collection)\n\u001b[1;32m    114\u001b[0m ):\n",
      "File \u001b[0;32m~/Documents/GitHub/cadcad-ri/cadcad/points.py:97\u001b[0m, in \u001b[0;36mcheck_schema\u001b[0;34m(dim_dict, data_dict)\u001b[0m\n\u001b[1;32m     81\u001b[0m \u001b[39m\"\"\"_summary_\u001b[39;00m\n\u001b[1;32m     82\u001b[0m \n\u001b[1;32m     83\u001b[0m \u001b[39mParameters\u001b[39;00m\n\u001b[0;32m   (...)\u001b[0m\n\u001b[1;32m     93\u001b[0m \u001b[39m    _description_\u001b[39;00m\n\u001b[1;32m     94\u001b[0m \u001b[39m\"\"\"\u001b[39;00m\n\u001b[1;32m     95\u001b[0m confirmations \u001b[39m=\u001b[39m \u001b[39m0\u001b[39m\n\u001b[0;32m---> 97\u001b[0m \u001b[39mfor\u001b[39;00m (dim_name, dim_type), (data_name, data_value) \u001b[39min\u001b[39;00m \u001b[39mzip\u001b[39m(\n\u001b[1;32m     98\u001b[0m     \u001b[39msorted\u001b[39m(dim_dict\u001b[39m.\u001b[39mitems()), \u001b[39msorted\u001b[39m(data_dict\u001b[39m.\u001b[39mitems()), strict\u001b[39m=\u001b[39m\u001b[39mTrue\u001b[39;00m\n\u001b[1;32m     99\u001b[0m ):\n\u001b[1;32m    100\u001b[0m     \u001b[39mif\u001b[39;00m \u001b[39misinstance\u001b[39m(dim_type, \u001b[39mtype\u001b[39m):\n\u001b[1;32m    101\u001b[0m         specialized_type \u001b[39m=\u001b[39m get_args(dim_type)\n",
      "\u001b[0;31mValueError\u001b[0m: zip() argument 2 is shorter than argument 1"
     ]
    }
   ],
   "source": [
    "normalizedInit = normalize(init)"
   ]
  },
  {
   "cell_type": "code",
   "execution_count": null,
   "metadata": {},
   "outputs": [
    {
     "name": "stdout",
     "output_type": "stream",
     "text": [
      "Point in space GameState has data\n",
      "{\n",
      "    \"alice\": {\n",
      "        \"pos\": {\n",
      "            \"x\": 1.0,\n",
      "            \"y\": 1.0\n",
      "        },\n",
      "        \"vel\": {\n",
      "            \"dx\": -0.2,\n",
      "            \"dy\": 0.2\n",
      "        }\n",
      "    },\n",
      "    \"bob\": {\n",
      "        \"pos\": {\n",
      "            \"r\": 1.0,\n",
      "            \"theta\": 0.7853981633974483\n",
      "        },\n",
      "        \"vel\": {\n",
      "            \"dr\": 1.0,\n",
      "            \"dtheta\": 0.39269908169872414\n",
      "        }\n",
      "    }\n",
      "}\n",
      "\n"
     ]
    }
   ],
   "source": [
    "print(init)"
   ]
  },
  {
   "cell_type": "code",
   "execution_count": null,
   "metadata": {},
   "outputs": [
    {
     "name": "stdout",
     "output_type": "stream",
     "text": [
      "Point in space NormalizedGameState has data\n",
      "{\n",
      "    \"alice\": {\n",
      "        \"pos\": {\n",
      "            \"x\": 1.0,\n",
      "            \"y\": 1.0\n",
      "        },\n",
      "        \"vel\": {\n",
      "            \"dx\": -0.2,\n",
      "            \"dy\": 0.2\n",
      "        }\n",
      "    },\n",
      "    \"bob\": {\n",
      "        \"pos\": {\n",
      "            \"x\": 0.7071067811865476,\n",
      "            \"y\": 0.7071067811865475\n",
      "        },\n",
      "        \"vel\": {\n",
      "            \"dx\": 0.9238795325112867,\n",
      "            \"dy\": 0.3826834323650898\n",
      "        }\n",
      "    }\n",
      "}\n",
      "\n"
     ]
    }
   ],
   "source": [
    "print(normalizedInit)"
   ]
  },
  {
   "cell_type": "code",
   "execution_count": null,
   "metadata": {},
   "outputs": [],
   "source": [
    "bobpos = [normalizedInit[\"bob\"][\"pos\"][\"x\"], normalizedInit[\"bob\"][\"pos\"][\"y\"]]\n",
    "bobvelarrow = [normalizedInit[\"bob\"][\"pos\"][\"x\"], \n",
    "                normalizedInit[\"bob\"][\"pos\"][\"y\"], \n",
    "                normalizedInit[\"bob\"][\"vel\"][\"dx\"],\n",
    "                normalizedInit[\"bob\"][\"vel\"][\"dy\"]]\n",
    "\n",
    "alicepos = [normalizedInit[\"alice\"][\"pos\"][\"x\"], normalizedInit[\"alice\"][\"pos\"][\"y\"]]\n",
    "alicevelarrow = [normalizedInit[\"alice\"][\"pos\"][\"x\"], \n",
    "                normalizedInit[\"alice\"][\"pos\"][\"y\"], \n",
    "                normalizedInit[\"alice\"][\"vel\"][\"dx\"],\n",
    "                normalizedInit[\"alice\"][\"vel\"][\"dy\"]]\n"
   ]
  },
  {
   "cell_type": "code",
   "execution_count": null,
   "metadata": {},
   "outputs": [
    {
     "data": {
      "text/plain": [
       "<matplotlib.patches.Circle at 0x7f9140e80d00>"
      ]
     },
     "execution_count": 18,
     "metadata": {},
     "output_type": "execute_result"
    },
    {
     "data": {
      "image/png": "[encoded data removed]",
      "text/plain": [
       "<Figure size 432x288 with 1 Axes>"
      ]
     },
     "metadata": {
      "needs_background": "light"
     },
     "output_type": "display_data"
    }
   ],
   "source": [
    "from curses import color_content\n",
    "import matplotlib.pyplot as plt\n",
    "import matplotlib.patches as patches\n",
    "\n",
    "normalizedInit[\"bob\"][\"pos\"][\"x\"]\n",
    " \n",
    "# Adding an arrow to graph starting\n",
    "# from the base (2, 4) and with the\n",
    "# length of 2 units from both x and y\n",
    "# And setting the width of arrow for\n",
    "# better visualization\n",
    "\n",
    "plt.arrow(*alicevelarrow, width = 0.05, color=\"pink\")\n",
    "plt.arrow(*bobvelarrow, width = 0.05, color=\"green\")\n",
    "a = plt.Circle(alicepos, radius=.02, color=\"red\")\n",
    "b = plt.Circle(bobpos, radius=.02, color=\"blue\")\n",
    "plt.gca().add_patch(a)\n",
    "plt.gca().add_patch(b)\n",
    "\n"
   ]
  },
  {
   "cell_type": "code",
   "execution_count": null,
   "metadata": {},
   "outputs": [
    {
     "data": {
      "text/plain": [
       "<matplotlib.patches.Circle at 0x7f9140f6f490>"
      ]
     },
     "execution_count": 19,
     "metadata": {},
     "output_type": "execute_result"
    },
    {
     "data": {
      "image/png": "[encoded data removed]",
      "text/plain": [
       "<Figure size 432x288 with 1 Axes>"
      ]
     },
     "metadata": {
      "needs_background": "light"
     },
     "output_type": "display_data"
    }
   ],
   "source": [
    "bob_max_angle = np.pi/8\n",
    "bob_max_speed = 1\n",
    "alice_max_speed = np.sqrt(.2**2 + .2**2)\n",
    "\n",
    "w = patches.Wedge(bobpos, bob_max_speed, (init[\"bob\"][\"vel\"][\"dtheta\"]-bob_max_angle)*180/np.pi, (init[\"bob\"][\"vel\"][\"dtheta\"]+bob_max_angle)*180/np.pi, alpha=.5)\n",
    "plt.gca().add_patch(w)\n",
    "c = plt.Circle(alicepos, radius=alice_max_speed, color=\"magenta\", alpha=.5)\n",
    "plt.gca().add_patch(c)\n",
    "plt.arrow(*alicevelarrow, width = 0.05, color=\"pink\", length_includes_head=True)\n",
    "plt.arrow(*bobvelarrow, width = 0.05, color=\"green\", length_includes_head=True)\n",
    "a = plt.Circle(alicepos, radius=.02, color=\"red\")\n",
    "b = plt.Circle(bobpos, radius=.02, color=\"blue\")\n",
    "plt.gca().add_patch(a)\n",
    "plt.gca().add_patch(b)\n"
   ]
  },
  {
   "cell_type": "code",
   "execution_count": null,
   "metadata": {},
   "outputs": [
    {
     "data": {
      "text/plain": [
       "<matplotlib.patches.Circle at 0x7f9140ff37f0>"
      ]
     },
     "execution_count": 20,
     "metadata": {},
     "output_type": "execute_result"
    },
    {
     "data": {
      "image/png": "[encoded data removed]",
      "text/plain": [
       "<Figure size 432x288 with 1 Axes>"
      ]
     },
     "metadata": {
      "needs_background": "light"
     },
     "output_type": "display_data"
    }
   ],
   "source": [
    "bob_max_angle = np.pi/8\n",
    "bob_max_speed = 1\n",
    "alice_max_speed = np.sqrt(.2**2 + .2**2)\n",
    "\n",
    "w = patches.Wedge(bobpos, bob_max_speed, (init[\"bob\"][\"vel\"][\"dtheta\"]-bob_max_angle)*180/np.pi, (init[\"bob\"][\"vel\"][\"dtheta\"]+bob_max_angle)*180/np.pi, alpha=.5)\n",
    "plt.gca().add_patch(w)\n",
    "c = plt.Circle(alicepos, radius=alice_max_speed, color=\"magenta\", alpha=.5)\n",
    "plt.gca().add_patch(c)\n",
    "plt.arrow(*alicevelarrow, width = 0.05, color=\"pink\", length_includes_head=True)\n",
    "plt.arrow(*bobvelarrow, width = 0.05, color=\"green\", length_includes_head=True)\n",
    "a = plt.Circle(alicepos, radius=.02, color=\"red\")\n",
    "b = plt.Circle(bobpos, radius=.02, color=\"blue\")\n",
    "plt.gca().add_patch(a)\n",
    "plt.gca().add_patch(b)"
   ]
  }
 ],
 "metadata": {
  "kernelspec": {
   "display_name": "Python 3.10.5 64-bit",
   "language": "python",
   "name": "python3"
  },
  "language_info": {
   "codemirror_mode": {
    "name": "ipython",
    "version": 3
   },
   "file_extension": ".py",
   "mimetype": "text/x-python",
   "name": "python",
   "nbconvert_exporter": "python",
   "pygments_lexer": "ipython3",
   "version": "3.10.5"
  },
  "orig_nbformat": 4,
  "vscode": {
   "interpreter": {
    "hash": "aee8b7b246df8f9039afb4144a1f6fd8d2ca17a180786b69acc140d282b71a49"
   }
  }
 },
 "nbformat": 4,
 "nbformat_minor": 2
}
