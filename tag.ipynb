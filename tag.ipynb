{
 "cells": [
  {
   "cell_type": "code",
   "execution_count": 1,
   "metadata": {},
   "outputs": [],
   "source": [
    "from cadcad.spaces import space\n",
    "from cadcad.dynamics import block\n",
    "from cadcad.spaces import Bit, Real, Integer\n",
    "from cadcad.points import Point\n",
    "\n",
    "import numpy as np"
   ]
  },
  {
   "cell_type": "markdown",
   "metadata": {},
   "source": [
    "In this notebook i will make a discrete time variant of a homocidal chaufeur"
   ]
  },
  {
   "cell_type": "code",
   "execution_count": 2,
   "metadata": {},
   "outputs": [
    {
     "name": "stdout",
     "output_type": "stream",
     "text": [
      "Space Particle has dimensions {'pos': 'CartesianPlane', 'vel': 'CartesianPlane'}\n"
     ]
    },
    {
     "data": {
      "text/plain": [
       "{'pos': {'x': 'float', 'y': 'float'}, 'vel': {'dx': 'float', 'dy': 'float'}}"
      ]
     },
     "execution_count": 2,
     "metadata": {},
     "output_type": "execute_result"
    }
   ],
   "source": [
    "@space\n",
    "class CartesianPlane:\n",
    "    x:float\n",
    "    y:float\n",
    "\n",
    "CartesianPlaneDot = CartesianPlane.rename_dims({'x':'dx', 'y':'dy'})\n",
    "\n",
    "@space\n",
    "class Particle:\n",
    "    pos:CartesianPlane\n",
    "    vel:CartesianPlaneDot\n",
    "\n",
    "print(Particle)\n",
    "Particle.unroll_schema()"
   ]
  },
  {
   "cell_type": "code",
   "execution_count": 3,
   "metadata": {},
   "outputs": [
    {
     "data": {
      "text/plain": [
       "{'dx': 'float', 'dy': 'float'}"
      ]
     },
     "execution_count": 3,
     "metadata": {},
     "output_type": "execute_result"
    }
   ],
   "source": [
    "CartesianPlaneDot.unroll_schema()"
   ]
  },
  {
   "cell_type": "code",
   "execution_count": 4,
   "metadata": {},
   "outputs": [
    {
     "name": "stdout",
     "output_type": "stream",
     "text": [
      "Space Unicycle has dimensions {'pos': 'PolarPlane', 'vel': 'PolarPlane'}\n"
     ]
    },
    {
     "data": {
      "text/plain": [
       "{'pos': {'r': 'float', 'theta': 'float'},\n",
       " 'vel': {'dr': 'float', 'dtheta': 'float'}}"
      ]
     },
     "execution_count": 4,
     "metadata": {},
     "output_type": "execute_result"
    }
   ],
   "source": [
    "@space\n",
    "class PolarPlane:\n",
    "    r:float\n",
    "    theta:float\n",
    "\n",
    "PolarPlaneDot = PolarPlane.rename_dims({'r':'dr', 'theta':'dtheta'})\n",
    "\n",
    "@space\n",
    "class Unicycle:\n",
    "    pos: PolarPlane\n",
    "    vel: PolarPlaneDot\n",
    "\n",
    "print(Unicycle)\n",
    "Unicycle.unroll_schema()"
   ]
  },
  {
   "cell_type": "code",
   "execution_count": 5,
   "metadata": {},
   "outputs": [
    {
     "data": {
      "text/plain": [
       "{'dr': 'float', 'dtheta': 'float'}"
      ]
     },
     "execution_count": 5,
     "metadata": {},
     "output_type": "execute_result"
    }
   ],
   "source": [
    "PolarPlaneDot.unroll_schema()"
   ]
  },
  {
   "cell_type": "code",
   "execution_count": 6,
   "metadata": {},
   "outputs": [
    {
     "name": "stdout",
     "output_type": "stream",
     "text": [
      "Space GameState has dimensions {'alice': 'Particle', 'bob': 'Unicycle'}\n"
     ]
    },
    {
     "data": {
      "text/plain": [
       "{'alice': {'pos': {'x': 'float', 'y': 'float'},\n",
       "  'vel': {'dx': 'float', 'dy': 'float'}},\n",
       " 'bob': {'pos': {'r': 'float', 'theta': 'float'},\n",
       "  'vel': {'dr': 'float', 'dtheta': 'float'}}}"
      ]
     },
     "execution_count": 6,
     "metadata": {},
     "output_type": "execute_result"
    }
   ],
   "source": [
    "@space\n",
    "class GameState:\n",
    "    alice: Particle\n",
    "    bob: Unicycle\n",
    "\n",
    "@space\n",
    "class NormalizedGameState:\n",
    "    alice: Particle\n",
    "    bob: Particle\n",
    "\n",
    "print(GameState)\n",
    "GameState.unroll_schema()"
   ]
  },
  {
   "cell_type": "code",
   "execution_count": 7,
   "metadata": {},
   "outputs": [],
   "source": [
    "initAlice = Point(Particle, {'pos': {'x': 1.0, 'y': 1.0},\n",
    " 'vel': {'dx': -1.0, 'dy': 0.0}})\n",
    "\n",
    "initBob = Point(Unicycle, {'pos': {'r': 0.1, 'theta': np.pi/4},\n",
    " 'vel': {'dr': 1.0, 'dtheta': 0.0}})\n",
    "\n",
    "init = Point(GameState, {'alice':initAlice.data, 'bob':initBob.data})"
   ]
  },
  {
   "cell_type": "code",
   "execution_count": 8,
   "metadata": {},
   "outputs": [
    {
     "name": "stdout",
     "output_type": "stream",
     "text": [
      "Point in space GameState has data\n",
      "{\n",
      "    \"alice\": {\n",
      "        \"pos\": {\n",
      "            \"x\": 1.0,\n",
      "            \"y\": 1.0\n",
      "        },\n",
      "        \"vel\": {\n",
      "            \"dx\": -1.0,\n",
      "            \"dy\": 0.0\n",
      "        }\n",
      "    },\n",
      "    \"bob\": {\n",
      "        \"pos\": {\n",
      "            \"r\": 0.1,\n",
      "            \"theta\": 0.7853981633974483\n",
      "        },\n",
      "        \"vel\": {\n",
      "            \"dr\": 1.0,\n",
      "            \"dtheta\": 0.0\n",
      "        }\n",
      "    }\n",
      "}\n",
      "\n"
     ]
    }
   ],
   "source": [
    "print(init)"
   ]
  },
  {
   "cell_type": "markdown",
   "metadata": {},
   "source": [
    "Alice is a Particle Trying to Evade the Unicycle Bob so she will attempt to maximize her distance from Bob in the Next timesteo"
   ]
  },
  {
   "cell_type": "code",
   "execution_count": 9,
   "metadata": {},
   "outputs": [
    {
     "data": {
      "text/plain": [
       "{'dr': 'float', 'dtheta': 'float'}"
      ]
     },
     "execution_count": 9,
     "metadata": {},
     "output_type": "execute_result"
    }
   ],
   "source": [
    "PolarPlaneDot.unroll_schema()"
   ]
  },
  {
   "cell_type": "code",
   "execution_count": 10,
   "metadata": {},
   "outputs": [
    {
     "data": {
      "text/plain": [
       "{'r': 'float', 'theta': 'float'}"
      ]
     },
     "execution_count": 10,
     "metadata": {},
     "output_type": "execute_result"
    }
   ],
   "source": [
    "PolarPlane.unroll_schema()"
   ]
  },
  {
   "cell_type": "code",
   "execution_count": 11,
   "metadata": {},
   "outputs": [],
   "source": [
    "@block\n",
    "def awkwardConverter1(domain:Point[PolarPlaneDot])->Point[PolarPlane]:\n",
    "    \"\"\"\"\"\"\n",
    "    input = domain\n",
    "    output = {}\n",
    "    output['r'] = input['dr']\n",
    "    output['theta'] = input['dtheta']\n",
    "\n",
    "    return Point(PolarPlane, output)\n",
    "    \n",
    "@block\n",
    "def awkwardConverter2(domain:Point[CartesianPlane])->Point[CartesianPlaneDot]:\n",
    "    \"\"\"needs \"\"\"\n",
    "    input = domain\n",
    "    output = {}\n",
    "    output['dx'] = input['x']\n",
    "    output['dy'] = input['y']\n",
    "\n",
    "    return Point(CartesianPlaneDot, output)"
   ]
  },
  {
   "cell_type": "code",
   "execution_count": 12,
   "metadata": {},
   "outputs": [],
   "source": [
    "@block\n",
    "def polar2cartesian(domain: Point[PolarPlane]) -> Point[CartesianPlane]:\n",
    "    \n",
    "    r = domain[\"r\"]\n",
    "    theta = domain[\"theta\"]\n",
    "\n",
    "    x = r*np.cos(theta)\n",
    "    y = r*np.sin(theta)\n",
    "\n",
    "    output = {\"x\":x, \"y\":y}\n",
    "\n",
    "    return Point(CartesianPlane, output)\n",
    "\n",
    "@block\n",
    "def cartesian2polar(domain: Point[CartesianPlane]) -> Point[PolarPlane]:\n",
    "    \n",
    "    x = domain[\"x\"]\n",
    "    y = domain[\"y\"]\n",
    "\n",
    "    r = np.sqrt(x**2+y**2)\n",
    "    if x==0:\n",
    "        theta = np.sign(y)*np.pi/2\n",
    "    else:\n",
    "        theta = np.arctan(y/x)\n",
    "\n",
    "    output = {\"r\":r, \"theta\":theta}\n",
    "\n",
    "    return Point(PolarPlane, output)\n",
    "\n",
    "@block\n",
    "def normalize(domain:Point[GameState])->Point[NormalizedGameState]:\n",
    "    input=domain\n",
    "    aliceData = input['alice']\n",
    "\n",
    "    bobPosPolarPt = Point(PolarPlane, input['bob']['pos'])\n",
    "    bobVelPolarDotPt = Point(PolarPlaneDot, input['bob']['vel'])\n",
    "    bobVelPolarPt = awkwardConverter1(bobVelPolarDotPt)\n",
    "\n",
    "    bobPosCartesian = polar2cartesian(bobPosPolarPt)\n",
    "    bobVelCartesianTemp = polar2cartesian(bobVelPolarPt)\n",
    "    print(bobVelCartesianTemp)\n",
    "    bobVelCartesian=awkwardConverter2(bobVelCartesianTemp)\n",
    "\n",
    "    bobData = {'pos': bobPosCartesian, 'vel': bobVelCartesian}\n",
    "\n",
    "    output = Point(NormalizedGameState, {'alice':aliceData, 'bob':bobData})\n",
    "\n",
    "    return output\n",
    "\n"
   ]
  },
  {
   "cell_type": "code",
   "execution_count": 13,
   "metadata": {},
   "outputs": [
    {
     "name": "stdout",
     "output_type": "stream",
     "text": [
      "Point in space CartesianPlane has data\n",
      "{\n",
      "    \"x\": 1.0,\n",
      "    \"y\": 0.0\n",
      "}\n",
      "\n"
     ]
    },
    {
     "ename": "ValueError",
     "evalue": "Schema mismatch between the Point's Space and the data given. Expected {'dr': <class 'float'>, 'dtheta': <class 'float'>}, but received [\"dx -> <class 'numpy.float64'>\", \"dy -> <class 'numpy.float64'>\"]",
     "output_type": "error",
     "traceback": [
      "\u001b[0;31m---------------------------------------------------------------------------\u001b[0m",
      "\u001b[0;31mValueError\u001b[0m                                Traceback (most recent call last)",
      "\u001b[1;32m/Users/zargham/Documents/GitHub/cadcad-ri/tag.ipynb Cell 15\u001b[0m in \u001b[0;36m<cell line: 1>\u001b[0;34m()\u001b[0m\n\u001b[0;32m----> <a href='vscode-notebook-cell:/Users/zargham/Documents/GitHub/cadcad-ri/tag.ipynb#X20sZmlsZQ%3D%3D?line=0'>1</a>\u001b[0m normalizedInit \u001b[39m=\u001b[39m normalize(init)\n",
      "File \u001b[0;32m~/Documents/GitHub/cadcad-ri/cadcad/dynamics.py:158\u001b[0m, in \u001b[0;36mBlock.__call__\u001b[0;34m(self, *args, **kwargs)\u001b[0m\n\u001b[1;32m    157\u001b[0m \u001b[39mdef\u001b[39;00m \u001b[39m__call__\u001b[39m(\u001b[39mself\u001b[39m, \u001b[39m*\u001b[39margs: Any, \u001b[39m*\u001b[39m\u001b[39m*\u001b[39mkwargs: Any) \u001b[39m-\u001b[39m\u001b[39m>\u001b[39m Any:\n\u001b[0;32m--> 158\u001b[0m     \u001b[39mreturn\u001b[39;00m \u001b[39mself\u001b[39;49m\u001b[39m.\u001b[39;49m__function(\u001b[39m*\u001b[39;49margs, \u001b[39m*\u001b[39;49m\u001b[39m*\u001b[39;49mkwargs)\n",
      "\u001b[1;32m/Users/zargham/Documents/GitHub/cadcad-ri/tag.ipynb Cell 15\u001b[0m in \u001b[0;36mnormalize\u001b[0;34m(domain)\u001b[0m\n\u001b[1;32m     <a href='vscode-notebook-cell:/Users/zargham/Documents/GitHub/cadcad-ri/tag.ipynb#X20sZmlsZQ%3D%3D?line=39'>40</a>\u001b[0m bobVelCartesianTemp \u001b[39m=\u001b[39m polar2cartesian(bobVelPolarPt)\n\u001b[1;32m     <a href='vscode-notebook-cell:/Users/zargham/Documents/GitHub/cadcad-ri/tag.ipynb#X20sZmlsZQ%3D%3D?line=40'>41</a>\u001b[0m \u001b[39mprint\u001b[39m(bobVelCartesianTemp)\n\u001b[0;32m---> <a href='vscode-notebook-cell:/Users/zargham/Documents/GitHub/cadcad-ri/tag.ipynb#X20sZmlsZQ%3D%3D?line=41'>42</a>\u001b[0m bobVelCartesian\u001b[39m=\u001b[39mawkwardConverter2(bobVelCartesianTemp)\n\u001b[1;32m     <a href='vscode-notebook-cell:/Users/zargham/Documents/GitHub/cadcad-ri/tag.ipynb#X20sZmlsZQ%3D%3D?line=43'>44</a>\u001b[0m bobData \u001b[39m=\u001b[39m {\u001b[39m'\u001b[39m\u001b[39mpos\u001b[39m\u001b[39m'\u001b[39m: bobPosCartesian, \u001b[39m'\u001b[39m\u001b[39mvel\u001b[39m\u001b[39m'\u001b[39m: bobVelCartesian}\n\u001b[1;32m     <a href='vscode-notebook-cell:/Users/zargham/Documents/GitHub/cadcad-ri/tag.ipynb#X20sZmlsZQ%3D%3D?line=45'>46</a>\u001b[0m output \u001b[39m=\u001b[39m Point(NormalizedGameState, {\u001b[39m'\u001b[39m\u001b[39malice\u001b[39m\u001b[39m'\u001b[39m:aliceData, \u001b[39m'\u001b[39m\u001b[39mbob\u001b[39m\u001b[39m'\u001b[39m:bobData})\n",
      "File \u001b[0;32m~/Documents/GitHub/cadcad-ri/cadcad/dynamics.py:158\u001b[0m, in \u001b[0;36mBlock.__call__\u001b[0;34m(self, *args, **kwargs)\u001b[0m\n\u001b[1;32m    157\u001b[0m \u001b[39mdef\u001b[39;00m \u001b[39m__call__\u001b[39m(\u001b[39mself\u001b[39m, \u001b[39m*\u001b[39margs: Any, \u001b[39m*\u001b[39m\u001b[39m*\u001b[39mkwargs: Any) \u001b[39m-\u001b[39m\u001b[39m>\u001b[39m Any:\n\u001b[0;32m--> 158\u001b[0m     \u001b[39mreturn\u001b[39;00m \u001b[39mself\u001b[39;49m\u001b[39m.\u001b[39;49m__function(\u001b[39m*\u001b[39;49margs, \u001b[39m*\u001b[39;49m\u001b[39m*\u001b[39;49mkwargs)\n",
      "\u001b[1;32m/Users/zargham/Documents/GitHub/cadcad-ri/tag.ipynb Cell 15\u001b[0m in \u001b[0;36mawkwardConverter2\u001b[0;34m(domain)\u001b[0m\n\u001b[1;32m     <a href='vscode-notebook-cell:/Users/zargham/Documents/GitHub/cadcad-ri/tag.ipynb#X20sZmlsZQ%3D%3D?line=15'>16</a>\u001b[0m output[\u001b[39m'\u001b[39m\u001b[39mdx\u001b[39m\u001b[39m'\u001b[39m] \u001b[39m=\u001b[39m \u001b[39minput\u001b[39m[\u001b[39m'\u001b[39m\u001b[39mx\u001b[39m\u001b[39m'\u001b[39m]\n\u001b[1;32m     <a href='vscode-notebook-cell:/Users/zargham/Documents/GitHub/cadcad-ri/tag.ipynb#X20sZmlsZQ%3D%3D?line=16'>17</a>\u001b[0m output[\u001b[39m'\u001b[39m\u001b[39mdy\u001b[39m\u001b[39m'\u001b[39m] \u001b[39m=\u001b[39m \u001b[39minput\u001b[39m[\u001b[39m'\u001b[39m\u001b[39my\u001b[39m\u001b[39m'\u001b[39m]\n\u001b[0;32m---> <a href='vscode-notebook-cell:/Users/zargham/Documents/GitHub/cadcad-ri/tag.ipynb#X20sZmlsZQ%3D%3D?line=18'>19</a>\u001b[0m \u001b[39mreturn\u001b[39;00m Point(PolarPlaneDot, output)\n",
      "File \u001b[0;32m~/Documents/GitHub/cadcad-ri/cadcad/points.py:52\u001b[0m, in \u001b[0;36mPoint.__init__\u001b[0;34m(self, space, data, check_types)\u001b[0m\n\u001b[1;32m     48\u001b[0m     \u001b[39melse\u001b[39;00m:\n\u001b[1;32m     49\u001b[0m         received_type \u001b[39m=\u001b[39m [\n\u001b[1;32m     50\u001b[0m             \u001b[39mf\u001b[39m\u001b[39m\"\u001b[39m\u001b[39m{\u001b[39;00mname\u001b[39m}\u001b[39;00m\u001b[39m -> \u001b[39m\u001b[39m{\u001b[39;00m\u001b[39mtype\u001b[39m(value)\u001b[39m}\u001b[39;00m\u001b[39m\"\u001b[39m \u001b[39mfor\u001b[39;00m name, value \u001b[39min\u001b[39;00m data\u001b[39m.\u001b[39mitems()\n\u001b[1;32m     51\u001b[0m         ]\n\u001b[0;32m---> 52\u001b[0m         \u001b[39mraise\u001b[39;00m \u001b[39mValueError\u001b[39;00m(\n\u001b[1;32m     53\u001b[0m             \u001b[39m\"\u001b[39m\u001b[39mSchema mismatch between the Point\u001b[39m\u001b[39m'\u001b[39m\u001b[39ms Space and the data given. \u001b[39m\u001b[39m\"\u001b[39m\n\u001b[1;32m     54\u001b[0m             \u001b[39m+\u001b[39m \u001b[39mf\u001b[39m\u001b[39m\"\u001b[39m\u001b[39mExpected \u001b[39m\u001b[39m{\u001b[39;00mdims\u001b[39m}\u001b[39;00m\u001b[39m, but received \u001b[39m\u001b[39m{\u001b[39;00mreceived_type\u001b[39m}\u001b[39;00m\u001b[39m\"\u001b[39m\n\u001b[1;32m     55\u001b[0m         )\n\u001b[1;32m     56\u001b[0m \u001b[39melse\u001b[39;00m:\n\u001b[1;32m     57\u001b[0m     \u001b[39mself\u001b[39m\u001b[39m.\u001b[39m__data \u001b[39m=\u001b[39m data\n",
      "\u001b[0;31mValueError\u001b[0m: Schema mismatch between the Point's Space and the data given. Expected {'dr': <class 'float'>, 'dtheta': <class 'float'>}, but received [\"dx -> <class 'numpy.float64'>\", \"dy -> <class 'numpy.float64'>\"]"
     ]
    }
   ],
   "source": [
    "normalizedInit = normalize(init)"
   ]
  },
  {
   "cell_type": "code",
   "execution_count": null,
   "metadata": {},
   "outputs": [],
   "source": []
  }
 ],
 "metadata": {
  "kernelspec": {
   "display_name": "Python 3.10.4 ('py10')",
   "language": "python",
   "name": "python3"
  },
  "language_info": {
   "codemirror_mode": {
    "name": "ipython",
    "version": 3
   },
   "file_extension": ".py",
   "mimetype": "text/x-python",
   "name": "python",
   "nbconvert_exporter": "python",
   "pygments_lexer": "ipython3",
   "version": "3.10.4"
  },
  "orig_nbformat": 4,
  "vscode": {
   "interpreter": {
    "hash": "1a8de16e480ce6c374d7a7a0f904964a05926e5b58eea6a17940b28a68c7d599"
   }
  }
 },
 "nbformat": 4,
 "nbformat_minor": 2
}
