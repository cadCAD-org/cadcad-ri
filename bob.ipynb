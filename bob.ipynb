{
 "cells": [
  {
   "cell_type": "code",
   "execution_count": 1,
   "metadata": {},
   "outputs": [],
   "source": [
    "from cadcad.spaces import space\n",
    "from cadcad.dynamics import block\n",
    "from cadcad.spaces import Bit, Real, Integer, EmptySpace\n",
    "from cadcad.points import Point\n",
    "from cadcad.systems import Experiment\n",
    "from copy import deepcopy\n",
    "import numpy as np\n",
    "import pandas as pd\n",
    "import matplotlib.pyplot as plt"
   ]
  },
  {
   "cell_type": "code",
   "execution_count": 2,
   "metadata": {},
   "outputs": [
    {
     "name": "stdout",
     "output_type": "stream",
     "text": [
      "Space Bit has dimensions {'bit': 'bool'}\n"
     ]
    }
   ],
   "source": [
    "print(Bit)"
   ]
  },
  {
   "cell_type": "markdown",
   "metadata": {},
   "source": [
    "In this notebook i will make a discrete time variant of a homocidal chaufeur"
   ]
  },
  {
   "cell_type": "code",
   "execution_count": 3,
   "metadata": {},
   "outputs": [
    {
     "name": "stdout",
     "output_type": "stream",
     "text": [
      "Space Particle has dimensions {'pos': 'CartesianPlane', 'vel': 'CartesianPlane', 'maxspeed': 'float'}\n"
     ]
    },
    {
     "data": {
      "text/plain": [
       "{'pos': {'x': 'float', 'y': 'float'},\n",
       " 'vel': {'dx': 'float', 'dy': 'float'},\n",
       " 'maxspeed': 'float'}"
      ]
     },
     "execution_count": 3,
     "metadata": {},
     "output_type": "execute_result"
    }
   ],
   "source": [
    "\n",
    "@space\n",
    "class CartesianPlane:\n",
    "    x:float\n",
    "    y:float\n",
    "\n",
    "CartesianPlaneDot = CartesianPlane.rename_dims({'x':'dx', 'y':'dy'})\n",
    "\n",
    "@space\n",
    "class Particle:\n",
    "    pos:CartesianPlane\n",
    "    vel:CartesianPlaneDot\n",
    "    # used to encode a constraint\n",
    "    #but this is exactly the kind of thing\n",
    "    #i would like to push into the model params\n",
    "    maxspeed : float\n",
    "\n",
    "#this block serves as a kind of constraint checker for Particle\n",
    "#i would like to be able to assign this block to the Space Particle\n",
    "#as a builtin constraint\n",
    "@block\n",
    "def isValidParticle(domain:Point[Particle])-> Point[Bit]:\n",
    "    input = domain\n",
    "    dx= input['vel']['dx']\n",
    "    dy= input['vel']['dy']\n",
    "\n",
    "    vmax = input['maxspeed']\n",
    "\n",
    "    output = {'bit':bool(dx**2+dy**2<=vmax**2)}\n",
    "\n",
    "    return Point(Bit, output)\n",
    "\n",
    "@block\n",
    "def projectValidParticle(domain:Point[Particle])-> Point[Particle]:\n",
    "    input = domain\n",
    "\n",
    "    bit = isValidParticle(input)\n",
    "    output = input\n",
    "    if not(bit['bit']):\n",
    "        dx= input['vel']['dx']\n",
    "        dy= input['vel']['dy']\n",
    "        magnitude = np.sqrt(dx**2+dy**2)\n",
    "        output['vel']['dx'] = input['maxspeed']*dx/magnitude\n",
    "        output['vel']['dy'] = input['maxspeed']*dy/magnitude\n",
    "      \n",
    "    return output\n",
    "\n",
    "\n",
    "print(Particle)\n",
    "Particle.unroll_schema()"
   ]
  },
  {
   "cell_type": "code",
   "execution_count": 4,
   "metadata": {},
   "outputs": [
    {
     "data": {
      "text/plain": [
       "{'pos': 'CartesianPlane', 'vel': 'CartesianPlane', 'maxspeed': 'float'}"
      ]
     },
     "execution_count": 4,
     "metadata": {},
     "output_type": "execute_result"
    }
   ],
   "source": [
    "Particle.dimensions()"
   ]
  },
  {
   "cell_type": "code",
   "execution_count": 5,
   "metadata": {},
   "outputs": [
    {
     "data": {
      "text/plain": [
       "{'dx': 'float', 'dy': 'float'}"
      ]
     },
     "execution_count": 5,
     "metadata": {},
     "output_type": "execute_result"
    }
   ],
   "source": [
    "CartesianPlaneDot.unroll_schema()"
   ]
  },
  {
   "cell_type": "code",
   "execution_count": 6,
   "metadata": {},
   "outputs": [],
   "source": [
    "initAlice = Point(Particle, {'pos': {'x': 1.0, 'y': 1.0},\n",
    " 'vel': {'dx': -.2, 'dy': .2}, 'maxspeed':.2})"
   ]
  },
  {
   "cell_type": "code",
   "execution_count": 7,
   "metadata": {},
   "outputs": [
    {
     "name": "stdout",
     "output_type": "stream",
     "text": [
      "Point in space Particle has data\n",
      "{\n",
      "    \"pos\": {\n",
      "        \"x\": 1.0,\n",
      "        \"y\": 1.0\n",
      "    },\n",
      "    \"vel\": {\n",
      "        \"dx\": -0.2,\n",
      "        \"dy\": 0.2\n",
      "    },\n",
      "    \"maxspeed\": 0.2\n",
      "}\n",
      "\n"
     ]
    }
   ],
   "source": [
    "print(initAlice)"
   ]
  },
  {
   "cell_type": "code",
   "execution_count": 8,
   "metadata": {},
   "outputs": [
    {
     "data": {
      "text/plain": [
       "0.9999999999999999"
      ]
     },
     "execution_count": 8,
     "metadata": {},
     "output_type": "execute_result"
    }
   ],
   "source": [
    "np.sqrt(.7071067811865475**2+.7071067811865475**2)\n"
   ]
  },
  {
   "cell_type": "code",
   "execution_count": 9,
   "metadata": {},
   "outputs": [
    {
     "name": "stdout",
     "output_type": "stream",
     "text": [
      "Point in space Bit has data\n",
      "{\n",
      "    \"bit\": false\n",
      "}\n",
      "\n"
     ]
    }
   ],
   "source": [
    "print(isValidParticle(initAlice))"
   ]
  },
  {
   "cell_type": "code",
   "execution_count": 10,
   "metadata": {},
   "outputs": [
    {
     "name": "stdout",
     "output_type": "stream",
     "text": [
      "Point in space Particle has data\n",
      "{\n",
      "    \"pos\": {\n",
      "        \"x\": 1.0,\n",
      "        \"y\": 1.0\n",
      "    },\n",
      "    \"vel\": {\n",
      "        \"dx\": -0.1414213562373095,\n",
      "        \"dy\": 0.1414213562373095\n",
      "    },\n",
      "    \"maxspeed\": 0.2\n",
      "}\n",
      "\n"
     ]
    }
   ],
   "source": [
    "print(projectValidParticle(initAlice))"
   ]
  },
  {
   "cell_type": "code",
   "execution_count": 11,
   "metadata": {},
   "outputs": [
    {
     "name": "stdout",
     "output_type": "stream",
     "text": [
      "Point in space Particle has data\n",
      "{\n",
      "    \"pos\": {\n",
      "        \"x\": 1.0,\n",
      "        \"y\": 1.0\n",
      "    },\n",
      "    \"vel\": {\n",
      "        \"dx\": -0.1414213562373095,\n",
      "        \"dy\": 0.1414213562373095\n",
      "    },\n",
      "    \"maxspeed\": 0.2\n",
      "}\n",
      "\n"
     ]
    }
   ],
   "source": [
    "\n",
    "validInitAlice = deepcopy(projectValidParticle(initAlice))\n",
    "#desirable UX\n",
    "# validInitAlice = initAlice.apply(projectValidParticle)\n",
    "print(validInitAlice)"
   ]
  },
  {
   "cell_type": "code",
   "execution_count": 12,
   "metadata": {},
   "outputs": [
    {
     "data": {
      "text/plain": [
       "{'ddx': 'float', 'ddy': 'float'}"
      ]
     },
     "execution_count": 12,
     "metadata": {},
     "output_type": "execute_result"
    }
   ],
   "source": [
    "Acc = CartesianPlane.rename_dims({'x':'ddx', 'y':'ddy'})\n",
    "Acc.unroll_schema()"
   ]
  },
  {
   "cell_type": "code",
   "execution_count": 13,
   "metadata": {},
   "outputs": [
    {
     "data": {
      "text/plain": [
       "{'particle': {'pos': {'x': 'float', 'y': 'float'},\n",
       "  'vel': {'dx': 'float', 'dy': 'float'},\n",
       "  'maxspeed': 'float'},\n",
       " 'acc': {'ddx': 'float', 'ddy': 'float'}}"
      ]
     },
     "execution_count": 13,
     "metadata": {},
     "output_type": "execute_result"
    }
   ],
   "source": [
    "AliceUpdateDomain = (Particle * Acc).rename_dims({'cartesianplane':\"acc\"})\n",
    "AliceUpdateDomain.unroll_schema()"
   ]
  },
  {
   "cell_type": "code",
   "execution_count": 14,
   "metadata": {},
   "outputs": [],
   "source": [
    "@block\n",
    "def particleSubspace(domain: Point[AliceUpdateDomain])-> Point[Particle]:\n",
    "    input = domain\n",
    "    return Point(Particle, input.data['particle'])"
   ]
  },
  {
   "cell_type": "code",
   "execution_count": 15,
   "metadata": {},
   "outputs": [],
   "source": [
    "\n",
    "@block\n",
    "def aliceUpdate(domain:Point[AliceUpdateDomain])-> Point[Particle]:\n",
    "    input = domain\n",
    "    output = particleSubspace(input)\n",
    "\n",
    "    output['pos']['x']  += input['particle']['vel']['dx']\n",
    "    output['pos']['y']  += input['particle']['vel']['dy']\n",
    "\n",
    "    output['vel']['dx']  += input['acc']['ddx']\n",
    "    output['vel']['dy']  += input['acc']['ddy']\n",
    "\n",
    "    output = projectValidParticle(output)\n",
    "\n",
    "    return output\n",
    "    "
   ]
  },
  {
   "cell_type": "code",
   "execution_count": 16,
   "metadata": {},
   "outputs": [],
   "source": [
    "import json\n",
    "def printPretty(nestedDict,sort_keys=True, indent=4):\n",
    "    print(json.dumps(nestedDict,sort_keys=sort_keys, indent=indent))"
   ]
  },
  {
   "cell_type": "code",
   "execution_count": 17,
   "metadata": {},
   "outputs": [
    {
     "name": "stdout",
     "output_type": "stream",
     "text": [
      "{\n",
      "    \"acc\": {\n",
      "        \"ddx\": \"float\",\n",
      "        \"ddy\": \"float\"\n",
      "    },\n",
      "    \"particle\": {\n",
      "        \"maxspeed\": \"float\",\n",
      "        \"pos\": {\n",
      "            \"x\": \"float\",\n",
      "            \"y\": \"float\"\n",
      "        },\n",
      "        \"vel\": {\n",
      "            \"dx\": \"float\",\n",
      "            \"dy\": \"float\"\n",
      "        }\n",
      "    }\n",
      "}\n"
     ]
    }
   ],
   "source": [
    "alice_acc_data = {'acc':{'ddx':-.5, 'ddy':-.1 }}\n",
    "alice_acc_data['particle'] = deepcopy(validInitAlice.data)\n",
    "printPretty(AliceUpdateDomain.unroll_schema())"
   ]
  },
  {
   "cell_type": "code",
   "execution_count": 18,
   "metadata": {},
   "outputs": [
    {
     "name": "stdout",
     "output_type": "stream",
     "text": [
      "{\n",
      "    \"acc\": {\n",
      "        \"ddx\": -0.5,\n",
      "        \"ddy\": -0.1\n",
      "    },\n",
      "    \"particle\": {\n",
      "        \"maxspeed\": 0.2,\n",
      "        \"pos\": {\n",
      "            \"x\": 1.0,\n",
      "            \"y\": 1.0\n",
      "        },\n",
      "        \"vel\": {\n",
      "            \"dx\": -0.1414213562373095,\n",
      "            \"dy\": 0.1414213562373095\n",
      "        }\n",
      "    }\n",
      "}\n"
     ]
    }
   ],
   "source": [
    "printPretty(alice_acc_data)"
   ]
  },
  {
   "cell_type": "code",
   "execution_count": 19,
   "metadata": {},
   "outputs": [],
   "source": [
    "alice_update_input = Point(AliceUpdateDomain, alice_acc_data)"
   ]
  },
  {
   "cell_type": "code",
   "execution_count": 20,
   "metadata": {},
   "outputs": [
    {
     "name": "stdout",
     "output_type": "stream",
     "text": [
      "Point in space Particle*CartesianPlane has data\n",
      "{\n",
      "    \"acc\": {\n",
      "        \"ddx\": -0.5,\n",
      "        \"ddy\": -0.1\n",
      "    },\n",
      "    \"particle\": {\n",
      "        \"pos\": {\n",
      "            \"x\": 1.0,\n",
      "            \"y\": 1.0\n",
      "        },\n",
      "        \"vel\": {\n",
      "            \"dx\": -0.1414213562373095,\n",
      "            \"dy\": 0.1414213562373095\n",
      "        },\n",
      "        \"maxspeed\": 0.2\n",
      "    }\n",
      "}\n",
      "\n"
     ]
    }
   ],
   "source": [
    "print(alice_update_input)"
   ]
  },
  {
   "cell_type": "code",
   "execution_count": 21,
   "metadata": {},
   "outputs": [
    {
     "name": "stdout",
     "output_type": "stream",
     "text": [
      "Point in space Particle has data\n",
      "{\n",
      "    \"pos\": {\n",
      "        \"x\": 1.0,\n",
      "        \"y\": 1.0\n",
      "    },\n",
      "    \"vel\": {\n",
      "        \"dx\": -0.1414213562373095,\n",
      "        \"dy\": 0.1414213562373095\n",
      "    },\n",
      "    \"maxspeed\": 0.2\n",
      "}\n",
      "\n"
     ]
    }
   ],
   "source": [
    "alice_new = deepcopy(aliceUpdate(alice_update_input))\n",
    "print(initAlice)"
   ]
  },
  {
   "cell_type": "code",
   "execution_count": 22,
   "metadata": {},
   "outputs": [
    {
     "name": "stdout",
     "output_type": "stream",
     "text": [
      "Point in space Particle has data\n",
      "{\n",
      "    \"pos\": {\n",
      "        \"x\": 1.0,\n",
      "        \"y\": 1.0\n",
      "    },\n",
      "    \"vel\": {\n",
      "        \"dx\": -0.1414213562373095,\n",
      "        \"dy\": 0.1414213562373095\n",
      "    },\n",
      "    \"maxspeed\": 0.2\n",
      "}\n",
      "\n"
     ]
    }
   ],
   "source": [
    "print(validInitAlice)"
   ]
  },
  {
   "cell_type": "code",
   "execution_count": 23,
   "metadata": {},
   "outputs": [
    {
     "name": "stdout",
     "output_type": "stream",
     "text": [
      "Point in space Particle has data\n",
      "{\n",
      "    \"pos\": {\n",
      "        \"x\": 0.8585786437626906,\n",
      "        \"y\": 1.1414213562373094\n",
      "    },\n",
      "    \"vel\": {\n",
      "        \"dx\": -0.1995842750873474,\n",
      "        \"dy\": 0.012888643755571487\n",
      "    },\n",
      "    \"maxspeed\": 0.2\n",
      "}\n",
      "\n"
     ]
    }
   ],
   "source": [
    "print(alice_new)"
   ]
  },
  {
   "cell_type": "markdown",
   "metadata": {},
   "source": [
    "Currently it appears that we are updating the earlier point `initAlice` in the process of creating the new point `validInitAlice` and `alice_new` since they all have the same value."
   ]
  },
  {
   "cell_type": "markdown",
   "metadata": {},
   "source": [
    "## Bob Riding a Unicycle "
   ]
  },
  {
   "cell_type": "markdown",
   "metadata": {},
   "source": [
    "### Start by defining the polar plane as a space and the Unicycle as a space on the polar plane"
   ]
  },
  {
   "cell_type": "code",
   "execution_count": 24,
   "metadata": {},
   "outputs": [
    {
     "name": "stdout",
     "output_type": "stream",
     "text": [
      "Space Unicycle has dimensions {'pos': 'PolarPlane', 'vel': 'PolarPlane', 'speed_max': 'float', 'turn_max': 'float'}\n"
     ]
    },
    {
     "data": {
      "text/plain": [
       "{'pos': {'r': 'float', 'theta': 'float'},\n",
       " 'vel': {'dr': 'float', 'dtheta': 'float'},\n",
       " 'speed_max': 'float',\n",
       " 'turn_max': 'float'}"
      ]
     },
     "execution_count": 24,
     "metadata": {},
     "output_type": "execute_result"
    }
   ],
   "source": [
    "@space\n",
    "class PolarPlane:\n",
    "    r:float\n",
    "    theta:float\n",
    "\n",
    "PolarPlaneDot = PolarPlane.rename_dims({'r':'dr', 'theta':'dtheta'})\n",
    "\n",
    "@space\n",
    "class Unicycle:\n",
    "    pos: PolarPlane\n",
    "    vel: PolarPlaneDot\n",
    "    speed_max : float\n",
    "    turn_max : float\n",
    "\n",
    "print(Unicycle)\n",
    "Unicycle.unroll_schema()"
   ]
  },
  {
   "cell_type": "markdown",
   "metadata": {},
   "source": [
    "#### Create 2 constraints for motion of unicycle as a block for each, then create a block that gives the rules for handling both an input update and a constraint violation"
   ]
  },
  {
   "cell_type": "code",
   "execution_count": 25,
   "metadata": {},
   "outputs": [
    {
     "name": "stdout",
     "output_type": "stream",
     "text": [
      "Space Unicycle has dimensions {'pos': 'PolarPlane', 'vel': 'PolarPlane', 'speed_max': 'float', 'turn_max': 'float'}\n"
     ]
    },
    {
     "data": {
      "text/plain": [
       "{'pos': {'r': 'float', 'theta': 'float'},\n",
       " 'vel': {'dr': 'float', 'dtheta': 'float'},\n",
       " 'speed_max': 'float',\n",
       " 'turn_max': 'float'}"
      ]
     },
     "execution_count": 25,
     "metadata": {},
     "output_type": "execute_result"
    }
   ],
   "source": [
    "@block\n",
    "def isValidUnicycleSpeed(domain:Point[Unicycle])-> Point[Bit]:\n",
    "    input = domain\n",
    "    dr= input['vel']['dr']\n",
    "\n",
    "    # speed_max would be in parameter space and should be independent from other agent's max speed\n",
    "    vmax = input['speed_max']\n",
    "\n",
    "    output = {'bit':bool(dr<=vmax)}\n",
    "\n",
    "    return Point(Bit, output)\n",
    "\n",
    "@block\n",
    "def isValidUnicycleTurn(domain:Point[Unicycle])-> Point[Bit]:\n",
    "    input = domain\n",
    "    dtheta= input['vel']['dtheta']\n",
    "    # turn_max would be in parameter space\n",
    "    turn_max = input['turn_max']\n",
    "\n",
    "    output = {'bit':bool(dtheta<=turn_max)}\n",
    "\n",
    "    return Point(Bit, output)\n",
    "\n",
    "@block\n",
    "def projectValidUnicycle(domain:Point[Unicycle])-> Point[Unicycle]:\n",
    "    input = domain\n",
    "\n",
    "    speed_bit = isValidUnicycleSpeed(input)\n",
    "    turn_bit = isValidUnicycleTurn(input)\n",
    "    \n",
    "    output = input\n",
    "    if not(speed_bit['bit']) :\n",
    "        output['vel']['dr'] = input['speed_max']\n",
    "\n",
    "    if not(turn_bit['bit']):\n",
    "        output['vel']['dtheta'] = input['turn_max']\n",
    "\n",
    "    return output\n",
    "\n",
    "\n",
    "print(Unicycle)\n",
    "Unicycle.unroll_schema()"
   ]
  },
  {
   "cell_type": "markdown",
   "metadata": {},
   "source": [
    "Initialize Bob on a Unicycle Point"
   ]
  },
  {
   "cell_type": "code",
   "execution_count": 26,
   "metadata": {},
   "outputs": [],
   "source": [
    "initBob = Point(Unicycle, {'pos': {'r': 1.0, 'theta': np.pi/4},\n",
    "    'vel': {'dr': 1.0, 'dtheta': np.pi/8},\n",
    "    'speed_max': 2.0,\n",
    "    'turn_max': np.pi/4})"
   ]
  },
  {
   "cell_type": "markdown",
   "metadata": {},
   "source": [
    "Check Bob is valid against speed magnitude constraint"
   ]
  },
  {
   "cell_type": "code",
   "execution_count": 27,
   "metadata": {},
   "outputs": [
    {
     "name": "stdout",
     "output_type": "stream",
     "text": [
      "Point in space Bit has data\n",
      "{\n",
      "    \"bit\": true\n",
      "}\n",
      "\n"
     ]
    }
   ],
   "source": [
    "print(isValidUnicycleSpeed(initBob))"
   ]
  },
  {
   "cell_type": "markdown",
   "metadata": {},
   "source": [
    "Check Bob is valid against turning constraint"
   ]
  },
  {
   "cell_type": "code",
   "execution_count": 28,
   "metadata": {},
   "outputs": [
    {
     "name": "stdout",
     "output_type": "stream",
     "text": [
      "Point in space Bit has data\n",
      "{\n",
      "    \"bit\": true\n",
      "}\n",
      "\n"
     ]
    }
   ],
   "source": [
    "print(isValidUnicycleTurn(initBob))"
   ]
  },
  {
   "cell_type": "markdown",
   "metadata": {},
   "source": [
    "Check Bob's desired input values as projected output values"
   ]
  },
  {
   "cell_type": "code",
   "execution_count": 29,
   "metadata": {},
   "outputs": [
    {
     "name": "stdout",
     "output_type": "stream",
     "text": [
      "Point in space Unicycle has data\n",
      "{\n",
      "    \"pos\": {\n",
      "        \"r\": 1.0,\n",
      "        \"theta\": 0.7853981633974483\n",
      "    },\n",
      "    \"vel\": {\n",
      "        \"dr\": 1.0,\n",
      "        \"dtheta\": 0.39269908169872414\n",
      "    },\n",
      "    \"speed_max\": 2.0,\n",
      "    \"turn_max\": 0.7853981633974483\n",
      "}\n",
      "\n"
     ]
    }
   ],
   "source": [
    "print(projectValidUnicycle(initBob))"
   ]
  },
  {
   "cell_type": "markdown",
   "metadata": {},
   "source": [
    "Create Bad Bob who knowingly exceeds the dr and dtheta constraints"
   ]
  },
  {
   "cell_type": "code",
   "execution_count": 30,
   "metadata": {},
   "outputs": [],
   "source": [
    "initBadBob = Point(Unicycle, {'pos': {'r': 1.0, 'theta': np.pi/4},\n",
    "    'vel': {'dr': 5.0, 'dtheta': np.pi/2},\n",
    "    'speed_max': 2.0,\n",
    "    'turn_max': np.pi/4})"
   ]
  },
  {
   "cell_type": "markdown",
   "metadata": {},
   "source": [
    "Check Bad Bob against Constraints"
   ]
  },
  {
   "cell_type": "code",
   "execution_count": 31,
   "metadata": {},
   "outputs": [
    {
     "name": "stdout",
     "output_type": "stream",
     "text": [
      "Point in space Bit has data\n",
      "{\n",
      "    \"bit\": false\n",
      "}\n",
      "\n"
     ]
    }
   ],
   "source": [
    "print(isValidUnicycleSpeed(initBadBob))"
   ]
  },
  {
   "cell_type": "code",
   "execution_count": 32,
   "metadata": {},
   "outputs": [
    {
     "name": "stdout",
     "output_type": "stream",
     "text": [
      "Point in space Bit has data\n",
      "{\n",
      "    \"bit\": false\n",
      "}\n",
      "\n"
     ]
    }
   ],
   "source": [
    "print(isValidUnicycleTurn(initBadBob))"
   ]
  },
  {
   "cell_type": "markdown",
   "metadata": {},
   "source": [
    "Check Bob's desired input values against projected output values with constraint application"
   ]
  },
  {
   "cell_type": "code",
   "execution_count": 33,
   "metadata": {},
   "outputs": [
    {
     "name": "stdout",
     "output_type": "stream",
     "text": [
      "Point in space Unicycle has data\n",
      "{\n",
      "    \"pos\": {\n",
      "        \"r\": 1.0,\n",
      "        \"theta\": 0.7853981633974483\n",
      "    },\n",
      "    \"vel\": {\n",
      "        \"dr\": 2.0,\n",
      "        \"dtheta\": 0.7853981633974483\n",
      "    },\n",
      "    \"speed_max\": 2.0,\n",
      "    \"turn_max\": 0.7853981633974483\n",
      "}\n",
      "\n"
     ]
    }
   ],
   "source": [
    "print(projectValidUnicycle(initBadBob))"
   ]
  },
  {
   "cell_type": "markdown",
   "metadata": {},
   "source": [
    "### Create Unicycle Subspace for input of u"
   ]
  },
  {
   "cell_type": "code",
   "execution_count": 34,
   "metadata": {},
   "outputs": [],
   "source": [
    "@block\n",
    "def UnicycleSubspace(domain: Point[Unicycle])-> Point[Unicycle]:\n",
    "    input = domain\n",
    "    return Point(Unicycle, input.data)"
   ]
  },
  {
   "cell_type": "markdown",
   "metadata": {},
   "source": [
    "### Create Block to update the Unicycle point with the input u"
   ]
  },
  {
   "cell_type": "code",
   "execution_count": 35,
   "metadata": {},
   "outputs": [],
   "source": [
    "@block\n",
    "def BobUpdate(domain:Point[Unicycle])-> Point[Unicycle]:\n",
    "    input = domain\n",
    "    output = UnicycleSubspace(input)\n",
    "    output['pos']['r']  += input['vel']['dr']\n",
    "    output['pos']['theta']  += input['vel']['dtheta']\n",
    "\n",
    "    output['vel']['dr']  = input['vel']['dr']\n",
    "    output['vel']['dtheta']  = input['vel']['dtheta']\n",
    "\n",
    "    output = projectValidUnicycle(output)\n",
    "\n",
    "    return output"
   ]
  },
  {
   "cell_type": "markdown",
   "metadata": {},
   "source": [
    "### Input u"
   ]
  },
  {
   "cell_type": "code",
   "execution_count": 36,
   "metadata": {},
   "outputs": [],
   "source": [
    "u_Bob = Point(Unicycle, {'pos': {'r': 1.0, 'theta': np.pi/4},\n",
    "    'vel': {'dr': 5.0, 'dtheta': np.pi/10},\n",
    "    'speed_max': 2.0,\n",
    "    'turn_max': np.pi/4})"
   ]
  },
  {
   "cell_type": "code",
   "execution_count": 37,
   "metadata": {},
   "outputs": [
    {
     "name": "stdout",
     "output_type": "stream",
     "text": [
      "Point in space Unicycle has data\n",
      "{\n",
      "    \"pos\": {\n",
      "        \"r\": 1.0,\n",
      "        \"theta\": 0.7853981633974483\n",
      "    },\n",
      "    \"vel\": {\n",
      "        \"dr\": 5.0,\n",
      "        \"dtheta\": 0.3141592653589793\n",
      "    },\n",
      "    \"speed_max\": 2.0,\n",
      "    \"turn_max\": 0.7853981633974483\n",
      "}\n",
      "\n"
     ]
    }
   ],
   "source": [
    "print(u_Bob)"
   ]
  },
  {
   "cell_type": "markdown",
   "metadata": {},
   "source": [
    "Use input u to update Bob"
   ]
  },
  {
   "cell_type": "code",
   "execution_count": 38,
   "metadata": {},
   "outputs": [
    {
     "name": "stdout",
     "output_type": "stream",
     "text": [
      "Point in space Unicycle has data\n",
      "{\n",
      "    \"pos\": {\n",
      "        \"r\": 6.0,\n",
      "        \"theta\": 1.0995574287564276\n",
      "    },\n",
      "    \"vel\": {\n",
      "        \"dr\": 2.0,\n",
      "        \"dtheta\": 0.3141592653589793\n",
      "    },\n",
      "    \"speed_max\": 2.0,\n",
      "    \"turn_max\": 0.7853981633974483\n",
      "}\n",
      "\n"
     ]
    }
   ],
   "source": [
    "print(BobUpdate(u_Bob))"
   ]
  },
  {
   "cell_type": "markdown",
   "metadata": {},
   "source": [
    "### Create Dynamics"
   ]
  },
  {
   "cell_type": "code",
   "execution_count": 39,
   "metadata": {},
   "outputs": [
    {
     "name": "stdout",
     "output_type": "stream",
     "text": [
      "Point in space EmptySpace has data\n",
      "{}\n",
      "\n"
     ]
    }
   ],
   "source": [
    "emptyPoint = Point(EmptySpace,{})\n",
    "print(emptyPoint)"
   ]
  },
  {
   "cell_type": "code",
   "execution_count": 40,
   "metadata": {},
   "outputs": [],
   "source": [
    "empty_Bob = Point(Unicycle, {'pos': {'r':0.0, 'theta': 0.0},\n",
    "    'vel': {'dr': 0.0, 'dtheta': 0.0},\n",
    "    'speed_max': np.infty,\n",
    "    'turn_max': np.infty})"
   ]
  },
  {
   "cell_type": "code",
   "execution_count": 41,
   "metadata": {},
   "outputs": [],
   "source": [
    "@block\n",
    "def randomTurn(domain:Point[EmptySpace])-> Point[PolarPlaneDot]:\n",
    "    input = deepcopy(domain)\n",
    "    output = input\n",
    "    # output = UnicycleSubspace(input)\n",
    "    output = {}\n",
    "    output['dr'] = 1.0\n",
    "    output['dtheta'] = np.random.randn()/(2*np.pi)\n",
    "    return Point(PolarPlaneDot, output)"
   ]
  },
  {
   "cell_type": "code",
   "execution_count": 42,
   "metadata": {},
   "outputs": [],
   "source": [
    "@block\n",
    "def randomPedal(domain:Point[EmptySpace])-> Point[PolarPlaneDot]:\n",
    "    input = deepcopy(domain)\n",
    "    output = input\n",
    "    # output = UnicycleSubspace(input) #didn't work\n",
    "    output = {}\n",
    "    output['dr'] = np.random.randn()/(2)\n",
    "    output['dtheta'] = 1.0\n",
    "    return Point(PolarPlaneDot, output)"
   ]
  },
  {
   "cell_type": "code",
   "execution_count": 43,
   "metadata": {},
   "outputs": [
    {
     "name": "stdout",
     "output_type": "stream",
     "text": [
      "Point in space PolarPlane has data\n",
      "{\n",
      "    \"dr\": 1.0,\n",
      "    \"dtheta\": 0.042208077949911514\n",
      "}\n",
      "\n"
     ]
    }
   ],
   "source": [
    "print(randomTurn(emptyPoint))"
   ]
  },
  {
   "cell_type": "code",
   "execution_count": 44,
   "metadata": {},
   "outputs": [
    {
     "name": "stdout",
     "output_type": "stream",
     "text": [
      "Point in space PolarPlane has data\n",
      "{\n",
      "    \"dr\": -0.009664972739157077,\n",
      "    \"dtheta\": 1.0\n",
      "}\n",
      "\n"
     ]
    }
   ],
   "source": [
    "print(randomPedal(emptyPoint))"
   ]
  },
  {
   "cell_type": "code",
   "execution_count": 45,
   "metadata": {},
   "outputs": [],
   "source": [
    "@block\n",
    "def BobDynamics(domain:Point[Unicycle])->Point[Unicycle]:\n",
    "    bob = deepcopy(domain)\n",
    "    dtheta = randomTurn(emptyPoint)\n",
    "    dr = randomPedal(emptyPoint)\n",
    "    bob['vel']['dtheta'] = dtheta['dtheta']\n",
    "    bob['vel']['dr'] = dr['dr']\n",
    "    # print(bob)\n",
    "    # args = Point(Unicycle, bob)\n",
    "\n",
    "    output = BobUpdate(bob)\n",
    "\n",
    "    return output"
   ]
  },
  {
   "cell_type": "code",
   "execution_count": 46,
   "metadata": {},
   "outputs": [
    {
     "data": {
      "text/plain": [
       "<cadcad.points.Point at 0x28ca4199b10>"
      ]
     },
     "execution_count": 46,
     "metadata": {},
     "output_type": "execute_result"
    }
   ],
   "source": [
    "BobDynamics(initBob)"
   ]
  },
  {
   "cell_type": "markdown",
   "metadata": {},
   "source": [
    "### Create Experiment"
   ]
  },
  {
   "cell_type": "code",
   "execution_count": 47,
   "metadata": {},
   "outputs": [],
   "source": [
    "experiment_params = {\"iteration_n\": 5, \"steps\": 25}\n",
    "my_experiment = Experiment(initBob, experiment_params, (BobDynamics,))"
   ]
  },
  {
   "cell_type": "markdown",
   "metadata": {},
   "source": [
    "### Run Experiment"
   ]
  },
  {
   "cell_type": "code",
   "execution_count": 48,
   "metadata": {},
   "outputs": [
    {
     "data": {
      "text/plain": [
       "[<cadcad.systems.Trajectory at 0x28ca4199d20>,\n",
       " <cadcad.systems.Trajectory at 0x28ca41337c0>,\n",
       " <cadcad.systems.Trajectory at 0x28c934e36d0>,\n",
       " <cadcad.systems.Trajectory at 0x28ca4173070>,\n",
       " <cadcad.systems.Trajectory at 0x28ca4133ee0>]"
      ]
     },
     "execution_count": 48,
     "metadata": {},
     "output_type": "execute_result"
    }
   ],
   "source": [
    "results = my_experiment.run()\n",
    "results"
   ]
  },
  {
   "cell_type": "markdown",
   "metadata": {},
   "source": [
    "### Observe Results"
   ]
  },
  {
   "cell_type": "markdown",
   "metadata": {},
   "source": []
  },
  {
   "cell_type": "code",
   "execution_count": 49,
   "metadata": {},
   "outputs": [],
   "source": [
    "def flattenBob(results, exp_params):\n",
    "    n = exp_params[\"iteration_n\"]\n",
    "    m = exp_params[\"steps\"]\n",
    "    dfs = []\n",
    "    for j in range(n):\n",
    "        d = results[j].data\n",
    "        # print(d)\n",
    "        r = np.zeros((m,4))\n",
    "        for i in range(m):\n",
    "\n",
    "            r[i,:]= [d[i]['pos']['r'], d[i]['pos']['theta'],d[i]['vel']['dr'], d[i]['vel']['dtheta']]\n",
    "        df = pd.DataFrame(r, columns=['r','theta','dr','dtheta'])\n",
    "        df[\"run\"]  = j\n",
    "        dfs.append(df)\n",
    "\n",
    "    return pd.concat(dfs)"
   ]
  },
  {
   "cell_type": "code",
   "execution_count": 50,
   "metadata": {},
   "outputs": [],
   "source": [
    "df = flattenBob(results,experiment_params)"
   ]
  },
  {
   "cell_type": "code",
   "execution_count": 51,
   "metadata": {},
   "outputs": [
    {
     "data": {
      "image/png": "[encoded data removed]",
      "text/plain": [
       "<Figure size 432x288 with 1 Axes>"
      ]
     },
     "metadata": {
      "needs_background": "light"
     },
     "output_type": "display_data"
    },
    {
     "data": {
      "image/png": "[encoded data removed]",
      "text/plain": [
       "<Figure size 432x288 with 1 Axes>"
      ]
     },
     "metadata": {
      "needs_background": "light"
     },
     "output_type": "display_data"
    },
    {
     "data": {
      "image/png": "[encoded data removed]",
      "text/plain": [
       "<Figure size 432x288 with 1 Axes>"
      ]
     },
     "metadata": {
      "needs_background": "light"
     },
     "output_type": "display_data"
    },
    {
     "data": {
      "image/png": "[encoded data removed]",
      "text/plain": [
       "<Figure size 432x288 with 1 Axes>"
      ]
     },
     "metadata": {
      "needs_background": "light"
     },
     "output_type": "display_data"
    },
    {
     "data": {
      "image/png": "[encoded data removed]",
      "text/plain": [
       "<Figure size 432x288 with 1 Axes>"
      ]
     },
     "metadata": {
      "needs_background": "light"
     },
     "output_type": "display_data"
    }
   ],
   "source": [
    "runs = df.run.unique()\n",
    "for k in runs:\n",
    "    fig, ax = plt.subplots(subplot_kw={'projection': 'polar'})\n",
    "    ax.plot(df[df.run==k].theta,df[df.run==k].r)\n",
    "    r = df[df.run==k].values\n",
    "    n = len(r)\n",
    "    # for i in range(n):\n",
    "    #     plt.arrow(*r[i,:4], width = 0.01, \n",
    "    #     length_includes_head=True)"
   ]
  },
  {
   "cell_type": "code",
   "execution_count": 52,
   "metadata": {},
   "outputs": [
    {
     "data": {
      "text/plain": [
       "{'dr': 'float', 'dtheta': 'float'}"
      ]
     },
     "execution_count": 52,
     "metadata": {},
     "output_type": "execute_result"
    }
   ],
   "source": [
    "PolarPlaneDot.unroll_schema()"
   ]
  },
  {
   "cell_type": "code",
   "execution_count": 53,
   "metadata": {},
   "outputs": [
    {
     "name": "stdout",
     "output_type": "stream",
     "text": [
      "Space GameState has dimensions {'alice': 'Particle', 'bob': 'Unicycle'}\n"
     ]
    },
    {
     "data": {
      "text/plain": [
       "{'alice': {'pos': {'x': 'float', 'y': 'float'},\n",
       "  'vel': {'dx': 'float', 'dy': 'float'},\n",
       "  'maxspeed': 'float'},\n",
       " 'bob': {'pos': {'r': 'float', 'theta': 'float'},\n",
       "  'vel': {'dr': 'float', 'dtheta': 'float'},\n",
       "  'speed_max': 'float',\n",
       "  'turn_max': 'float'}}"
      ]
     },
     "execution_count": 53,
     "metadata": {},
     "output_type": "execute_result"
    }
   ],
   "source": [
    "@space\n",
    "class GameState:\n",
    "    alice: Particle\n",
    "    bob: Unicycle\n",
    "\n",
    "@space\n",
    "class NormalizedGameState:\n",
    "    alice: Particle\n",
    "    bob: Particle\n",
    "\n",
    "print(GameState)\n",
    "GameState.unroll_schema()"
   ]
  },
  {
   "cell_type": "code",
   "execution_count": 54,
   "metadata": {},
   "outputs": [
    {
     "data": {
      "text/plain": [
       "{'alice': {'pos': {'x': 'float', 'y': 'float'},\n",
       "  'vel': {'dx': 'float', 'dy': 'float'},\n",
       "  'maxspeed': 'float'},\n",
       " 'bob': {'pos': {'x': 'float', 'y': 'float'},\n",
       "  'vel': {'dx': 'float', 'dy': 'float'},\n",
       "  'maxspeed': 'float'}}"
      ]
     },
     "execution_count": 54,
     "metadata": {},
     "output_type": "execute_result"
    }
   ],
   "source": [
    "NormalizedGameState.unroll_schema()"
   ]
  },
  {
   "cell_type": "code",
   "execution_count": 55,
   "metadata": {},
   "outputs": [
    {
     "ename": "ValueError",
     "evalue": "zip() argument 2 is shorter than argument 1",
     "output_type": "error",
     "traceback": [
      "\u001b[1;31m---------------------------------------------------------------------------\u001b[0m",
      "\u001b[1;31mValueError\u001b[0m                                Traceback (most recent call last)",
      "\u001b[1;32mc:\\Users\\mbarl\\Projects\\cadcad-ri\\bob.ipynb Cell 76\u001b[0m in \u001b[0;36m<cell line: 1>\u001b[1;34m()\u001b[0m\n\u001b[1;32m----> <a href='vscode-notebook-cell:/c%3A/Users/mbarl/Projects/cadcad-ri/bob.ipynb#Y102sZmlsZQ%3D%3D?line=0'>1</a>\u001b[0m initBob \u001b[39m=\u001b[39m Point(Unicycle, {\u001b[39m'\u001b[39;49m\u001b[39mpos\u001b[39;49m\u001b[39m'\u001b[39;49m: {\u001b[39m'\u001b[39;49m\u001b[39mr\u001b[39;49m\u001b[39m'\u001b[39;49m: \u001b[39m1.0\u001b[39;49m, \u001b[39m'\u001b[39;49m\u001b[39mtheta\u001b[39;49m\u001b[39m'\u001b[39;49m: np\u001b[39m.\u001b[39;49mpi\u001b[39m/\u001b[39;49m\u001b[39m4\u001b[39;49m},\n\u001b[0;32m      <a href='vscode-notebook-cell:/c%3A/Users/mbarl/Projects/cadcad-ri/bob.ipynb#Y102sZmlsZQ%3D%3D?line=1'>2</a>\u001b[0m  \u001b[39m'\u001b[39;49m\u001b[39mvel\u001b[39;49m\u001b[39m'\u001b[39;49m: {\u001b[39m'\u001b[39;49m\u001b[39mdr\u001b[39;49m\u001b[39m'\u001b[39;49m: \u001b[39m1.0\u001b[39;49m, \u001b[39m'\u001b[39;49m\u001b[39mdtheta\u001b[39;49m\u001b[39m'\u001b[39;49m: np\u001b[39m.\u001b[39;49mpi\u001b[39m/\u001b[39;49m\u001b[39m8\u001b[39;49m}})\n\u001b[0;32m      <a href='vscode-notebook-cell:/c%3A/Users/mbarl/Projects/cadcad-ri/bob.ipynb#Y102sZmlsZQ%3D%3D?line=3'>4</a>\u001b[0m init \u001b[39m=\u001b[39m Point(GameState, {\u001b[39m'\u001b[39m\u001b[39malice\u001b[39m\u001b[39m'\u001b[39m:initAlice\u001b[39m.\u001b[39mdata, \u001b[39m'\u001b[39m\u001b[39mbob\u001b[39m\u001b[39m'\u001b[39m:initBob\u001b[39m.\u001b[39mdata})\n",
      "File \u001b[1;32mc:\\Users\\mbarl\\Projects\\cadcad-ri\\cadcad\\points.py:46\u001b[0m, in \u001b[0;36mPoint.__init__\u001b[1;34m(self, space, data, check_types)\u001b[0m\n\u001b[0;32m     43\u001b[0m     \u001b[39mraise\u001b[39;00m \u001b[39mTypeError\u001b[39;00m(\u001b[39m\"\u001b[39m\u001b[39mPoint\u001b[39m\u001b[39m'\u001b[39m\u001b[39ms data must be a dictionary\u001b[39m\u001b[39m\"\u001b[39m)\n\u001b[0;32m     45\u001b[0m \u001b[39mif\u001b[39;00m check_types:\n\u001b[1;32m---> 46\u001b[0m     \u001b[39mif\u001b[39;00m check_schema(dims, data):\n\u001b[0;32m     47\u001b[0m         \u001b[39mself\u001b[39m\u001b[39m.\u001b[39m__data: Dict[\u001b[39mstr\u001b[39m, Any] \u001b[39m=\u001b[39m data\n\u001b[0;32m     48\u001b[0m     \u001b[39melse\u001b[39;00m:\n",
      "File \u001b[1;32mc:\\Users\\mbarl\\Projects\\cadcad-ri\\cadcad\\points.py:97\u001b[0m, in \u001b[0;36mcheck_schema\u001b[1;34m(dim_dict, data_dict)\u001b[0m\n\u001b[0;32m     81\u001b[0m \u001b[39m\"\"\"_summary_\u001b[39;00m\n\u001b[0;32m     82\u001b[0m \n\u001b[0;32m     83\u001b[0m \u001b[39mParameters\u001b[39;00m\n\u001b[1;32m   (...)\u001b[0m\n\u001b[0;32m     93\u001b[0m \u001b[39m    _description_\u001b[39;00m\n\u001b[0;32m     94\u001b[0m \u001b[39m\"\"\"\u001b[39;00m\n\u001b[0;32m     95\u001b[0m confirmations \u001b[39m=\u001b[39m \u001b[39m0\u001b[39m\n\u001b[1;32m---> 97\u001b[0m \u001b[39mfor\u001b[39;00m (dim_name, dim_type), (data_name, data_value) \u001b[39min\u001b[39;00m \u001b[39mzip\u001b[39m(\n\u001b[0;32m     98\u001b[0m     \u001b[39msorted\u001b[39m(dim_dict\u001b[39m.\u001b[39mitems()), \u001b[39msorted\u001b[39m(data_dict\u001b[39m.\u001b[39mitems()), strict\u001b[39m=\u001b[39m\u001b[39mTrue\u001b[39;00m\n\u001b[0;32m     99\u001b[0m ):\n\u001b[0;32m    100\u001b[0m     \u001b[39mif\u001b[39;00m \u001b[39misinstance\u001b[39m(dim_type, \u001b[39mtype\u001b[39m):\n\u001b[0;32m    101\u001b[0m         specialized_type \u001b[39m=\u001b[39m get_args(dim_type)\n",
      "\u001b[1;31mValueError\u001b[0m: zip() argument 2 is shorter than argument 1"
     ]
    }
   ],
   "source": [
    "\n",
    "\n",
    "initBob = Point(Unicycle, {'pos': {'r': 1.0, 'theta': np.pi/4},\n",
    " 'vel': {'dr': 1.0, 'dtheta': np.pi/8}})\n",
    "\n",
    "init = Point(GameState, {'alice':initAlice.data, 'bob':initBob.data})"
   ]
  },
  {
   "cell_type": "code",
   "execution_count": null,
   "metadata": {},
   "outputs": [],
   "source": [
    "print(init)"
   ]
  },
  {
   "cell_type": "markdown",
   "metadata": {},
   "source": [
    "Alice is a Particle Trying to Evade the Unicycle Bob so she will attempt to maximize her distance from Bob in the Next timesteo"
   ]
  },
  {
   "cell_type": "code",
   "execution_count": null,
   "metadata": {},
   "outputs": [],
   "source": [
    "PolarPlaneDot.unroll_schema()"
   ]
  },
  {
   "cell_type": "code",
   "execution_count": null,
   "metadata": {},
   "outputs": [],
   "source": [
    "PolarPlane.unroll_schema()"
   ]
  },
  {
   "cell_type": "code",
   "execution_count": null,
   "metadata": {},
   "outputs": [],
   "source": [
    "@block\n",
    "def awkwardConverter1(domain:Point[PolarPlaneDot])->Point[PolarPlane]:\n",
    "    \"\"\"\"\"\"\n",
    "    input = domain\n",
    "    output = {}\n",
    "    output['r'] = input['dr']\n",
    "    output['theta'] = input['dtheta']\n",
    "\n",
    "    return Point(PolarPlane, output)\n",
    "    \n",
    "@block\n",
    "def awkwardConverter2(domain:Point[CartesianPlane])->Point[CartesianPlaneDot]:\n",
    "    \"\"\"needs \"\"\"\n",
    "    input = domain\n",
    "    output = {}\n",
    "    output['dx'] = input['x']\n",
    "    output['dy'] = input['y']\n",
    "\n",
    "    return Point(CartesianPlaneDot, output)"
   ]
  },
  {
   "cell_type": "code",
   "execution_count": null,
   "metadata": {},
   "outputs": [],
   "source": [
    "@block\n",
    "def polar2cartesian(domain: Point[PolarPlane]) -> Point[CartesianPlane]:\n",
    "    \n",
    "    r = domain[\"r\"]\n",
    "    theta = domain[\"theta\"]\n",
    "\n",
    "    x = r*np.cos(theta)\n",
    "    y = r*np.sin(theta)\n",
    "\n",
    "    output = {\"x\":x, \"y\":y}\n",
    "\n",
    "    return Point(CartesianPlane, output)\n",
    "\n",
    "@block\n",
    "def cartesian2polar(domain: Point[CartesianPlane]) -> Point[PolarPlane]:\n",
    "    \n",
    "    x = domain[\"x\"]\n",
    "    y = domain[\"y\"]\n",
    "\n",
    "    r = np.sqrt(x**2+y**2)\n",
    "    if x==0:\n",
    "        theta = np.sign(y)*np.pi/2\n",
    "    else:\n",
    "        theta = np.arctan(y/x)\n",
    "\n",
    "    output = {\"r\":r, \"theta\":theta}\n",
    "\n",
    "    return Point(PolarPlane, output)\n",
    "\n",
    "@block\n",
    "def normalize(domain:Point[GameState])->Point[NormalizedGameState]:\n",
    "    #this is a piped block by hand\n",
    "    #desired UX is to just write piping logic\n",
    "    input=domain\n",
    "    aliceData = input['alice']\n",
    "\n",
    "    bobPosPolarPt = Point(PolarPlane, input['bob']['pos'])\n",
    "    bobVelPolarDotPt = Point(PolarPlaneDot, input['bob']['vel'])\n",
    "    print(bobVelPolarDotPt)\n",
    "    bobVelPolarPt = awkwardConverter1(bobVelPolarDotPt)\n",
    "    print(bobPosPolarPt)\n",
    "\n",
    "    bobPosCartesian = polar2cartesian(bobPosPolarPt)\n",
    "\n",
    "    bobVelCartesianTemp = polar2cartesian(bobVelPolarPt)\n",
    "    print(bobVelCartesianTemp)\n",
    "\n",
    "    bobVelCartesian=awkwardConverter2(bobVelCartesianTemp)\n",
    "    print(bobVelCartesian)\n",
    "\n",
    "    bobData = {'pos': bobPosCartesian.data, 'vel': bobVelCartesian.data}\n",
    "\n",
    "    output = Point(NormalizedGameState, {'alice':aliceData, 'bob':bobData})\n",
    "\n",
    "    return output\n",
    "\n"
   ]
  },
  {
   "cell_type": "code",
   "execution_count": null,
   "metadata": {},
   "outputs": [],
   "source": [
    "normalizedInit = normalize(init)"
   ]
  },
  {
   "cell_type": "code",
   "execution_count": null,
   "metadata": {},
   "outputs": [],
   "source": [
    "print(init)"
   ]
  },
  {
   "cell_type": "code",
   "execution_count": null,
   "metadata": {},
   "outputs": [],
   "source": [
    "print(normalizedInit)"
   ]
  },
  {
   "cell_type": "code",
   "execution_count": null,
   "metadata": {},
   "outputs": [],
   "source": [
    "bobpos = [normalizedInit[\"bob\"][\"pos\"][\"x\"], normalizedInit[\"bob\"][\"pos\"][\"y\"]]\n",
    "bobvelarrow = [normalizedInit[\"bob\"][\"pos\"][\"x\"], \n",
    "                normalizedInit[\"bob\"][\"pos\"][\"y\"], \n",
    "                normalizedInit[\"bob\"][\"vel\"][\"dx\"],\n",
    "                normalizedInit[\"bob\"][\"vel\"][\"dy\"]]\n",
    "\n",
    "alicepos = [normalizedInit[\"alice\"][\"pos\"][\"x\"], normalizedInit[\"alice\"][\"pos\"][\"y\"]]\n",
    "alicevelarrow = [normalizedInit[\"alice\"][\"pos\"][\"x\"], \n",
    "                normalizedInit[\"alice\"][\"pos\"][\"y\"], \n",
    "                normalizedInit[\"alice\"][\"vel\"][\"dx\"],\n",
    "                normalizedInit[\"alice\"][\"vel\"][\"dy\"]]\n"
   ]
  },
  {
   "cell_type": "code",
   "execution_count": null,
   "metadata": {},
   "outputs": [],
   "source": [
    "from curses import color_content\n",
    "import matplotlib.pyplot as plt\n",
    "import matplotlib.patches as patches\n",
    "\n",
    "normalizedInit[\"bob\"][\"pos\"][\"x\"]\n",
    " \n",
    "# Adding an arrow to graph starting\n",
    "# from the base (2, 4) and with the\n",
    "# length of 2 units from both x and y\n",
    "# And setting the width of arrow for\n",
    "# better visualization\n",
    "\n",
    "plt.arrow(*alicevelarrow, width = 0.05, color=\"pink\")\n",
    "plt.arrow(*bobvelarrow, width = 0.05, color=\"green\")\n",
    "a = plt.Circle(alicepos, radius=.02, color=\"red\")\n",
    "b = plt.Circle(bobpos, radius=.02, color=\"blue\")\n",
    "plt.gca().add_patch(a)\n",
    "plt.gca().add_patch(b)\n",
    "\n"
   ]
  },
  {
   "cell_type": "code",
   "execution_count": null,
   "metadata": {},
   "outputs": [],
   "source": [
    "bob_max_angle = np.pi/8\n",
    "bob_max_speed = 1\n",
    "alice_max_speed = np.sqrt(.2**2 + .2**2)\n",
    "\n",
    "w = patches.Wedge(bobpos, bob_max_speed, (init[\"bob\"][\"vel\"][\"dtheta\"]-bob_max_angle)*180/np.pi, (init[\"bob\"][\"vel\"][\"dtheta\"]+bob_max_angle)*180/np.pi, alpha=.5)\n",
    "plt.gca().add_patch(w)\n",
    "c = plt.Circle(alicepos, radius=alice_max_speed, color=\"magenta\", alpha=.5)\n",
    "plt.gca().add_patch(c)\n",
    "plt.arrow(*alicevelarrow, width = 0.05, color=\"pink\", length_includes_head=True)\n",
    "plt.arrow(*bobvelarrow, width = 0.05, color=\"green\", length_includes_head=True)\n",
    "a = plt.Circle(alicepos, radius=.02, color=\"red\")\n",
    "b = plt.Circle(bobpos, radius=.02, color=\"blue\")\n",
    "plt.gca().add_patch(a)\n",
    "plt.gca().add_patch(b)\n"
   ]
  },
  {
   "cell_type": "code",
   "execution_count": null,
   "metadata": {},
   "outputs": [],
   "source": [
    "bob_max_angle = np.pi/8\n",
    "bob_max_speed = 1\n",
    "alice_max_speed = np.sqrt(.2**2 + .2**2)\n",
    "\n",
    "w = patches.Wedge(bobpos, bob_max_speed, (init[\"bob\"][\"vel\"][\"dtheta\"]-bob_max_angle)*180/np.pi, (init[\"bob\"][\"vel\"][\"dtheta\"]+bob_max_angle)*180/np.pi, alpha=.5)\n",
    "plt.gca().add_patch(w)\n",
    "c = plt.Circle(alicepos, radius=alice_max_speed, color=\"magenta\", alpha=.5)\n",
    "plt.gca().add_patch(c)\n",
    "plt.arrow(*alicevelarrow, width = 0.05, color=\"pink\", length_includes_head=True)\n",
    "plt.arrow(*bobvelarrow, width = 0.05, color=\"green\", length_includes_head=True)\n",
    "a = plt.Circle(alicepos, radius=.02, color=\"red\")\n",
    "b = plt.Circle(bobpos, radius=.02, color=\"blue\")\n",
    "plt.gca().add_patch(a)\n",
    "plt.gca().add_patch(b)"
   ]
  }
 ],
 "metadata": {
  "kernelspec": {
   "display_name": "Python 3.10.4 ('py310')",
   "language": "python",
   "name": "python3"
  },
  "language_info": {
   "codemirror_mode": {
    "name": "ipython",
    "version": 3
   },
   "file_extension": ".py",
   "mimetype": "text/x-python",
   "name": "python",
   "nbconvert_exporter": "python",
   "pygments_lexer": "ipython3",
   "version": "3.10.4"
  },
  "orig_nbformat": 4,
  "vscode": {
   "interpreter": {
    "hash": "083c9dc2251cb4c830d1f26361427cb12abca836d007ae3688b8ee2365fc8751"
   }
  }
 },
 "nbformat": 4,
 "nbformat_minor": 2
}
