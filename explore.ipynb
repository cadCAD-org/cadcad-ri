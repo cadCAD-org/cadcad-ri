{
 "cells": [
  {
   "cell_type": "code",
   "execution_count": 1,
   "metadata": {},
   "outputs": [],
   "source": [
    "from cadcad.spaces import space\n",
    "from cadcad.spaces import Bit, Real, Integer\n",
    "from cadcad.trajectories import Point"
   ]
  },
  {
   "cell_type": "markdown",
   "metadata": {},
   "source": [
    "The Purpose of this notebook is to experiment with spaces and points"
   ]
  },
  {
   "cell_type": "code",
   "execution_count": 2,
   "metadata": {},
   "outputs": [
    {
     "data": {
      "text/plain": [
       "['real_0', 'real_1']"
      ]
     },
     "execution_count": 2,
     "metadata": {},
     "output_type": "execute_result"
    }
   ],
   "source": [
    "R2 = Real**2\n",
    "\n",
    "R2dims = list(R2.dimensions().keys())\n",
    "R2dims"
   ]
  },
  {
   "cell_type": "code",
   "execution_count": 3,
   "metadata": {},
   "outputs": [
    {
     "data": {
      "text/plain": [
       "{'x': 'Real', 'y': 'Real'}"
      ]
     },
     "execution_count": 3,
     "metadata": {},
     "output_type": "execute_result"
    }
   ],
   "source": [
    "R2 = R2.rename_dims({R2dims[0]:'x', R2dims[1]:'y'})\n",
    "\n",
    "R2.dimensions()"
   ]
  },
  {
   "cell_type": "code",
   "execution_count": 4,
   "metadata": {},
   "outputs": [],
   "source": [
    "@space\n",
    "class Bot:\n",
    "    position: R2 #location of the bot on a 2D grid\n",
    "    velocity: R2 #rate of change of position on a 2D grid\n",
    "    radius: float #how big around is the robot\n",
    "    is_working: bool #if the robot crashes (into another robot) they cease to function\n",
    "\n",
    "@space\n",
    "class BotArray:\n",
    "    bots: list[Bot]"
   ]
  },
  {
   "cell_type": "code",
   "execution_count": 5,
   "metadata": {},
   "outputs": [
    {
     "data": {
      "text/plain": [
       "{'bots': 'list'}"
      ]
     },
     "execution_count": 5,
     "metadata": {},
     "output_type": "execute_result"
    }
   ],
   "source": [
    "BotArray.unroll_schema()"
   ]
  },
  {
   "cell_type": "markdown",
   "metadata": {},
   "source": [
    "It seems to me that we shoukd change the way `unroll_schema()` handles lists to incude details about the class it is a list of. "
   ]
  },
  {
   "cell_type": "code",
   "execution_count": 6,
   "metadata": {},
   "outputs": [
    {
     "data": {
      "text/plain": [
       "{'position': {'x': {'real': 'float'}, 'y': {'real': 'float'}},\n",
       " 'velocity': {'x': {'real': 'float'}, 'y': {'real': 'float'}},\n",
       " 'radius': 'float',\n",
       " 'is_working': 'bool'}"
      ]
     },
     "execution_count": 6,
     "metadata": {},
     "output_type": "execute_result"
    }
   ],
   "source": [
    "Bot.unroll_schema()"
   ]
  },
  {
   "cell_type": "markdown",
   "metadata": {},
   "source": [
    "Now let's make some points"
   ]
  },
  {
   "cell_type": "code",
   "execution_count": 24,
   "metadata": {},
   "outputs": [
    {
     "data": {
      "text/plain": [
       "{'real': 'float'}"
      ]
     },
     "execution_count": 24,
     "metadata": {},
     "output_type": "execute_result"
    }
   ],
   "source": [
    "Real.unroll_schema()"
   ]
  },
  {
   "cell_type": "code",
   "execution_count": 31,
   "metadata": {},
   "outputs": [
    {
     "name": "stdout",
     "output_type": "stream",
     "text": [
      "Point in space Real has data\n",
      "{\n",
      "    \"real\": 0.0\n",
      "}\n",
      "\n"
     ]
    }
   ],
   "source": [
    "zero = Point(Real, {'real':0.0})\n",
    "\n",
    "print(zero)"
   ]
  },
  {
   "cell_type": "code",
   "execution_count": 38,
   "metadata": {},
   "outputs": [
    {
     "name": "stdout",
     "output_type": "stream",
     "text": [
      "Point in space 2-Real has data\n",
      "{\n",
      "    \"x\": \"Point in space Real has data\\n{\\n    \\\"real\\\": 0.0\\n}\\n\",\n",
      "    \"y\": \"Point in space Real has data\\n{\\n    \\\"real\\\": 0.0\\n}\\n\"\n",
      "}\n",
      "\n"
     ]
    }
   ],
   "source": [
    "def R2point(x,y):\n",
    "    xpt = Point(Real, {'real':x})\n",
    "    ypt = Point(Real, {'real':y})\n",
    "    return Point(R2,{'x': xpt, 'y': ypt},check_types=False)\n",
    "\n",
    "OO = R2point(0.0,0.0) \n",
    "\n",
    "print(OO)"
   ]
  },
  {
   "cell_type": "code",
   "execution_count": 40,
   "metadata": {},
   "outputs": [],
   "source": [
    "def init_Bot(pos=Point[R2], vel=Point[R2]):\n",
    "    return Point(Bot, {'position':pos, 'velocity':vel, 'radius':.01, 'is_working':True }, check_types=False)\n",
    "\n",
    "bot_naught = init_Bot(00, 00)"
   ]
  },
  {
   "cell_type": "code",
   "execution_count": 41,
   "metadata": {},
   "outputs": [
    {
     "name": "stdout",
     "output_type": "stream",
     "text": [
      "Point in space Bot has data\n",
      "{\n",
      "    \"position\": 0,\n",
      "    \"velocity\": 0,\n",
      "    \"radius\": 0.01,\n",
      "    \"is_working\": true\n",
      "}\n",
      "\n"
     ]
    }
   ],
   "source": [
    "print(bot_naught)"
   ]
  },
  {
   "cell_type": "code",
   "execution_count": 44,
   "metadata": {},
   "outputs": [
    {
     "name": "stdout",
     "output_type": "stream",
     "text": [
      "Point in space Bot has data\n",
      "{\n",
      "    \"position\": [\n",
      "        \"Point in space 2-Real has data\\n{\\n    \\\"x\\\": \\\"Point in space Real has data\\\\n{\\\\n    \\\\\\\"real\\\\\\\": -0.32127972090462126\\\\n}\\\\n\\\",\\n    \\\"y\\\": \\\"Point in space Real has data\\\\n{\\\\n    \\\\\\\"real\\\\\\\": 0.7081119061249247\\\\n}\\\\n\\\"\\n}\\n\",\n",
      "        \"Point in space 2-Real has data\\n{\\n    \\\"x\\\": \\\"Point in space Real has data\\\\n{\\\\n    \\\\\\\"real\\\\\\\": 1.5987178327536145\\\\n}\\\\n\\\",\\n    \\\"y\\\": \\\"Point in space Real has data\\\\n{\\\\n    \\\\\\\"real\\\\\\\": -0.13971527553923418\\\\n}\\\\n\\\"\\n}\\n\",\n",
      "        \"Point in space 2-Real has data\\n{\\n    \\\"x\\\": \\\"Point in space Real has data\\\\n{\\\\n    \\\\\\\"real\\\\\\\": 0.9061539201845789\\\\n}\\\\n\\\",\\n    \\\"y\\\": \\\"Point in space Real has data\\\\n{\\\\n    \\\\\\\"real\\\\\\\": -0.2540879887228737\\\\n}\\\\n\\\"\\n}\\n\",\n",
      "        \"Point in space 2-Real has data\\n{\\n    \\\"x\\\": \\\"Point in space Real has data\\\\n{\\\\n    \\\\\\\"real\\\\\\\": 0.34604660636764784\\\\n}\\\\n\\\",\\n    \\\"y\\\": \\\"Point in space Real has data\\\\n{\\\\n    \\\\\\\"real\\\\\\\": -0.4098973700784965\\\\n}\\\\n\\\"\\n}\\n\",\n",
      "        \"Point in space 2-Real has data\\n{\\n    \\\"x\\\": \\\"Point in space Real has data\\\\n{\\\\n    \\\\\\\"real\\\\\\\": -1.3594956320914837\\\\n}\\\\n\\\",\\n    \\\"y\\\": \\\"Point in space Real has data\\\\n{\\\\n    \\\\\\\"real\\\\\\\": -0.19613256986853295\\\\n}\\\\n\\\"\\n}\\n\",\n",
      "        \"Point in space 2-Real has data\\n{\\n    \\\"x\\\": \\\"Point in space Real has data\\\\n{\\\\n    \\\\\\\"real\\\\\\\": -1.396876139070778\\\\n}\\\\n\\\",\\n    \\\"y\\\": \\\"Point in space Real has data\\\\n{\\\\n    \\\\\\\"real\\\\\\\": 0.3106090594876005\\\\n}\\\\n\\\"\\n}\\n\",\n",
      "        \"Point in space 2-Real has data\\n{\\n    \\\"x\\\": \\\"Point in space Real has data\\\\n{\\\\n    \\\\\\\"real\\\\\\\": 0.552175469252921\\\\n}\\\\n\\\",\\n    \\\"y\\\": \\\"Point in space Real has data\\\\n{\\\\n    \\\\\\\"real\\\\\\\": -0.20028499324079072\\\\n}\\\\n\\\"\\n}\\n\",\n",
      "        \"Point in space 2-Real has data\\n{\\n    \\\"x\\\": \\\"Point in space Real has data\\\\n{\\\\n    \\\\\\\"real\\\\\\\": 2.2562485441214117\\\\n}\\\\n\\\",\\n    \\\"y\\\": \\\"Point in space Real has data\\\\n{\\\\n    \\\\\\\"real\\\\\\\": 0.9672082864158937\\\\n}\\\\n\\\"\\n}\\n\",\n",
      "        \"Point in space 2-Real has data\\n{\\n    \\\"x\\\": \\\"Point in space Real has data\\\\n{\\\\n    \\\\\\\"real\\\\\\\": -0.1702461541241706\\\\n}\\\\n\\\",\\n    \\\"y\\\": \\\"Point in space Real has data\\\\n{\\\\n    \\\\\\\"real\\\\\\\": 1.4356244424684315\\\\n}\\\\n\\\"\\n}\\n\",\n",
      "        \"Point in space 2-Real has data\\n{\\n    \\\"x\\\": \\\"Point in space Real has data\\\\n{\\\\n    \\\\\\\"real\\\\\\\": 0.07634028687960615\\\\n}\\\\n\\\",\\n    \\\"y\\\": \\\"Point in space Real has data\\\\n{\\\\n    \\\\\\\"real\\\\\\\": 0.22728701372837182\\\\n}\\\\n\\\"\\n}\\n\"\n",
      "    ],\n",
      "    \"velocity\": \"cadcad.trajectories.Point[cadcad.spaces.space.<locals>.NewSpace]\",\n",
      "    \"radius\": 0.01,\n",
      "    \"is_working\": true\n",
      "}\n",
      "\n"
     ]
    }
   ],
   "source": [
    "import numpy as np\n",
    "n = 10\n",
    "starting_positions = [R2point(float(np.random.randn()),float(np.random.randn())) for i in range(n) ]\n",
    "\n",
    "def init_Bots(starting_positions=list[Point[R2]]):\n",
    "    data = [init_Bot(ipos, OO) for ipos in starting_positions]\n",
    "    return Point(BotArray, data)\n",
    "\n",
    "myBotArray = init_Bot(starting_positions)\n",
    "print(myBotArray)"
   ]
  },
  {
   "cell_type": "markdown",
   "metadata": {},
   "source": [
    "Please note that the above is not working as intended - i had to turn off the type checkers to get the code to execute -- that said, the type checkers are probably throwing errors correctly since the results are garbled. Nonetheless the plan for Friday's work session is to walk through this code, discuss and ideally correct it. "
   ]
  },
  {
   "cell_type": "markdown",
   "metadata": {},
   "source": [
    "Additional note, the point making logic for nested Spaces is really bad UX, we almost certainly need some UX sugar design to streamline making points."
   ]
  },
  {
   "cell_type": "markdown",
   "metadata": {},
   "source": []
  }
 ],
 "metadata": {
  "interpreter": {
   "hash": "1a8de16e480ce6c374d7a7a0f904964a05926e5b58eea6a17940b28a68c7d599"
  },
  "kernelspec": {
   "display_name": "Python 3.10.4 ('py10')",
   "language": "python",
   "name": "python3"
  },
  "language_info": {
   "codemirror_mode": {
    "name": "ipython",
    "version": 3
   },
   "file_extension": ".py",
   "mimetype": "text/x-python",
   "name": "python",
   "nbconvert_exporter": "python",
   "pygments_lexer": "ipython3",
   "version": "3.10.4"
  },
  "orig_nbformat": 4
 },
 "nbformat": 4,
 "nbformat_minor": 2
}
