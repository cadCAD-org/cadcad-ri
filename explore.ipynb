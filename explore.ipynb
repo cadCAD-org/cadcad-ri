{
 "cells": [
  {
   "cell_type": "code",
   "execution_count": 3,
   "metadata": {},
   "outputs": [],
   "source": [
    "from cadcad.spaces import space\n",
    "from cadcad.spaces import Bit, Real, Integer\n",
    "from cadcad.trajectories import Point"
   ]
  },
  {
   "cell_type": "markdown",
   "metadata": {},
   "source": [
    "The Purpose of this notebook is to experiment with spaces and points"
   ]
  },
  {
   "cell_type": "code",
   "execution_count": 4,
   "metadata": {},
   "outputs": [
    {
     "data": {
      "text/plain": [
       "['real_0', 'real_1']"
      ]
     },
     "execution_count": 4,
     "metadata": {},
     "output_type": "execute_result"
    }
   ],
   "source": [
    "R2 = Real**2\n",
    "\n",
    "R2dims = list(R2.dimensions().keys())\n",
    "R2dims"
   ]
  },
  {
   "cell_type": "code",
   "execution_count": 5,
   "metadata": {},
   "outputs": [
    {
     "data": {
      "text/plain": [
       "{'x': 'Real', 'y': 'Real'}"
      ]
     },
     "execution_count": 5,
     "metadata": {},
     "output_type": "execute_result"
    }
   ],
   "source": [
    "R2 = R2.rename_dims({R2dims[0]:'x', R2dims[1]:'y'})\n",
    "\n",
    "R2.dimensions()"
   ]
  },
  {
   "cell_type": "code",
   "execution_count": 6,
   "metadata": {},
   "outputs": [],
   "source": [
    "@space\n",
    "class Bot:\n",
    "    position: R2 #location of the bot on a 2D grid\n",
    "    velocity: R2 #rate of change of position on a 2D grid\n",
    "    radius: float #how big around is the robot\n",
    "    is_working: bool #if the robot crashes (into another robot) they cease to function\n",
    "\n",
    "@space\n",
    "class BotArray:\n",
    "    bots: list[Bot]"
   ]
  },
  {
   "cell_type": "code",
   "execution_count": 7,
   "metadata": {},
   "outputs": [
    {
     "data": {
      "text/plain": [
       "{'bots': 'list'}"
      ]
     },
     "execution_count": 7,
     "metadata": {},
     "output_type": "execute_result"
    }
   ],
   "source": [
    "BotArray.unroll_schema()"
   ]
  },
  {
   "cell_type": "markdown",
   "metadata": {},
   "source": [
    "It seems to me that we shoukd change the way `unroll_schema()` handles lists to incude details about the class it is a list of. "
   ]
  },
  {
   "cell_type": "code",
   "execution_count": 8,
   "metadata": {},
   "outputs": [
    {
     "data": {
      "text/plain": [
       "{'position': {'x': {'real': 'float'}, 'y': {'real': 'float'}},\n",
       " 'velocity': {'x': {'real': 'float'}, 'y': {'real': 'float'}},\n",
       " 'radius': 'float',\n",
       " 'is_working': 'bool'}"
      ]
     },
     "execution_count": 8,
     "metadata": {},
     "output_type": "execute_result"
    }
   ],
   "source": [
    "Bot.unroll_schema()"
   ]
  },
  {
   "cell_type": "markdown",
   "metadata": {},
   "source": [
    "Now let's make some points"
   ]
  },
  {
   "cell_type": "code",
   "execution_count": 9,
   "metadata": {},
   "outputs": [
    {
     "data": {
      "text/plain": [
       "{'real': 'float'}"
      ]
     },
     "execution_count": 9,
     "metadata": {},
     "output_type": "execute_result"
    }
   ],
   "source": [
    "Real.unroll_schema()"
   ]
  },
  {
   "cell_type": "code",
   "execution_count": 13,
   "metadata": {},
   "outputs": [
    {
     "ename": "AttributeError",
     "evalue": "type object 'Real' has no attribute 'schema'",
     "output_type": "error",
     "traceback": [
      "\u001b[0;31m---------------------------------------------------------------------------\u001b[0m",
      "\u001b[0;31mAttributeError\u001b[0m                            Traceback (most recent call last)",
      "\u001b[1;32m/Users/zargham/Documents/GitHub/cadcad-ri/explore.ipynb Cell 11\u001b[0m in \u001b[0;36m<cell line: 1>\u001b[0;34m()\u001b[0m\n\u001b[0;32m----> <a href='vscode-notebook-cell:/Users/zargham/Documents/GitHub/cadcad-ri/explore.ipynb#X31sZmlsZQ%3D%3D?line=0'>1</a>\u001b[0m Real\u001b[39m.\u001b[39;49mschema()\n",
      "\u001b[0;31mAttributeError\u001b[0m: type object 'Real' has no attribute 'schema'"
     ]
    }
   ],
   "source": [
    "Real.schema()"
   ]
  },
  {
   "cell_type": "code",
   "execution_count": 11,
   "metadata": {},
   "outputs": [
    {
     "ename": "AttributeError",
     "evalue": "type object 'Real' has no attribute 'schema'",
     "output_type": "error",
     "traceback": [
      "\u001b[0;31m---------------------------------------------------------------------------\u001b[0m",
      "\u001b[0;31mAttributeError\u001b[0m                            Traceback (most recent call last)",
      "\u001b[1;32m/Users/zargham/Documents/GitHub/cadcad-ri/explore.ipynb Cell 11\u001b[0m in \u001b[0;36m<cell line: 1>\u001b[0;34m()\u001b[0m\n\u001b[0;32m----> <a href='vscode-notebook-cell:/Users/zargham/Documents/GitHub/cadcad-ri/explore.ipynb#X13sZmlsZQ%3D%3D?line=0'>1</a>\u001b[0m zero \u001b[39m=\u001b[39m Point(Real, {\u001b[39m'\u001b[39;49m\u001b[39mreal\u001b[39;49m\u001b[39m'\u001b[39;49m:\u001b[39m0.0\u001b[39;49m})\n\u001b[1;32m      <a href='vscode-notebook-cell:/Users/zargham/Documents/GitHub/cadcad-ri/explore.ipynb#X13sZmlsZQ%3D%3D?line=2'>3</a>\u001b[0m zero\n",
      "File \u001b[0;32m~/Documents/GitHub/cadcad-ri/cadcad/trajectories.py:37\u001b[0m, in \u001b[0;36mPoint.__init__\u001b[0;34m(self, space, data)\u001b[0m\n\u001b[1;32m     34\u001b[0m internal_data \u001b[39m=\u001b[39m {}\n\u001b[1;32m     36\u001b[0m \u001b[39mfor\u001b[39;00m key, value \u001b[39min\u001b[39;00m data\u001b[39m.\u001b[39mitems():\n\u001b[0;32m---> 37\u001b[0m     \u001b[39mif\u001b[39;00m key \u001b[39min\u001b[39;00m space\u001b[39m.\u001b[39;49mschema\u001b[39m.\u001b[39mkeys() \u001b[39mand\u001b[39;00m \u001b[39misinstance\u001b[39m(\n\u001b[1;32m     38\u001b[0m             space\u001b[39m.\u001b[39mschema[key], \u001b[39mtype\u001b[39m) \u001b[39mand\u001b[39;00m \u001b[39misinstance\u001b[39m(\n\u001b[1;32m     39\u001b[0m                 value, space\u001b[39m.\u001b[39mschema[key]):\n\u001b[1;32m     40\u001b[0m         internal_data[key] \u001b[39m=\u001b[39m value\n\u001b[1;32m     41\u001b[0m     \u001b[39melse\u001b[39;00m:\n",
      "\u001b[0;31mAttributeError\u001b[0m: type object 'Real' has no attribute 'schema'"
     ]
    }
   ],
   "source": [
    "zero = Point(Real, {'real':0.0})\n",
    "\n",
    "Print(zero)"
   ]
  },
  {
   "cell_type": "code",
   "execution_count": 12,
   "metadata": {},
   "outputs": [
    {
     "ename": "NameError",
     "evalue": "name 'zero' is not defined",
     "output_type": "error",
     "traceback": [
      "\u001b[0;31m---------------------------------------------------------------------------\u001b[0m",
      "\u001b[0;31mNameError\u001b[0m                                 Traceback (most recent call last)",
      "\u001b[1;32m/Users/zargham/Documents/GitHub/cadcad-ri/explore.ipynb Cell 12\u001b[0m in \u001b[0;36m<cell line: 1>\u001b[0;34m()\u001b[0m\n\u001b[0;32m----> <a href='vscode-notebook-cell:/Users/zargham/Documents/GitHub/cadcad-ri/explore.ipynb#X14sZmlsZQ%3D%3D?line=0'>1</a>\u001b[0m zero\u001b[39m.\u001b[39mdata\n",
      "\u001b[0;31mNameError\u001b[0m: name 'zero' is not defined"
     ]
    }
   ],
   "source": [
    "zero.data"
   ]
  },
  {
   "cell_type": "code",
   "execution_count": 10,
   "metadata": {},
   "outputs": [
    {
     "name": "stdout",
     "output_type": "stream",
     "text": [
      "Point in space 2-Real has data\n",
      "{\n",
      "    \"x\": {\n",
      "        \"real\": 0.0\n",
      "    },\n",
      "    \"y\": {\n",
      "        \"real\": 0.0\n",
      "    }\n",
      "}\n",
      "\n"
     ]
    }
   ],
   "source": [
    "def R2point(x,y):\n",
    "    xpt_data = {'real':x}\n",
    "    ypt_data = {'real':y}\n",
    "    return Point(R2,{'x': xpt_data, 'y': ypt_data},check_types=False)\n",
    "\n",
    "OO = R2point(0.0,0.0) \n",
    "\n",
    "print(OO)"
   ]
  },
  {
   "cell_type": "code",
   "execution_count": 11,
   "metadata": {},
   "outputs": [
    {
     "data": {
      "text/plain": [
       "{'x': {'real': 0.0}, 'y': {'real': 0.0}}"
      ]
     },
     "execution_count": 11,
     "metadata": {},
     "output_type": "execute_result"
    }
   ],
   "source": [
    "OO.data"
   ]
  },
  {
   "cell_type": "code",
   "execution_count": 12,
   "metadata": {},
   "outputs": [],
   "source": [
    "def init_Bot(pos=Point[R2], vel=Point[R2]):\n",
    "    return Point(Bot, {'position':pos.data, 'velocity':vel.data, 'radius':.01, 'is_working':True }, check_types=False)\n",
    "\n",
    "bot_naught = init_Bot(OO, OO)"
   ]
  },
  {
   "cell_type": "code",
   "execution_count": 13,
   "metadata": {},
   "outputs": [
    {
     "name": "stdout",
     "output_type": "stream",
     "text": [
      "Point in space Bot has data\n",
      "{\n",
      "    \"position\": {\n",
      "        \"x\": {\n",
      "            \"real\": 0.0\n",
      "        },\n",
      "        \"y\": {\n",
      "            \"real\": 0.0\n",
      "        }\n",
      "    },\n",
      "    \"velocity\": {\n",
      "        \"x\": {\n",
      "            \"real\": 0.0\n",
      "        },\n",
      "        \"y\": {\n",
      "            \"real\": 0.0\n",
      "        }\n",
      "    },\n",
      "    \"radius\": 0.01,\n",
      "    \"is_working\": true\n",
      "}\n",
      "\n"
     ]
    }
   ],
   "source": [
    "print(bot_naught)"
   ]
  },
  {
   "cell_type": "code",
   "execution_count": 14,
   "metadata": {},
   "outputs": [
    {
     "name": "stdout",
     "output_type": "stream",
     "text": [
      "[<cadcad.trajectories.Point object at 0x7fa910e9e8c0>, <cadcad.trajectories.Point object at 0x7fa9103a7d90>, <cadcad.trajectories.Point object at 0x7fa9103b8370>]\n",
      "\n",
      "Point in space 2-Real has data\n",
      "{\n",
      "    \"x\": {\n",
      "        \"real\": -1.2481267811480887\n",
      "    },\n",
      "    \"y\": {\n",
      "        \"real\": -0.212265770270742\n",
      "    }\n",
      "}\n",
      "\n",
      "Point in space 2-Real has data\n",
      "{\n",
      "    \"x\": {\n",
      "        \"real\": 0.7284392879153955\n",
      "    },\n",
      "    \"y\": {\n",
      "        \"real\": 1.4198095459635094\n",
      "    }\n",
      "}\n",
      "\n",
      "Point in space 2-Real has data\n",
      "{\n",
      "    \"x\": {\n",
      "        \"real\": -2.321318575526753\n",
      "    },\n",
      "    \"y\": {\n",
      "        \"real\": -1.7874270196950064\n",
      "    }\n",
      "}\n",
      "\n"
     ]
    }
   ],
   "source": [
    "import numpy as np\n",
    "n = 3\n",
    "starting_positions = [R2point(float(np.random.randn()),float(np.random.randn())) for i in range(n)]\n",
    "\n",
    "print(starting_positions)\n",
    "print(\"\")\n",
    "for ipos in starting_positions:\n",
    "    print(ipos)\n"
   ]
  },
  {
   "cell_type": "code",
   "execution_count": 15,
   "metadata": {},
   "outputs": [
    {
     "ename": "TypeError",
     "evalue": "Point's data must be a dictionary",
     "output_type": "error",
     "traceback": [
      "\u001b[0;31m---------------------------------------------------------------------------\u001b[0m",
      "\u001b[0;31mTypeError\u001b[0m                                 Traceback (most recent call last)",
      "\u001b[1;32m/Users/zargham/Documents/GitHub/cadcad-ri/explore.ipynb Cell 18\u001b[0m in \u001b[0;36m<cell line: 5>\u001b[0;34m()\u001b[0m\n\u001b[1;32m      <a href='vscode-notebook-cell:/Users/zargham/Documents/GitHub/cadcad-ri/explore.ipynb#ch0000049?line=1'>2</a>\u001b[0m     data \u001b[39m=\u001b[39m [init_Bot(ipos, OO) \u001b[39mfor\u001b[39;00m ipos \u001b[39min\u001b[39;00m starting_positions]\n\u001b[1;32m      <a href='vscode-notebook-cell:/Users/zargham/Documents/GitHub/cadcad-ri/explore.ipynb#ch0000049?line=2'>3</a>\u001b[0m     \u001b[39mreturn\u001b[39;00m Point(BotArray, data)\n\u001b[0;32m----> <a href='vscode-notebook-cell:/Users/zargham/Documents/GitHub/cadcad-ri/explore.ipynb#ch0000049?line=4'>5</a>\u001b[0m myBotArray \u001b[39m=\u001b[39m init_Bots(starting_positions)\n\u001b[1;32m      <a href='vscode-notebook-cell:/Users/zargham/Documents/GitHub/cadcad-ri/explore.ipynb#ch0000049?line=5'>6</a>\u001b[0m \u001b[39mprint\u001b[39m(myBotArray)\n",
      "\u001b[1;32m/Users/zargham/Documents/GitHub/cadcad-ri/explore.ipynb Cell 18\u001b[0m in \u001b[0;36minit_Bots\u001b[0;34m(starting_positions)\u001b[0m\n\u001b[1;32m      <a href='vscode-notebook-cell:/Users/zargham/Documents/GitHub/cadcad-ri/explore.ipynb#ch0000049?line=0'>1</a>\u001b[0m \u001b[39mdef\u001b[39;00m \u001b[39minit_Bots\u001b[39m(starting_positions\u001b[39m=\u001b[39m\u001b[39mlist\u001b[39m[Point[R2]]):\n\u001b[1;32m      <a href='vscode-notebook-cell:/Users/zargham/Documents/GitHub/cadcad-ri/explore.ipynb#ch0000049?line=1'>2</a>\u001b[0m     data \u001b[39m=\u001b[39m [init_Bot(ipos, OO) \u001b[39mfor\u001b[39;00m ipos \u001b[39min\u001b[39;00m starting_positions]\n\u001b[0;32m----> <a href='vscode-notebook-cell:/Users/zargham/Documents/GitHub/cadcad-ri/explore.ipynb#ch0000049?line=2'>3</a>\u001b[0m     \u001b[39mreturn\u001b[39;00m Point(BotArray, data)\n",
      "File \u001b[0;32m~/Documents/GitHub/cadcad-ri/cadcad/trajectories.py:42\u001b[0m, in \u001b[0;36mPoint.__init__\u001b[0;34m(self, space, data, check_types)\u001b[0m\n\u001b[1;32m     39\u001b[0m dims \u001b[39m=\u001b[39m space\u001b[39m.\u001b[39mdimensions(as_types\u001b[39m=\u001b[39m\u001b[39mTrue\u001b[39;00m)  \u001b[39m# type: ignore\u001b[39;00m\n\u001b[1;32m     41\u001b[0m \u001b[39mif\u001b[39;00m \u001b[39mnot\u001b[39;00m \u001b[39misinstance\u001b[39m(data, Dict):\n\u001b[0;32m---> 42\u001b[0m     \u001b[39mraise\u001b[39;00m \u001b[39mTypeError\u001b[39;00m(\u001b[39m\"\u001b[39m\u001b[39mPoint\u001b[39m\u001b[39m'\u001b[39m\u001b[39ms data must be a dictionary\u001b[39m\u001b[39m\"\u001b[39m)\n\u001b[1;32m     44\u001b[0m \u001b[39mif\u001b[39;00m check_types:\n\u001b[1;32m     45\u001b[0m     \u001b[39mif\u001b[39;00m check_schema(dims, data):\n",
      "\u001b[0;31mTypeError\u001b[0m: Point's data must be a dictionary"
     ]
    }
   ],
   "source": [
    "\n",
    "def init_Bots(starting_positions=list[Point[R2]]):\n",
    "    data = [init_Bot(ipos, OO) for ipos in starting_positions]\n",
    "    return Point(BotArray, data)\n",
    "\n",
    "myBotArray = init_Bots(starting_positions)\n",
    "print(myBotArray)"
   ]
  },
  {
   "cell_type": "code",
   "execution_count": 17,
   "metadata": {},
   "outputs": [
    {
     "ename": "AttributeError",
     "evalue": "'list' object has no attribute 'data'",
     "output_type": "error",
     "traceback": [
      "\u001b[0;31m---------------------------------------------------------------------------\u001b[0m",
      "\u001b[0;31mAttributeError\u001b[0m                            Traceback (most recent call last)",
      "\u001b[1;32m/Users/zargham/Documents/GitHub/cadcad-ri/explore.ipynb Cell 19\u001b[0m in \u001b[0;36m<cell line: 5>\u001b[0;34m()\u001b[0m\n\u001b[1;32m      <a href='vscode-notebook-cell:/Users/zargham/Documents/GitHub/cadcad-ri/explore.ipynb#ch0000050?line=1'>2</a>\u001b[0m     bots \u001b[39m=\u001b[39m [init_Bot(ipos, OO) \u001b[39mfor\u001b[39;00m ipos \u001b[39min\u001b[39;00m starting_positions]\n\u001b[1;32m      <a href='vscode-notebook-cell:/Users/zargham/Documents/GitHub/cadcad-ri/explore.ipynb#ch0000050?line=2'>3</a>\u001b[0m     \u001b[39mreturn\u001b[39;00m Point(BotArray, [b\u001b[39m.\u001b[39mdata \u001b[39mfor\u001b[39;00m b \u001b[39min\u001b[39;00m bots])\n\u001b[0;32m----> <a href='vscode-notebook-cell:/Users/zargham/Documents/GitHub/cadcad-ri/explore.ipynb#ch0000050?line=4'>5</a>\u001b[0m myBotArray \u001b[39m=\u001b[39m init_Bot(starting_positions)\n\u001b[1;32m      <a href='vscode-notebook-cell:/Users/zargham/Documents/GitHub/cadcad-ri/explore.ipynb#ch0000050?line=5'>6</a>\u001b[0m \u001b[39mprint\u001b[39m(myBotArray)\n",
      "\u001b[1;32m/Users/zargham/Documents/GitHub/cadcad-ri/explore.ipynb Cell 19\u001b[0m in \u001b[0;36minit_Bot\u001b[0;34m(pos, vel)\u001b[0m\n\u001b[1;32m      <a href='vscode-notebook-cell:/Users/zargham/Documents/GitHub/cadcad-ri/explore.ipynb#ch0000050?line=0'>1</a>\u001b[0m \u001b[39mdef\u001b[39;00m \u001b[39minit_Bot\u001b[39m(pos\u001b[39m=\u001b[39mPoint[R2], vel\u001b[39m=\u001b[39mPoint[R2]):\n\u001b[0;32m----> <a href='vscode-notebook-cell:/Users/zargham/Documents/GitHub/cadcad-ri/explore.ipynb#ch0000050?line=1'>2</a>\u001b[0m     \u001b[39mreturn\u001b[39;00m Point(Bot, {\u001b[39m'\u001b[39m\u001b[39mposition\u001b[39m\u001b[39m'\u001b[39m:pos\u001b[39m.\u001b[39;49mdata, \u001b[39m'\u001b[39m\u001b[39mvelocity\u001b[39m\u001b[39m'\u001b[39m:vel\u001b[39m.\u001b[39mdata, \u001b[39m'\u001b[39m\u001b[39mradius\u001b[39m\u001b[39m'\u001b[39m:\u001b[39m.01\u001b[39m, \u001b[39m'\u001b[39m\u001b[39mis_working\u001b[39m\u001b[39m'\u001b[39m:\u001b[39mTrue\u001b[39;00m }, check_types\u001b[39m=\u001b[39m\u001b[39mFalse\u001b[39;00m)\n",
      "\u001b[0;31mAttributeError\u001b[0m: 'list' object has no attribute 'data'"
     ]
    }
   ],
   "source": [
    "def init_Bots(starting_positions=list[Point[R2]]):\n",
    "    bots = [init_Bot(ipos, OO) for ipos in starting_positions]\n",
    "    return Point(BotArray, [b.data for b in bots])\n",
    "\n",
    "myBotArray = init_Bot(starting_positions)\n",
    "print(myBotArray)"
   ]
  },
  {
   "cell_type": "markdown",
   "metadata": {},
   "source": [
    "It seems like the behavior of lists as part of spaces is a little tricky -- for example printing schema's doesn't handle lists clearly and when i use `myPoint.data` on dimensions with Type `list[MySpace]` it fails to get the data out. I think we might need some extra machinery for handling dimesions like `list[MySpace]`."
   ]
  },
  {
   "cell_type": "markdown",
   "metadata": {},
   "source": []
  }
 ],
 "metadata": {
  "interpreter": {
   "hash": "1a8de16e480ce6c374d7a7a0f904964a05926e5b58eea6a17940b28a68c7d599"
  },
  "kernelspec": {
   "display_name": "Python 3.10.4 ('py10')",
   "language": "python",
   "name": "python3"
  },
  "language_info": {
   "codemirror_mode": {
    "name": "ipython",
    "version": 3
   },
   "file_extension": ".py",
   "mimetype": "text/x-python",
   "name": "python",
   "nbconvert_exporter": "python",
   "pygments_lexer": "ipython3",
   "version": "3.10.4"
  },
  "orig_nbformat": 4
 },
 "nbformat": 4,
 "nbformat_minor": 2
}
