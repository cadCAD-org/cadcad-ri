{
 "cells": [
  {
   "cell_type": "code",
   "execution_count": 1,
   "metadata": {},
   "outputs": [],
   "source": [
    "from cadcad.spaces import space\n",
    "from cadcad.dynamics import block\n",
    "from cadcad.spaces import Bit, Real, Integer\n",
    "from cadcad.points import Point\n",
    "\n",
    "import numpy as np"
   ]
  },
  {
   "cell_type": "code",
   "execution_count": 2,
   "metadata": {},
   "outputs": [
    {
     "data": {
      "text/plain": [
       "['real_0', 'real_1']"
      ]
     },
     "execution_count": 2,
     "metadata": {},
     "output_type": "execute_result"
    }
   ],
   "source": [
    "R2 = Real**2\n",
    "\n",
    "R2dims = list(R2.dimensions().keys())\n",
    "R2dims"
   ]
  },
  {
   "cell_type": "code",
   "execution_count": 3,
   "metadata": {},
   "outputs": [
    {
     "data": {
      "text/plain": [
       "{'x': 'Real', 'y': 'Real'}"
      ]
     },
     "execution_count": 3,
     "metadata": {},
     "output_type": "execute_result"
    }
   ],
   "source": [
    "CartesianPlane = R2.rename_dims({R2dims[0]:'x', R2dims[1]:'y'})\n",
    "\n",
    "CartesianPlane.dimensions()"
   ]
  },
  {
   "cell_type": "code",
   "execution_count": 4,
   "metadata": {},
   "outputs": [
    {
     "data": {
      "text/plain": [
       "{'r': 'Real', 'theta': 'Real'}"
      ]
     },
     "execution_count": 4,
     "metadata": {},
     "output_type": "execute_result"
    }
   ],
   "source": [
    "PolarPlane = R2.rename_dims({R2dims[0]:'r', R2dims[1]:'theta'})\n",
    "\n",
    "PolarPlane.dimensions()"
   ]
  },
  {
   "cell_type": "code",
   "execution_count": 5,
   "metadata": {},
   "outputs": [
    {
     "data": {
      "text/plain": [
       "{'r': {'real': 'float'}, 'theta': {'real': 'float'}}"
      ]
     },
     "execution_count": 5,
     "metadata": {},
     "output_type": "execute_result"
    }
   ],
   "source": [
    "PolarPlane.unroll_schema()"
   ]
  },
  {
   "cell_type": "code",
   "execution_count": 6,
   "metadata": {},
   "outputs": [
    {
     "data": {
      "text/plain": [
       "{'x': {'real': 'float'}, 'y': {'real': 'float'}}"
      ]
     },
     "execution_count": 6,
     "metadata": {},
     "output_type": "execute_result"
    }
   ],
   "source": [
    "CartesianPlane.unroll_schema()"
   ]
  },
  {
   "cell_type": "code",
   "execution_count": 7,
   "metadata": {},
   "outputs": [],
   "source": [
    "x0y1 = Point(CartesianPlane, {'x':{'real':0.0}, 'y':{'real':1.0}})"
   ]
  },
  {
   "cell_type": "code",
   "execution_count": 8,
   "metadata": {},
   "outputs": [
    {
     "name": "stdout",
     "output_type": "stream",
     "text": [
      "Point in space 2-Real has data\n",
      "{\n",
      "    \"x\": {\n",
      "        \"real\": 0.0\n",
      "    },\n",
      "    \"y\": {\n",
      "        \"real\": 1.0\n",
      "    }\n",
      "}\n",
      "\n"
     ]
    }
   ],
   "source": [
    "print(x0y1)"
   ]
  },
  {
   "cell_type": "code",
   "execution_count": 9,
   "metadata": {},
   "outputs": [],
   "source": [
    "@block\n",
    "def cartesian2polar(domain: Point[CartesianPlane]) -> Point[PolarPlane]:\n",
    "    \n",
    "    x = domain[\"x\"][\"real\"]\n",
    "    y = domain[\"y\"][\"real\"]\n",
    "\n",
    "    r = np.sqrt(x**2+y**2)\n",
    "    if x==0:\n",
    "        theta = np.sign(y)*np.pi/2\n",
    "    else:\n",
    "        theta = np.arctan(y/x)\n",
    "\n",
    "    output = {\"r\":{\"real\":r}, \"theta\":{\"real\":theta} }\n",
    "\n",
    "    return Point(PolarPlane, output)\n",
    "\n",
    "@block\n",
    "def polar2cartesian(domain: Point[PolarPlane]) -> Point[CartesianPlane]:\n",
    "    \n",
    "    r = domain[\"r\"][\"real\"]\n",
    "    theta = domain[\"theta\"][\"real\"]\n",
    "\n",
    "    x = r*np.cos(theta)\n",
    "    y = r*np.sin(theta)\n",
    "\n",
    "    output = {\"x\":{\"real\":x}, \"y\":{\"real\":y} }\n",
    "\n",
    "    return Point(CartesianPlane, output)"
   ]
  },
  {
   "cell_type": "code",
   "execution_count": 10,
   "metadata": {},
   "outputs": [
    {
     "data": {
      "text/plain": [
       "Block(_Block__function=<function cartesian2polar at 0x7fbd50a51a20>, _Block__domain=cadcad.points.Point[cadcad.spaces.space.<locals>.NewSpace], _Block__codomain=cadcad.points.Point[cadcad.spaces.space.<locals>.NewSpace], _Block__param_space=None)"
      ]
     },
     "execution_count": 10,
     "metadata": {},
     "output_type": "execute_result"
    }
   ],
   "source": [
    "cartesian2polar"
   ]
  },
  {
   "cell_type": "code",
   "execution_count": 11,
   "metadata": {},
   "outputs": [
    {
     "data": {
      "text/plain": [
       "<cadcad.points.Point at 0x7fbd50a2a860>"
      ]
     },
     "execution_count": 11,
     "metadata": {},
     "output_type": "execute_result"
    }
   ],
   "source": [
    "cartesian2polar(x0y1)"
   ]
  },
  {
   "cell_type": "code",
   "execution_count": 12,
   "metadata": {},
   "outputs": [
    {
     "name": "stdout",
     "output_type": "stream",
     "text": [
      "Point in space 2-Real has data\n",
      "{\n",
      "    \"r\": {\n",
      "        \"real\": 1.0\n",
      "    },\n",
      "    \"theta\": {\n",
      "        \"real\": 1.5707963267948966\n",
      "    }\n",
      "}\n",
      "\n"
     ]
    }
   ],
   "source": [
    "print(cartesian2polar(x0y1))"
   ]
  },
  {
   "cell_type": "code",
   "execution_count": 13,
   "metadata": {},
   "outputs": [
    {
     "name": "stdout",
     "output_type": "stream",
     "text": [
      "Point in space 2-Real has data\n",
      "{\n",
      "    \"x\": {\n",
      "        \"real\": 6.123233995736766e-17\n",
      "    },\n",
      "    \"y\": {\n",
      "        \"real\": 1.0\n",
      "    }\n",
      "}\n",
      "\n"
     ]
    }
   ],
   "source": [
    "print(polar2cartesian(cartesian2polar(x0y1)))"
   ]
  },
  {
   "cell_type": "markdown",
   "metadata": {},
   "source": [
    "note that `1.5707963267948966` radians is `90` degrees. This leads me to want to rename the dimensions of this space such that\n",
    "\n",
    "```\n",
    "{\n",
    "    \"r\": {\n",
    "        \"real\": 1.0\n",
    "    },\n",
    "    \"theta\": {\n",
    "        \"radians\": 1.5707963267948966\n",
    "    }\n",
    "}\n",
    "```\n",
    "because then i can make a slightly different space which has\n",
    "```\n",
    "{\n",
    "    \"r\": {\n",
    "        \"real\": 1.0\n",
    "    },\n",
    "    \"theta\": {\n",
    "        \"degrees\": 90.0\n",
    "    }\n",
    "}\n",
    "```\n",
    "this helps us understand why there are benefits to using `Real`, instead of just `float`, the keys give us a way of clarifying units, and even encoding blocks to do unit conversions"
   ]
  },
  {
   "cell_type": "code",
   "execution_count": 14,
   "metadata": {},
   "outputs": [],
   "source": [
    "Radians = Real.rename_dims({'real':'radians'})\n",
    "Degrees = Real.rename_dims({'real':'degrees'})"
   ]
  },
  {
   "cell_type": "code",
   "execution_count": 15,
   "metadata": {},
   "outputs": [
    {
     "data": {
      "text/plain": [
       "{'radians': 'float'}"
      ]
     },
     "execution_count": 15,
     "metadata": {},
     "output_type": "execute_result"
    }
   ],
   "source": [
    "Radians.unroll_schema()"
   ]
  },
  {
   "cell_type": "code",
   "execution_count": 16,
   "metadata": {},
   "outputs": [],
   "source": [
    "@block\n",
    "def radians2degrees(domain: Point[Radians]) -> Point[Degrees]:\n",
    "    \n",
    "    input = domain[\"radians\"]\n",
    "    \n",
    "    output = input*180.0/np.pi\n",
    "\n",
    "    return Point(Degrees, {'degrees':output})\n",
    "\n",
    "@block\n",
    "def degrees2radians(domain: Point[Degrees]) -> Point[Radians]:\n",
    "    \n",
    "    input = domain[\"degrees\"]\n",
    "    \n",
    "    output = input*np.pi/180.0\n",
    "\n",
    "    return Point(Radians, {'radians':output})"
   ]
  },
  {
   "cell_type": "code",
   "execution_count": 17,
   "metadata": {},
   "outputs": [],
   "source": [
    "deg90 = Point(Degrees, {'degrees': 90.0})"
   ]
  },
  {
   "cell_type": "code",
   "execution_count": 18,
   "metadata": {},
   "outputs": [
    {
     "data": {
      "text/plain": [
       "<cadcad.points.Point at 0x7fbd50a2ba00>"
      ]
     },
     "execution_count": 18,
     "metadata": {},
     "output_type": "execute_result"
    }
   ],
   "source": [
    "deg90"
   ]
  },
  {
   "cell_type": "code",
   "execution_count": 19,
   "metadata": {},
   "outputs": [
    {
     "data": {
      "text/plain": [
       "cadcad.points.Point"
      ]
     },
     "execution_count": 19,
     "metadata": {},
     "output_type": "execute_result"
    }
   ],
   "source": [
    "type(deg90)"
   ]
  },
  {
   "cell_type": "code",
   "execution_count": 20,
   "metadata": {},
   "outputs": [
    {
     "data": {
      "text/plain": [
       "{'degrees': 90.0}"
      ]
     },
     "execution_count": 20,
     "metadata": {},
     "output_type": "execute_result"
    }
   ],
   "source": [
    "deg90.data"
   ]
  },
  {
   "cell_type": "code",
   "execution_count": 21,
   "metadata": {},
   "outputs": [
    {
     "name": "stdout",
     "output_type": "stream",
     "text": [
      "Point in space Real has data\n",
      "{\n",
      "    \"degrees\": 90.0\n",
      "}\n",
      "\n"
     ]
    }
   ],
   "source": [
    "print(deg90)"
   ]
  },
  {
   "cell_type": "code",
   "execution_count": 22,
   "metadata": {},
   "outputs": [],
   "source": [
    "radpt = degrees2radians(deg90)"
   ]
  },
  {
   "cell_type": "code",
   "execution_count": 23,
   "metadata": {},
   "outputs": [
    {
     "name": "stdout",
     "output_type": "stream",
     "text": [
      "Point in space Real has data\n",
      "{\n",
      "    \"radians\": 1.5707963267948966\n",
      "}\n",
      "\n"
     ]
    }
   ],
   "source": [
    "print(radpt)"
   ]
  },
  {
   "cell_type": "code",
   "execution_count": 24,
   "metadata": {},
   "outputs": [],
   "source": [
    "degpt = radians2degrees(radpt)"
   ]
  },
  {
   "cell_type": "code",
   "execution_count": 25,
   "metadata": {},
   "outputs": [
    {
     "name": "stdout",
     "output_type": "stream",
     "text": [
      "Point in space Real has data\n",
      "{\n",
      "    \"degrees\": 90.0\n",
      "}\n",
      "\n"
     ]
    }
   ],
   "source": [
    "print(degpt)"
   ]
  },
  {
   "cell_type": "code",
   "execution_count": null,
   "metadata": {},
   "outputs": [],
   "source": []
  }
 ],
 "metadata": {
  "kernelspec": {
   "display_name": "Python 3.10.4 ('py10')",
   "language": "python",
   "name": "python3"
  },
  "language_info": {
   "codemirror_mode": {
    "name": "ipython",
    "version": 3
   },
   "file_extension": ".py",
   "mimetype": "text/x-python",
   "name": "python",
   "nbconvert_exporter": "python",
   "pygments_lexer": "ipython3",
   "version": "3.10.4"
  },
  "orig_nbformat": 4,
  "vscode": {
   "interpreter": {
    "hash": "1a8de16e480ce6c374d7a7a0f904964a05926e5b58eea6a17940b28a68c7d599"
   }
  }
 },
 "nbformat": 4,
 "nbformat_minor": 2
}
