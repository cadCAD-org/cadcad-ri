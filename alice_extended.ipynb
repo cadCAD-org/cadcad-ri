{
 "cells": [
  {
   "cell_type": "code",
   "execution_count": 1,
   "metadata": {},
   "outputs": [],
   "source": [
    "from cadcad.spaces import space\n",
    "from cadcad.dynamics import block\n",
    "from cadcad.spaces import Bit, Real, Integer, EmptySpace\n",
    "from cadcad.points import Point\n",
    "from cadcad.systems import Experiment\n",
    "from copy import deepcopy\n",
    "import numpy as np\n",
    "import pandas as pd\n",
    "import matplotlib.pyplot as plt"
   ]
  },
  {
   "cell_type": "code",
   "execution_count": 2,
   "metadata": {},
   "outputs": [],
   "source": [
    "@space\n",
    "class CartesianPlane:\n",
    "    x:float\n",
    "    y:float"
   ]
  },
  {
   "cell_type": "code",
   "execution_count": 3,
   "metadata": {},
   "outputs": [],
   "source": [
    "@space\n",
    "class Particle:\n",
    "    pos:CartesianPlane\n",
    "    vel:CartesianPlane\n",
    "    # used to encode a constraint\n",
    "    #but this is exactly the kind of thing\n",
    "    #i would like to push into the model params\n",
    "    maxspeed : float"
   ]
  },
  {
   "cell_type": "code",
   "execution_count": 4,
   "metadata": {},
   "outputs": [],
   "source": [
    "@space\n",
    "class ObservedParticle:\n",
    "    pos:CartesianPlane\n",
    "    prev:CartesianPlane"
   ]
  },
  {
   "cell_type": "code",
   "execution_count": 75,
   "metadata": {},
   "outputs": [
    {
     "name": "stdout",
     "output_type": "stream",
     "text": [
      "{'EVADE': -1, 'PURSUE': 1}\n"
     ]
    }
   ],
   "source": [
    "from enum import Enum\n",
    "class Strategy(Enum):\n",
    "    EVADE: -1\n",
    "    PURSUE: 1\n",
    "\n",
    "print(Strategy.__annotations__)\n"
   ]
  },
  {
   "cell_type": "code",
   "execution_count": null,
   "metadata": {},
   "outputs": [],
   "source": [
    "\n",
    "@space\n",
    "class Agent:\n",
    "    plant: Particle\n",
    "    reference: ObservedParticle\n",
    "    strategy: Strategy"
   ]
  },
  {
   "cell_type": "code",
   "execution_count": 6,
   "metadata": {},
   "outputs": [],
   "source": [
    "\n",
    "#this block serves as a kind of constraint checker for Particle\n",
    "#i would like to be able to assign this block to the Space Paricle\n",
    "#as a builtin constraint\n",
    "@block\n",
    "def isValidParticle(domain:Point[Particle])-> Point[Bit]:\n",
    "    input = deepcopy(domain)\n",
    "    dx= input['vel']['x']\n",
    "    dy= input['vel']['y']\n",
    "\n",
    "    vmax = input['maxspeed']\n",
    "\n",
    "    output = {'bit':bool(dx**2+dy**2<=vmax**2)}\n",
    "\n",
    "    return Point(Bit, output)"
   ]
  },
  {
   "cell_type": "code",
   "execution_count": 7,
   "metadata": {},
   "outputs": [],
   "source": [
    "@block\n",
    "def projectValidParticle(domain:Point[Particle])-> Point[Particle]:\n",
    "    input = deepcopy(domain)\n",
    "\n",
    "    bit = isValidParticle(input)\n",
    "    output = input\n",
    "    if not(bit['bit']):\n",
    "        dx= input['vel']['x']\n",
    "        dy= input['vel']['y']\n",
    "        magnitude = np.sqrt(dx**2+dy**2)\n",
    "        output['vel']['x'] = input['maxspeed']*dx/magnitude\n",
    "        output['vel']['y'] = input['maxspeed']*dy/magnitude\n",
    "      \n",
    "    return output"
   ]
  },
  {
   "cell_type": "code",
   "execution_count": 8,
   "metadata": {},
   "outputs": [],
   "source": [
    "ParticleUpdateDomain = (Particle * CartesianPlane).rename_dims({'cartesianplane':\"acc\"})"
   ]
  },
  {
   "cell_type": "code",
   "execution_count": 9,
   "metadata": {},
   "outputs": [],
   "source": [
    "@block\n",
    "def particleSubspace(domain: Point[ParticleUpdateDomain])-> Point[Particle]:\n",
    "    input = deepcopy(domain)\n",
    "    return Point(Particle, input.data['particle'])"
   ]
  },
  {
   "cell_type": "code",
   "execution_count": 10,
   "metadata": {},
   "outputs": [],
   "source": [
    "@block\n",
    "def particleUpdate(domain:Point[ParticleUpdateDomain])-> Point[Particle]:\n",
    "    input = deepcopy(domain)\n",
    "    output = particleSubspace(input)\n",
    "\n",
    "    output['pos']['x']  += input['particle']['vel']['x']\n",
    "    output['pos']['y']  += input['particle']['vel']['y']\n",
    "\n",
    "    output['vel']['x']  += input['acc']['x']\n",
    "    output['vel']['y']  += input['acc']['y']\n",
    "\n",
    "    output = projectValidParticle(output)\n",
    "\n",
    "    return output"
   ]
  },
  {
   "cell_type": "code",
   "execution_count": 11,
   "metadata": {},
   "outputs": [],
   "source": [
    "@block\n",
    "def randomPoint(domain:Point[EmptySpace])-> Point[CartesianPlane]:\n",
    "    data = {}\n",
    "    data['x'] = .005+np.random.randn()/5.0\n",
    "    data['y'] = .005+np.random.randn()/5.0\n",
    "\n",
    "    return Point(CartesianPlane, data)\n",
    "\n",
    "@block\n",
    "def randomWalk(domain:Point[CartesianPlane])-> Point[CartesianPlane]:\n",
    "    input = domain\n",
    "    data = {}\n",
    "    data['x'] = input['x']+.005+np.random.randn()/5.0\n",
    "    data['y'] = input['y']+.005+np.random.randn()/5.0\n",
    "\n",
    "    return Point(CartesianPlane, data)"
   ]
  },
  {
   "cell_type": "code",
   "execution_count": 12,
   "metadata": {},
   "outputs": [],
   "source": [
    "emptyPoint = Point(EmptySpace,{})"
   ]
  },
  {
   "cell_type": "code",
   "execution_count": 13,
   "metadata": {},
   "outputs": [
    {
     "name": "stdout",
     "output_type": "stream",
     "text": [
      "Point in space CartesianPlane has data\n",
      "{\n",
      "    \"x\": -0.05724213414413116,\n",
      "    \"y\": -0.2627430991651672\n",
      "}\n",
      "\n"
     ]
    }
   ],
   "source": [
    "myPoint = randomPoint(emptyPoint)\n",
    "print(myPoint)"
   ]
  },
  {
   "cell_type": "code",
   "execution_count": 34,
   "metadata": {},
   "outputs": [],
   "source": [
    "experiment_params = {\"iteration_n\": 2, \"steps\": 25}\n",
    "my_experiment = Experiment(myPoint, experiment_params, (randomWalk,))\n",
    "\n",
    "results = my_experiment.run()"
   ]
  },
  {
   "cell_type": "code",
   "execution_count": 35,
   "metadata": {},
   "outputs": [],
   "source": [
    "def flattenHer(results, exp_params):\n",
    "    n = exp_params[\"iteration_n\"]\n",
    "    m = exp_params[\"steps\"]\n",
    "    dfs = []\n",
    "    for j in range(n):\n",
    "        d = results[j].data\n",
    "        r = np.zeros((m,2))\n",
    "        for i in range(m):\n",
    "\n",
    "            r[i,:]= [d[i]['x'], d[i]['y']]\n",
    "        df = pd.DataFrame(r, columns=['x','y'])\n",
    "        df[\"run\"]  = j\n",
    "        df['dx'] = df.x.diff().shift(-1)\n",
    "        df['dy'] = df.y.diff().shift(-1)\n",
    "        dfs.append(df)\n",
    "\n",
    "    return pd.concat(dfs)"
   ]
  },
  {
   "cell_type": "code",
   "execution_count": 36,
   "metadata": {},
   "outputs": [],
   "source": [
    "df=flattenHer(results, experiment_params)"
   ]
  },
  {
   "cell_type": "code",
   "execution_count": 37,
   "metadata": {},
   "outputs": [
    {
     "data": {
      "text/html": [
       "<div>\n",
       "<style scoped>\n",
       "    .dataframe tbody tr th:only-of-type {\n",
       "        vertical-align: middle;\n",
       "    }\n",
       "\n",
       "    .dataframe tbody tr th {\n",
       "        vertical-align: top;\n",
       "    }\n",
       "\n",
       "    .dataframe thead th {\n",
       "        text-align: right;\n",
       "    }\n",
       "</style>\n",
       "<table border=\"1\" class=\"dataframe\">\n",
       "  <thead>\n",
       "    <tr style=\"text-align: right;\">\n",
       "      <th></th>\n",
       "      <th>x</th>\n",
       "      <th>y</th>\n",
       "      <th>run</th>\n",
       "      <th>dx</th>\n",
       "      <th>dy</th>\n",
       "    </tr>\n",
       "  </thead>\n",
       "  <tbody>\n",
       "    <tr>\n",
       "      <th>0</th>\n",
       "      <td>0.021617</td>\n",
       "      <td>-0.173220</td>\n",
       "      <td>0</td>\n",
       "      <td>-0.119957</td>\n",
       "      <td>-0.089639</td>\n",
       "    </tr>\n",
       "    <tr>\n",
       "      <th>1</th>\n",
       "      <td>-0.098340</td>\n",
       "      <td>-0.262859</td>\n",
       "      <td>0</td>\n",
       "      <td>0.050673</td>\n",
       "      <td>-0.117738</td>\n",
       "    </tr>\n",
       "    <tr>\n",
       "      <th>2</th>\n",
       "      <td>-0.047667</td>\n",
       "      <td>-0.380597</td>\n",
       "      <td>0</td>\n",
       "      <td>0.369784</td>\n",
       "      <td>0.014235</td>\n",
       "    </tr>\n",
       "    <tr>\n",
       "      <th>3</th>\n",
       "      <td>0.322117</td>\n",
       "      <td>-0.366361</td>\n",
       "      <td>0</td>\n",
       "      <td>0.076461</td>\n",
       "      <td>-0.243816</td>\n",
       "    </tr>\n",
       "    <tr>\n",
       "      <th>4</th>\n",
       "      <td>0.398578</td>\n",
       "      <td>-0.610177</td>\n",
       "      <td>0</td>\n",
       "      <td>0.050438</td>\n",
       "      <td>0.286073</td>\n",
       "    </tr>\n",
       "  </tbody>\n",
       "</table>\n",
       "</div>"
      ],
      "text/plain": [
       "          x         y  run        dx        dy\n",
       "0  0.021617 -0.173220    0 -0.119957 -0.089639\n",
       "1 -0.098340 -0.262859    0  0.050673 -0.117738\n",
       "2 -0.047667 -0.380597    0  0.369784  0.014235\n",
       "3  0.322117 -0.366361    0  0.076461 -0.243816\n",
       "4  0.398578 -0.610177    0  0.050438  0.286073"
      ]
     },
     "execution_count": 37,
     "metadata": {},
     "output_type": "execute_result"
    }
   ],
   "source": [
    "df.head()"
   ]
  },
  {
   "cell_type": "code",
   "execution_count": 38,
   "metadata": {},
   "outputs": [
    {
     "data": {
      "image/png": "[encoded data removed]",
      "text/plain": [
       "<Figure size 432x288 with 1 Axes>"
      ]
     },
     "metadata": {
      "needs_background": "light"
     },
     "output_type": "display_data"
    },
    {
     "data": {
      "image/png": "[encoded data removed]",
      "text/plain": [
       "<Figure size 432x288 with 1 Axes>"
      ]
     },
     "metadata": {
      "needs_background": "light"
     },
     "output_type": "display_data"
    }
   ],
   "source": [
    "runs = df.run.unique()\n",
    "for k in runs:\n",
    "    df[df.run==k].plot(x=\"x\", y='y',kind=\"scatter\")\n",
    "    r = df[df.run==k].drop('run',axis=1).values\n",
    "    n = len(r)\n",
    "    for i in range(n):\n",
    "        plt.arrow(*r[i,:4], width = 0.01, \n",
    "        length_includes_head=True)"
   ]
  },
  {
   "cell_type": "code",
   "execution_count": 43,
   "metadata": {},
   "outputs": [
    {
     "data": {
      "text/plain": [
       "{'plant': {'pos': {'x': 'float', 'y': 'float'},\n",
       "  'vel': {'x': 'float', 'y': 'float'},\n",
       "  'maxspeed': 'float'},\n",
       " 'reference': {'pos': {'x': 'float', 'y': 'float'},\n",
       "  'prev': {'x': 'float', 'y': 'float'}},\n",
       " 'strategy': 'Strategy'}"
      ]
     },
     "execution_count": 43,
     "metadata": {},
     "output_type": "execute_result"
    }
   ],
   "source": [
    "Agent.unroll_schema()"
   ]
  },
  {
   "cell_type": "code",
   "execution_count": 50,
   "metadata": {},
   "outputs": [
    {
     "ename": "KeyError",
     "evalue": "'evade'",
     "output_type": "error",
     "traceback": [
      "\u001b[0;31m---------------------------------------------------------------------------\u001b[0m",
      "\u001b[0;31mKeyError\u001b[0m                                  Traceback (most recent call last)",
      "\u001b[1;32m/Users/zargham/Documents/GitHub/cadcad-ri/alice_extended.ipynb Cell 20\u001b[0m in \u001b[0;36m<cell line: 1>\u001b[0;34m()\u001b[0m\n\u001b[0;32m----> <a href='vscode-notebook-cell:/Users/zargham/Documents/GitHub/cadcad-ri/alice_extended.ipynb#X54sZmlsZQ%3D%3D?line=0'>1</a>\u001b[0m \u001b[39mprint\u001b[39m(Strategy[\u001b[39m'\u001b[39;49m\u001b[39mevade\u001b[39;49m\u001b[39m'\u001b[39;49m])\n",
      "File \u001b[0;32m~/opt/anaconda3/envs/py10/lib/python3.10/enum.py:440\u001b[0m, in \u001b[0;36mEnumMeta.__getitem__\u001b[0;34m(cls, name)\u001b[0m\n\u001b[1;32m    439\u001b[0m \u001b[39mdef\u001b[39;00m \u001b[39m__getitem__\u001b[39m(\u001b[39mcls\u001b[39m, name):\n\u001b[0;32m--> 440\u001b[0m     \u001b[39mreturn\u001b[39;00m \u001b[39mcls\u001b[39;49m\u001b[39m.\u001b[39;49m_member_map_[name]\n",
      "\u001b[0;31mKeyError\u001b[0m: 'evade'"
     ]
    }
   ],
   "source": []
  },
  {
   "cell_type": "code",
   "execution_count": 41,
   "metadata": {},
   "outputs": [],
   "source": [
    "@block\n",
    "def aliceDecision(domain:Point[Agent])->Point[CartesianPlane]:\n",
    "    alice = deepcopy(domain)\n",
    "    targetx = alice['reference']['pos']['x']\n",
    "    targety = alice['reference']['pos']['y']\n",
    "    \n",
    "    errorx = alice['plant']['pos']['x']-targetx\n",
    "    errory = alice['plant']['pos']['y']-targety\n",
    "\n",
    "    ##WIP\n",
    "\n",
    "@block\n",
    "def aliceDynamics(domain:Point[Agent])->Point[Agent]:\n",
    "    alice = deepcopy(domain)\n",
    "    acc = randomWalk(emptyPoint)\n",
    "    \n",
    "    arg_data = {}\n",
    "    arg_data['particle'] = alice.data\n",
    "    arg_data['acc'] = acc.data\n",
    "\n",
    "    args = Point(ParticleUpdateDomain, arg_data)\n",
    "\n",
    "    output = particleUpdate(args)\n",
    "\n",
    "    return output"
   ]
  },
  {
   "cell_type": "code",
   "execution_count": 42,
   "metadata": {},
   "outputs": [
    {
     "name": "stdout",
     "output_type": "stream",
     "text": [
      "Space CartesianPlane*CartesianPlane has dimensions {'prevPos': 'CartesianPlane', 'pos': 'CartesianPlane'}\n"
     ]
    }
   ],
   "source": []
  },
  {
   "cell_type": "code",
   "execution_count": null,
   "metadata": {},
   "outputs": [],
   "source": []
  },
  {
   "cell_type": "code",
   "execution_count": 18,
   "metadata": {},
   "outputs": [],
   "source": [
    "emptyPoint = Point(EmptySpace,{})\n",
    "\n"
   ]
  },
  {
   "cell_type": "code",
   "execution_count": 19,
   "metadata": {},
   "outputs": [
    {
     "data": {
      "text/plain": [
       "{'pos': {'x': 'float', 'y': 'float'},\n",
       " 'vel': {'x': 'float', 'y': 'float'},\n",
       " 'maxspeed': 'float'}"
      ]
     },
     "execution_count": 19,
     "metadata": {},
     "output_type": "execute_result"
    }
   ],
   "source": [
    "Particle.unroll_schema()"
   ]
  },
  {
   "cell_type": "code",
   "execution_count": 20,
   "metadata": {},
   "outputs": [
    {
     "ename": "ValueError",
     "evalue": "Schema mismatch between the Point's Space and the data given. Expected {'pos': <class 'cadcad.spaces.space.<locals>.NewSpace'>, 'vel': <class 'cadcad.spaces.space.<locals>.NewSpace'>, 'maxspeed': <class 'float'>}, but received [\"pos -> <class 'dict'>\", \"vel -> <class 'dict'>\", \"maxspeed -> <class 'float'>\"]",
     "output_type": "error",
     "traceback": [
      "\u001b[0;31m---------------------------------------------------------------------------\u001b[0m",
      "\u001b[0;31mValueError\u001b[0m                                Traceback (most recent call last)",
      "\u001b[1;32m/Users/zargham/Documents/GitHub/cadcad-ri/alice_extended.ipynb Cell 20\u001b[0m in \u001b[0;36m<cell line: 1>\u001b[0;34m()\u001b[0m\n\u001b[0;32m----> <a href='vscode-notebook-cell:/Users/zargham/Documents/GitHub/cadcad-ri/alice_extended.ipynb#X23sZmlsZQ%3D%3D?line=0'>1</a>\u001b[0m initAlice \u001b[39m=\u001b[39m Point(Particle, {\u001b[39m'\u001b[39;49m\u001b[39mpos\u001b[39;49m\u001b[39m'\u001b[39;49m: {\u001b[39m'\u001b[39;49m\u001b[39mx\u001b[39;49m\u001b[39m'\u001b[39;49m: \u001b[39m0.0\u001b[39;49m, \u001b[39m'\u001b[39;49m\u001b[39my\u001b[39;49m\u001b[39m'\u001b[39;49m: \u001b[39m0.0\u001b[39;49m},\n\u001b[1;32m      <a href='vscode-notebook-cell:/Users/zargham/Documents/GitHub/cadcad-ri/alice_extended.ipynb#X23sZmlsZQ%3D%3D?line=1'>2</a>\u001b[0m  \u001b[39m'\u001b[39;49m\u001b[39mvel\u001b[39;49m\u001b[39m'\u001b[39;49m: {\u001b[39m'\u001b[39;49m\u001b[39mdx\u001b[39;49m\u001b[39m'\u001b[39;49m: \u001b[39m-\u001b[39;49m\u001b[39m1.0\u001b[39;49m, \u001b[39m'\u001b[39;49m\u001b[39mdy\u001b[39;49m\u001b[39m'\u001b[39;49m: \u001b[39m-\u001b[39;49m\u001b[39m1.0\u001b[39;49m},\n\u001b[1;32m      <a href='vscode-notebook-cell:/Users/zargham/Documents/GitHub/cadcad-ri/alice_extended.ipynb#X23sZmlsZQ%3D%3D?line=2'>3</a>\u001b[0m  \u001b[39m'\u001b[39;49m\u001b[39mmaxspeed\u001b[39;49m\u001b[39m'\u001b[39;49m: \u001b[39m.2\u001b[39;49m})\n\u001b[1;32m      <a href='vscode-notebook-cell:/Users/zargham/Documents/GitHub/cadcad-ri/alice_extended.ipynb#X23sZmlsZQ%3D%3D?line=4'>5</a>\u001b[0m experiment_params \u001b[39m=\u001b[39m {\u001b[39m\"\u001b[39m\u001b[39miteration_n\u001b[39m\u001b[39m\"\u001b[39m: \u001b[39m5\u001b[39m, \u001b[39m\"\u001b[39m\u001b[39msteps\u001b[39m\u001b[39m\"\u001b[39m: \u001b[39m25\u001b[39m}\n\u001b[1;32m      <a href='vscode-notebook-cell:/Users/zargham/Documents/GitHub/cadcad-ri/alice_extended.ipynb#X23sZmlsZQ%3D%3D?line=5'>6</a>\u001b[0m my_experiment \u001b[39m=\u001b[39m Experiment(initAlice, experiment_params, (aliceDynamics,))\n",
      "File \u001b[0;32m~/Documents/GitHub/cadcad-ri/cadcad/points.py:52\u001b[0m, in \u001b[0;36mPoint.__init__\u001b[0;34m(self, space, data, check_types)\u001b[0m\n\u001b[1;32m     48\u001b[0m     \u001b[39melse\u001b[39;00m:\n\u001b[1;32m     49\u001b[0m         received_type \u001b[39m=\u001b[39m [\n\u001b[1;32m     50\u001b[0m             \u001b[39mf\u001b[39m\u001b[39m\"\u001b[39m\u001b[39m{\u001b[39;00mname\u001b[39m}\u001b[39;00m\u001b[39m -> \u001b[39m\u001b[39m{\u001b[39;00m\u001b[39mtype\u001b[39m(value)\u001b[39m}\u001b[39;00m\u001b[39m\"\u001b[39m \u001b[39mfor\u001b[39;00m name, value \u001b[39min\u001b[39;00m data\u001b[39m.\u001b[39mitems()\n\u001b[1;32m     51\u001b[0m         ]\n\u001b[0;32m---> 52\u001b[0m         \u001b[39mraise\u001b[39;00m \u001b[39mValueError\u001b[39;00m(\n\u001b[1;32m     53\u001b[0m             \u001b[39m\"\u001b[39m\u001b[39mSchema mismatch between the Point\u001b[39m\u001b[39m'\u001b[39m\u001b[39ms Space and the data given. \u001b[39m\u001b[39m\"\u001b[39m\n\u001b[1;32m     54\u001b[0m             \u001b[39m+\u001b[39m \u001b[39mf\u001b[39m\u001b[39m\"\u001b[39m\u001b[39mExpected \u001b[39m\u001b[39m{\u001b[39;00mdims\u001b[39m}\u001b[39;00m\u001b[39m, but received \u001b[39m\u001b[39m{\u001b[39;00mreceived_type\u001b[39m}\u001b[39;00m\u001b[39m\"\u001b[39m\n\u001b[1;32m     55\u001b[0m         )\n\u001b[1;32m     56\u001b[0m \u001b[39melse\u001b[39;00m:\n\u001b[1;32m     57\u001b[0m     \u001b[39mself\u001b[39m\u001b[39m.\u001b[39m__data \u001b[39m=\u001b[39m data\n",
      "\u001b[0;31mValueError\u001b[0m: Schema mismatch between the Point's Space and the data given. Expected {'pos': <class 'cadcad.spaces.space.<locals>.NewSpace'>, 'vel': <class 'cadcad.spaces.space.<locals>.NewSpace'>, 'maxspeed': <class 'float'>}, but received [\"pos -> <class 'dict'>\", \"vel -> <class 'dict'>\", \"maxspeed -> <class 'float'>\"]"
     ]
    }
   ],
   "source": [
    "initAlice = Point(Particle, {'pos': {'x': 0.0, 'y': 0.0},\n",
    " 'vel': {'dx': -1.0, 'dy': -1.0},\n",
    " 'maxspeed': .2})\n",
    "\n",
    "experiment_params = {\"iteration_n\": 5, \"steps\": 25}\n",
    "my_experiment = Experiment(initAlice, experiment_params, (aliceDynamics,))\n",
    "\n",
    "results = my_experiment.run()"
   ]
  },
  {
   "cell_type": "code",
   "execution_count": null,
   "metadata": {},
   "outputs": [
    {
     "data": {
      "text/plain": [
       "[<cadcad.systems.Trajectory at 0x7fe5783db9a0>,\n",
       " <cadcad.systems.Trajectory at 0x7fe588048f70>,\n",
       " <cadcad.systems.Trajectory at 0x7fe588193bb0>,\n",
       " <cadcad.systems.Trajectory at 0x7fe5881d3700>,\n",
       " <cadcad.systems.Trajectory at 0x7fe5881d1c90>]"
      ]
     },
     "execution_count": 13,
     "metadata": {},
     "output_type": "execute_result"
    }
   ],
   "source": [
    "results"
   ]
  },
  {
   "cell_type": "code",
   "execution_count": null,
   "metadata": {},
   "outputs": [],
   "source": [
    "def flattenHer(results, exp_params):\n",
    "    n = exp_params[\"iteration_n\"]\n",
    "    m = exp_params[\"steps\"]\n",
    "    dfs = []\n",
    "    for j in range(n):\n",
    "        d = results[j].data\n",
    "        r = np.zeros((m,4))\n",
    "        for i in range(m):\n",
    "\n",
    "            r[i,:]= [d[i]['pos']['x'], d[i]['pos']['y'],d[i]['vel']['dx'], d[i]['vel']['dy']]\n",
    "        df = pd.DataFrame(r, columns=['x','y','dx','dy'])\n",
    "        df[\"run\"]  = j\n",
    "        dfs.append(df)\n",
    "\n",
    "    return pd.concat(dfs)"
   ]
  },
  {
   "cell_type": "code",
   "execution_count": null,
   "metadata": {},
   "outputs": [],
   "source": [
    "df = flattenHer(results,experiment_params)"
   ]
  },
  {
   "cell_type": "code",
   "execution_count": null,
   "metadata": {},
   "outputs": [
    {
     "ename": "NameError",
     "evalue": "name 'df' is not defined",
     "output_type": "error",
     "traceback": [
      "\u001b[0;31m---------------------------------------------------------------------------\u001b[0m",
      "\u001b[0;31mNameError\u001b[0m                                 Traceback (most recent call last)",
      "\u001b[1;32m/Users/zargham/Documents/GitHub/cadcad-ri/alice_extended.ipynb Cell 23\u001b[0m in \u001b[0;36m<cell line: 1>\u001b[0;34m()\u001b[0m\n\u001b[0;32m----> <a href='vscode-notebook-cell:/Users/zargham/Documents/GitHub/cadcad-ri/alice_extended.ipynb#X44sZmlsZQ%3D%3D?line=0'>1</a>\u001b[0m df\n",
      "\u001b[0;31mNameError\u001b[0m: name 'df' is not defined"
     ]
    }
   ],
   "source": [
    "df"
   ]
  },
  {
   "cell_type": "code",
   "execution_count": null,
   "metadata": {},
   "outputs": [
    {
     "ename": "NameError",
     "evalue": "name 'df' is not defined",
     "output_type": "error",
     "traceback": [
      "\u001b[0;31m---------------------------------------------------------------------------\u001b[0m",
      "\u001b[0;31mNameError\u001b[0m                                 Traceback (most recent call last)",
      "\u001b[1;32m/Users/zargham/Documents/GitHub/cadcad-ri/alice_extended.ipynb Cell 23\u001b[0m in \u001b[0;36m<cell line: 1>\u001b[0;34m()\u001b[0m\n\u001b[0;32m----> <a href='vscode-notebook-cell:/Users/zargham/Documents/GitHub/cadcad-ri/alice_extended.ipynb#X30sZmlsZQ%3D%3D?line=0'>1</a>\u001b[0m runs \u001b[39m=\u001b[39m df\u001b[39m.\u001b[39mrun\u001b[39m.\u001b[39munique()\n\u001b[1;32m      <a href='vscode-notebook-cell:/Users/zargham/Documents/GitHub/cadcad-ri/alice_extended.ipynb#X30sZmlsZQ%3D%3D?line=1'>2</a>\u001b[0m \u001b[39mfor\u001b[39;00m k \u001b[39min\u001b[39;00m runs:\n\u001b[1;32m      <a href='vscode-notebook-cell:/Users/zargham/Documents/GitHub/cadcad-ri/alice_extended.ipynb#X30sZmlsZQ%3D%3D?line=2'>3</a>\u001b[0m     df[df\u001b[39m.\u001b[39mrun\u001b[39m==\u001b[39mk]\u001b[39m.\u001b[39mplot(x\u001b[39m=\u001b[39m\u001b[39m\"\u001b[39m\u001b[39mx\u001b[39m\u001b[39m\"\u001b[39m, y\u001b[39m=\u001b[39m\u001b[39m'\u001b[39m\u001b[39my\u001b[39m\u001b[39m'\u001b[39m,kind\u001b[39m=\u001b[39m\u001b[39m\"\u001b[39m\u001b[39mscatter\u001b[39m\u001b[39m\"\u001b[39m)\n",
      "\u001b[0;31mNameError\u001b[0m: name 'df' is not defined"
     ]
    }
   ],
   "source": [
    "runs = df.run.unique()\n",
    "for k in runs:\n",
    "    df[df.run==k].plot(x=\"x\", y='y',kind=\"scatter\")\n",
    "    r = df[df.run==k].values\n",
    "    n = len(r)\n",
    "    for i in range(n):\n",
    "        plt.arrow(*r[i,:4], width = 0.01, \n",
    "        length_includes_head=True)"
   ]
  },
  {
   "cell_type": "code",
   "execution_count": null,
   "metadata": {},
   "outputs": [],
   "source": []
  }
 ],
 "metadata": {
  "kernelspec": {
   "display_name": "Python 3.10.4 ('py10')",
   "language": "python",
   "name": "python3"
  },
  "language_info": {
   "codemirror_mode": {
    "name": "ipython",
    "version": 3
   },
   "file_extension": ".py",
   "mimetype": "text/x-python",
   "name": "python",
   "nbconvert_exporter": "python",
   "pygments_lexer": "ipython3",
   "version": "3.10.4"
  },
  "orig_nbformat": 4,
  "vscode": {
   "interpreter": {
    "hash": "1a8de16e480ce6c374d7a7a0f904964a05926e5b58eea6a17940b28a68c7d599"
   }
  }
 },
 "nbformat": 4,
 "nbformat_minor": 2
}
