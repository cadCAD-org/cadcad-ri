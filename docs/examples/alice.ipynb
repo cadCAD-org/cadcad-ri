{
 "cells": [
  {
   "cell_type": "code",
   "execution_count": null,
   "metadata": {},
   "outputs": [],
   "source": [
    "from cadcad.spaces import space\n",
    "from cadcad.dynamics import block\n",
    "from cadcad.spaces import Bit, Real, Integer, EmptySpace\n",
    "from cadcad.points import Point\n",
    "from cadcad.systems import Experiment\n",
    "from copy import deepcopy\n",
    "import numpy as np\n",
    "import pandas as pd\n",
    "import matplotlib.pyplot as plt"
   ]
  },
  {
   "cell_type": "code",
   "execution_count": null,
   "metadata": {},
   "outputs": [],
   "source": [
    "@space\n",
    "class CartesianPlane:\n",
    "    x:float\n",
    "    y:float\n",
    "\n",
    "my_point = Point(CartesianPlane, data)\n",
    "\n",
    "CartesianPlaneDot = CartesianPlane.rename_dims({'x':'dx', 'y':'dy'})"
   ]
  },
  {
   "cell_type": "code",
   "execution_count": null,
   "metadata": {},
   "outputs": [],
   "source": [
    "@space\n",
    "class Particle:\n",
    "    pos:CartesianPlane\n",
    "    vel:CartesianPlaneDot\n",
    "    # used to encode a constraint\n",
    "    #but this is exactly the kind of thing\n",
    "    #i would like to push into the model params\n",
    "    maxspeed : float"
   ]
  },
  {
   "cell_type": "code",
   "execution_count": null,
   "metadata": {},
   "outputs": [],
   "source": [
    "\n",
    "#this block serves as a kind of constraint checker for Particle\n",
    "#i would like to be able to assign this block to the Space Paricle\n",
    "#as a builtin constraint\n",
    "@block\n",
    "def isValidParticle(domain:Point[Particle])-> Point[Bit]:\n",
    "    input = deepcopy(domain)\n",
    "    dx= input['vel']['dx']\n",
    "    dy= input['vel']['dy']\n",
    "\n",
    "    vmax = input['maxspeed']\n",
    "\n",
    "    output = {'bit':bool(dx**2+dy**2<=vmax**2)}\n",
    "\n",
    "    return Point(Bit, output)"
   ]
  },
  {
   "cell_type": "code",
   "execution_count": null,
   "metadata": {},
   "outputs": [],
   "source": [
    "@block\n",
    "def projectValidParticle(domain:Point[Particle])-> Point[Particle]:\n",
    "    input = deepcopy(domain)\n",
    "\n",
    "    bit = isValidParticle(input)\n",
    "    output = input\n",
    "    if not(bit['bit']):\n",
    "        dx= input['vel']['dx']\n",
    "        dy= input['vel']['dy']\n",
    "        magnitude = np.sqrt(dx**2+dy**2)\n",
    "        output['vel']['dx'] = input['maxspeed']*dx/magnitude\n",
    "        output['vel']['dy'] = input['maxspeed']*dy/magnitude\n",
    "      \n",
    "    return output"
   ]
  },
  {
   "attachments": {},
   "cell_type": "markdown",
   "metadata": {},
   "source": [
    "Point[Particle] -> projectValidParticle -> isValidParticle -> fromBitToParticle -> Point[Particle]\n",
    "\n",
    "(projectValidParticle, isValidParticle, fromBitToParticle)"
   ]
  },
  {
   "cell_type": "code",
   "execution_count": null,
   "metadata": {},
   "outputs": [],
   "source": [
    "Acc = CartesianPlane.rename_dims({'x':'ddx', 'y':'ddy'})\n",
    "AliceUpdateDomain = (Particle * Acc).rename_dims({'cartesianplane':\"acc\"})\n"
   ]
  },
  {
   "cell_type": "code",
   "execution_count": null,
   "metadata": {},
   "outputs": [],
   "source": [
    "@block\n",
    "def particleSubspace(domain: Point[AliceUpdateDomain])-> Point[Particle]:\n",
    "    input = deepcopy(domain)\n",
    "    return Point(Particle, input.data['particle'])"
   ]
  },
  {
   "cell_type": "code",
   "execution_count": null,
   "metadata": {},
   "outputs": [],
   "source": [
    "@block\n",
    "def aliceUpdate(domain:Point[AliceUpdateDomain])-> Point[Particle]:\n",
    "    input = deepcopy(domain)\n",
    "    output = particleSubspace(input)\n",
    "\n",
    "    output['pos']['x']  += input['particle']['vel']['dx']\n",
    "    output['pos']['y']  += input['particle']['vel']['dy']\n",
    "\n",
    "    output['vel']['dx']  += input['acc']['ddx']\n",
    "    output['vel']['dy']  += input['acc']['ddy']\n",
    "\n",
    "    output = projectValidParticle(output)\n",
    "\n",
    "    return output"
   ]
  },
  {
   "cell_type": "code",
   "execution_count": null,
   "metadata": {},
   "outputs": [],
   "source": [
    "@block\n",
    "def randomWalk(domain:Point[EmptySpace])-> Point[Acc]:\n",
    "    data = {}\n",
    "    data['ddx'] = .005+np.random.randn()/5.0\n",
    "    data['ddy'] = .005+np.random.randn()/5.0\n",
    "\n",
    "    return Point(Acc, data)"
   ]
  },
  {
   "cell_type": "code",
   "execution_count": null,
   "metadata": {},
   "outputs": [],
   "source": [
    "emptyPoint = Point(EmptySpace,{})\n",
    "\n",
    "@block\n",
    "def aliceDynamics(domain:Point[Particle])->Point[Particle]:\n",
    "    alice = deepcopy(domain)\n",
    "    acc = randomWalk(emptyPoint)\n",
    "    \n",
    "    arg_data = {}\n",
    "    arg_data['particle'] = alice.data\n",
    "    arg_data['acc'] = acc.data\n",
    "\n",
    "    args = Point(AliceUpdateDomain, arg_data)\n",
    "\n",
    "    output = aliceUpdate(args)\n",
    "\n",
    "    return output"
   ]
  },
  {
   "cell_type": "code",
   "execution_count": null,
   "metadata": {},
   "outputs": [],
   "source": [
    "Particle.unroll_schema()"
   ]
  },
  {
   "cell_type": "code",
   "execution_count": null,
   "metadata": {},
   "outputs": [],
   "source": [
    "initAlice = Point(Particle, {'pos': {'x': 0.0, 'y': 0.0},\n",
    " 'vel': {'dx': -1.0, 'dy': -1.0},\n",
    " 'maxspeed': .2})\n",
    "\n",
    "experiment_params = {\"iteration_n\": 5, \"steps\": 25}\n",
    "my_experiment = Experiment(initAlice, experiment_params, (aliceDynamics,))\n",
    "\n",
    "results = my_experiment.run()"
   ]
  },
  {
   "cell_type": "code",
   "execution_count": null,
   "metadata": {},
   "outputs": [],
   "source": [
    "results"
   ]
  },
  {
   "cell_type": "code",
   "execution_count": null,
   "metadata": {},
   "outputs": [],
   "source": [
    "def flattenHer(results, exp_params):\n",
    "    n = exp_params[\"iteration_n\"]\n",
    "    m = exp_params[\"steps\"]\n",
    "    dfs = []\n",
    "    for j in range(n):\n",
    "        d = results[j].data\n",
    "        r = np.zeros((m,4))\n",
    "        for i in range(m):\n",
    "\n",
    "            r[i,:]= [d[i]['pos']['x'], d[i]['pos']['y'],d[i]['vel']['dx'], d[i]['vel']['dy']]\n",
    "        df = pd.DataFrame(r, columns=['x','y','dx','dy'])\n",
    "        df[\"run\"]  = j\n",
    "        dfs.append(df)\n",
    "\n",
    "    return pd.concat(dfs)"
   ]
  },
  {
   "cell_type": "code",
   "execution_count": null,
   "metadata": {},
   "outputs": [],
   "source": [
    "df = flattenHer(results,experiment_params)"
   ]
  },
  {
   "cell_type": "code",
   "execution_count": null,
   "metadata": {},
   "outputs": [],
   "source": [
    "runs = df.run.unique()\n",
    "for k in runs:\n",
    "    df[df.run==k].plot(x=\"x\", y='y',kind=\"scatter\")\n",
    "    r = df[df.run==k].values\n",
    "    n = len(r)\n",
    "    for i in range(n):\n",
    "        plt.arrow(*r[i,:4], width = 0.01, \n",
    "        length_includes_head=True)"
   ]
  }
 ],
 "metadata": {
  "kernelspec": {
   "display_name": ".venv",
   "language": "python",
   "name": "python3"
  },
  "language_info": {
   "codemirror_mode": {
    "name": "ipython",
    "version": 3
   },
   "file_extension": ".py",
   "mimetype": "text/x-python",
   "name": "python",
   "nbconvert_exporter": "python",
   "pygments_lexer": "ipython3",
   "version": "3.10.8 (main, Nov  1 2022, 14:18:21) [GCC 12.2.0]"
  },
  "orig_nbformat": 4,
  "vscode": {
   "interpreter": {
    "hash": "516d0b297557f9226af8007786efcd377b7d177a43ba67ce9ca1e668e16aeb52"
   }
  }
 },
 "nbformat": 4,
 "nbformat_minor": 2
}
