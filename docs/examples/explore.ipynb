{
 "cells": [
  {
   "cell_type": "code",
   "execution_count": 1,
   "metadata": {},
   "outputs": [],
   "source": [
    "from cadcad.spaces import space\n",
    "from cadcad.spaces import Bit, Real, Integer\n",
    "from cadcad.points import Point"
   ]
  },
  {
   "cell_type": "code",
   "execution_count": null,
   "metadata": {},
   "outputs": [],
   "source": []
  },
  {
   "cell_type": "markdown",
   "metadata": {},
   "source": [
    "The Purpose of this notebook is to experiment with spaces and points"
   ]
  },
  {
   "cell_type": "code",
   "execution_count": 2,
   "metadata": {},
   "outputs": [
    {
     "data": {
      "text/plain": [
       "['real_0', 'real_1']"
      ]
     },
     "execution_count": 2,
     "metadata": {},
     "output_type": "execute_result"
    }
   ],
   "source": [
    "R2 = Real**2\n",
    "\n",
    "R2dims = list(R2.dimensions().keys())\n",
    "R2dims"
   ]
  },
  {
   "cell_type": "code",
   "execution_count": 3,
   "metadata": {},
   "outputs": [
    {
     "data": {
      "text/plain": [
       "{'x': 'Real', 'y': 'Real'}"
      ]
     },
     "execution_count": 3,
     "metadata": {},
     "output_type": "execute_result"
    }
   ],
   "source": [
    "R2 = R2.rename_dims({R2dims[0]:'x', R2dims[1]:'y'})\n",
    "\n",
    "R2.dimensions()"
   ]
  },
  {
   "cell_type": "code",
   "execution_count": 4,
   "metadata": {},
   "outputs": [],
   "source": [
    "@space\n",
    "class Bot:\n",
    "    position: R2 #location of the bot on a 2D grid\n",
    "    velocity: R2 #rate of change of position on a 2D grid\n",
    "    radius: float #how big around is the robot\n",
    "    is_working: bool #if the robot crashes (into another robot) they cease to function\n",
    "\n",
    "@space\n",
    "class BotArray:\n",
    "    bots: list[Bot]"
   ]
  },
  {
   "cell_type": "code",
   "execution_count": 5,
   "metadata": {},
   "outputs": [
    {
     "data": {
      "text/plain": [
       "{'bots': 'list'}"
      ]
     },
     "execution_count": 5,
     "metadata": {},
     "output_type": "execute_result"
    }
   ],
   "source": [
    "BotArray.dimensions()"
   ]
  },
  {
   "cell_type": "markdown",
   "metadata": {},
   "source": [
    "It seems to me that we shoukd change the way `unroll_schema()` handles lists to incude details about the class it is a list of. "
   ]
  },
  {
   "cell_type": "code",
   "execution_count": 6,
   "metadata": {},
   "outputs": [
    {
     "data": {
      "text/plain": [
       "{'position': {'x': {'real': 'float'}, 'y': {'real': 'float'}},\n",
       " 'velocity': {'x': {'real': 'float'}, 'y': {'real': 'float'}},\n",
       " 'radius': 'float',\n",
       " 'is_working': 'bool'}"
      ]
     },
     "execution_count": 6,
     "metadata": {},
     "output_type": "execute_result"
    }
   ],
   "source": [
    "Bot.unroll_schema()"
   ]
  },
  {
   "cell_type": "markdown",
   "metadata": {},
   "source": [
    "Now let's make some points"
   ]
  },
  {
   "cell_type": "code",
   "execution_count": 7,
   "metadata": {},
   "outputs": [
    {
     "data": {
      "text/plain": [
       "{'real': 'float'}"
      ]
     },
     "execution_count": 7,
     "metadata": {},
     "output_type": "execute_result"
    }
   ],
   "source": [
    "Real.unroll_schema()"
   ]
  },
  {
   "cell_type": "code",
   "execution_count": 8,
   "metadata": {},
   "outputs": [
    {
     "name": "stdout",
     "output_type": "stream",
     "text": [
      "Point in space Real has data\n",
      "{\n",
      "    \"real\": 0.0\n",
      "}\n",
      "\n"
     ]
    }
   ],
   "source": [
    "zero = Point(Real, {'real':0.0})\n",
    "\n",
    "print(zero)"
   ]
  },
  {
   "cell_type": "code",
   "execution_count": 9,
   "metadata": {},
   "outputs": [
    {
     "data": {
      "text/plain": [
       "{'real': 0.0}"
      ]
     },
     "execution_count": 9,
     "metadata": {},
     "output_type": "execute_result"
    }
   ],
   "source": [
    "zero.data"
   ]
  },
  {
   "cell_type": "code",
   "execution_count": 10,
   "metadata": {},
   "outputs": [
    {
     "name": "stdout",
     "output_type": "stream",
     "text": [
      "Point in space 2-Real has data\n",
      "{\n",
      "    \"x\": {\n",
      "        \"real\": 0.0\n",
      "    },\n",
      "    \"y\": {\n",
      "        \"real\": 0.0\n",
      "    }\n",
      "}\n",
      "\n"
     ]
    }
   ],
   "source": [
    "def R2point(x,y):\n",
    "    xpt_data = {'real':x}\n",
    "    ypt_data = {'real':y}\n",
    "    return Point(R2,{'x': xpt_data, 'y': ypt_data})\n",
    "\n",
    "OO = R2point(0.0,0.0) \n",
    "\n",
    "print(OO)"
   ]
  },
  {
   "cell_type": "code",
   "execution_count": 11,
   "metadata": {},
   "outputs": [
    {
     "data": {
      "text/plain": [
       "{'x': {'real': 0.0}, 'y': {'real': 0.0}}"
      ]
     },
     "execution_count": 11,
     "metadata": {},
     "output_type": "execute_result"
    }
   ],
   "source": [
    "OO.data"
   ]
  },
  {
   "cell_type": "code",
   "execution_count": 12,
   "metadata": {},
   "outputs": [],
   "source": [
    "def init_Bot(pos:Point[R2], vel:Point[R2]):\n",
    "    return Point(Bot, {'position':pos.data, 'velocity':vel.data, 'radius':.01, 'is_working':True })\n",
    "\n",
    "bot_naught = init_Bot(OO, OO)"
   ]
  },
  {
   "cell_type": "code",
   "execution_count": 13,
   "metadata": {},
   "outputs": [
    {
     "name": "stdout",
     "output_type": "stream",
     "text": [
      "{'position': {'x': {'real': 0.0}, 'y': {'real': 0.0}}, 'velocity': {'x': {'real': 0.0}, 'y': {'real': 0.0}}, 'radius': 0.01, 'is_working': True}\n"
     ]
    }
   ],
   "source": [
    "print(bot_naught.data)"
   ]
  },
  {
   "cell_type": "code",
   "execution_count": 14,
   "metadata": {},
   "outputs": [
    {
     "name": "stdout",
     "output_type": "stream",
     "text": [
      "Point in space 2-Real has data\n",
      "{\n",
      "    \"x\": {\n",
      "        \"real\": -0.7622920152410797\n",
      "    },\n",
      "    \"y\": {\n",
      "        \"real\": -2.1636620723096938\n",
      "    }\n",
      "}\n",
      "\n",
      "Point in space 2-Real has data\n",
      "{\n",
      "    \"x\": {\n",
      "        \"real\": 0.43969544141043176\n",
      "    },\n",
      "    \"y\": {\n",
      "        \"real\": -1.2546343172606018\n",
      "    }\n",
      "}\n",
      "\n",
      "Point in space 2-Real has data\n",
      "{\n",
      "    \"x\": {\n",
      "        \"real\": -1.0719949503847377\n",
      "    },\n",
      "    \"y\": {\n",
      "        \"real\": 0.5390098591823834\n",
      "    }\n",
      "}\n",
      "\n"
     ]
    }
   ],
   "source": [
    "import numpy as np\n",
    "n = 3\n",
    "starting_positions = [R2point(float(np.random.randn()),float(np.random.randn())) for i in range(n)]\n",
    "\n",
    "for ipos in starting_positions:\n",
    "    print(ipos)\n"
   ]
  },
  {
   "cell_type": "code",
   "execution_count": 15,
   "metadata": {},
   "outputs": [
    {
     "name": "stdout",
     "output_type": "stream",
     "text": [
      "Point in space BotArray has data\n",
      "{\n",
      "    \"bots\": [\n",
      "        {\n",
      "            \"position\": {\n",
      "                \"x\": {\n",
      "                    \"real\": -0.7622920152410797\n",
      "                },\n",
      "                \"y\": {\n",
      "                    \"real\": -2.1636620723096938\n",
      "                }\n",
      "            },\n",
      "            \"velocity\": {\n",
      "                \"x\": {\n",
      "                    \"real\": 0.0\n",
      "                },\n",
      "                \"y\": {\n",
      "                    \"real\": 0.0\n",
      "                }\n",
      "            },\n",
      "            \"radius\": 0.01,\n",
      "            \"is_working\": true\n",
      "        },\n",
      "        {\n",
      "            \"position\": {\n",
      "                \"x\": {\n",
      "                    \"real\": 0.43969544141043176\n",
      "                },\n",
      "                \"y\": {\n",
      "                    \"real\": -1.2546343172606018\n",
      "                }\n",
      "            },\n",
      "            \"velocity\": {\n",
      "                \"x\": {\n",
      "                    \"real\": 0.0\n",
      "                },\n",
      "                \"y\": {\n",
      "                    \"real\": 0.0\n",
      "                }\n",
      "            },\n",
      "            \"radius\": 0.01,\n",
      "            \"is_working\": true\n",
      "        },\n",
      "        {\n",
      "            \"position\": {\n",
      "                \"x\": {\n",
      "                    \"real\": -1.0719949503847377\n",
      "                },\n",
      "                \"y\": {\n",
      "                    \"real\": 0.5390098591823834\n",
      "                }\n",
      "            },\n",
      "            \"velocity\": {\n",
      "                \"x\": {\n",
      "                    \"real\": 0.0\n",
      "                },\n",
      "                \"y\": {\n",
      "                    \"real\": 0.0\n",
      "                }\n",
      "            },\n",
      "            \"radius\": 0.01,\n",
      "            \"is_working\": true\n",
      "        }\n",
      "    ]\n",
      "}\n",
      "\n"
     ]
    }
   ],
   "source": [
    "def init_Bots(starting_positions:list[Point[R2]]):\n",
    "    data = [init_Bot(ipos, OO).data for ipos in starting_positions]\n",
    "    return Point(BotArray, {'bots': data}) # {'bots': data}\n",
    "\n",
    "myBotArray = init_Bots(starting_positions)\n",
    "print(myBotArray)"
   ]
  }
 ],
 "metadata": {
  "kernelspec": {
   "display_name": "Python 3.10.4 ('py10')",
   "language": "python",
   "name": "python3"
  },
  "language_info": {
   "codemirror_mode": {
    "name": "ipython",
    "version": 3
   },
   "file_extension": ".py",
   "mimetype": "text/x-python",
   "name": "python",
   "nbconvert_exporter": "python",
   "pygments_lexer": "ipython3",
   "version": "3.10.4"
  },
  "vscode": {
   "interpreter": {
    "hash": "1a8de16e480ce6c374d7a7a0f904964a05926e5b58eea6a17940b28a68c7d599"
   }
  }
 },
 "nbformat": 4,
 "nbformat_minor": 2
}
